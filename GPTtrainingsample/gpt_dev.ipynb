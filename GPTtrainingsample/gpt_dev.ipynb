{
  "cells": [
    {
      "cell_type": "code",
      "execution_count": 1,
      "metadata": {
        "colab": {
          "base_uri": "https://localhost:8080/"
        },
        "id": "h5hjCcLDr2WC",
        "outputId": "655f36ad-9714-45e0-fde1-f49911b32931"
      },
      "outputs": [],
      "source": [
        "# These may be required if you do not have them\n",
        "import torch\n",
        "import torch.nn"
      ]
    },
    {
      "cell_type": "code",
      "execution_count": 2,
      "metadata": {
        "id": "O6medjfRsLD9"
      },
      "outputs": [],
      "source": [
        "# read it in to inspect it\n",
        "with open('input.txt', 'r', encoding='utf-8') as f:\n",
        "    text = f.read()"
      ]
    },
    {
      "cell_type": "code",
      "execution_count": 3,
      "metadata": {
        "colab": {
          "base_uri": "https://localhost:8080/"
        },
        "id": "6xWI_VyAsN8F",
        "outputId": "3e685abc-b7e7-47bd-cfa3-f7abb16e648c"
      },
      "outputs": [
        {
          "name": "stdout",
          "output_type": "stream",
          "text": [
            "length of dataset in characters:  93215\n"
          ]
        }
      ],
      "source": [
        "print(\"length of dataset in characters: \", len(text))"
      ]
    },
    {
      "cell_type": "code",
      "execution_count": 4,
      "metadata": {
        "colab": {
          "base_uri": "https://localhost:8080/"
        },
        "id": "2c5V0FvqseE0",
        "outputId": "b243833b-9ddb-4568-af74-e384fe5bd29e"
      },
      "outputs": [
        {
          "name": "stdout",
          "output_type": "stream",
          "text": [
            "Aaargh\n",
            "Aaliyah\n",
            "Aaron\n",
            "Ab\n",
            "Ababa\n",
            "Abba\n",
            "Abbey\n",
            "Abbey Roads\n",
            "Abbie\n",
            "Abbot\n",
            "Abbott\n",
            "Abby\n",
            "Abbykitty\n",
            "Abcat\n",
            "Abdul\n",
            "Abe\n",
            "Abednego\n",
            "Abegale\n",
            "Abel\n",
            "Abelard\n",
            "Abendigo\n",
            "Abercrombie\n",
            "Aberdeen\n",
            "Abi\n",
            "Abigail\n",
            "Abigail Von Buttons\n",
            "Abilene\n",
            "Able\n",
            "Abner\n",
            "Abra\n",
            "Abra\n",
            "Abracadabra\n",
            "Abraham\n",
            "Abraxas\n",
            "Abrico\n",
            "Abs\n",
            "Absinthe\n",
            "Absolon\n",
            "Absolut\n",
            "Abstraction\n",
            "Abu\n",
            "Abubu\n",
            "Aby\n",
            "Abyss\n",
            "Acat\n",
            "Ace\n",
            "Ace Baby Toadflakes\n",
            "Ace Of Spades\n",
            "Acey\n",
            "Achille\n",
            "Achilles\n",
            "Acis\n",
            "Ackerly\n",
            "Acorn\n",
            "Acrolina\n",
            "Acroy\n",
            "Action\n",
            "Ada\n",
            "Ada Jane\n",
            "Adacat\n",
            "Adagio\n",
            "Adakin Skywalker\n",
            "Adam\n",
            "Adams\n",
            "Adcom\n",
            "Addie\n",
            "Addis\n",
            "Addison\n",
            "Addy\n",
            "Adelaida\n",
            "Adelaide\n",
            "Ademma\n",
            "Adidas\n",
            "Adirondak\n",
            "Adiza\n",
            "Adlai\n",
            "Adler\n",
            "Admetus\n",
            "Admiral\n",
            "Adobe\n",
            "Adolph\n",
            "Adom\n",
            "Adonis\n",
            "Adrian\n",
            "Adriatic\n",
            "Adrock\n",
            "Advance Cat\n",
            "Aegyptos\n",
            "Aelgifa\n",
            "Aelurus\n",
            "Aenias\n",
            "Aeolus\n",
            "Aerope\n",
            "Aeros\n",
            "Aesop\n",
            "Aethelwyn\n",
            "Aethra\n",
            "Affinity\n",
            "Afikoman\n",
            "Afonia\n",
            "Africa\n",
            "African Queen\n",
            "Afrikan\n",
            "Afrikat\n",
            "Agadore\n",
            "Agamemnon\n",
            "Agape\n",
            "Agassi\n",
            "Agatha\n",
            "Agatha Christie\n",
            "Agatha Christy\n",
            "Agent Z\n",
            "Aggedor\n",
            "Aggie\n",
            "Agility\n",
            "Agima\n",
            "Agitador\n",
            "Agrippina\n",
            "Agustus\n",
            "Ah Kinchil\n",
            "Ah Puch\n",
            "Ahab\n",
            "Ahau Chamahez\n",
            "Ahi\n",
            "Ahlia\n",
            "Ahmakiq\n",
            "Ahura Mazda\n",
            "Aida\n",
            "Aidan\n",
            "Aiiy\n"
          ]
        }
      ],
      "source": [
        "# let's look at the first 1000 characters\n",
        "print(text[:1000])"
      ]
    },
    {
      "cell_type": "code",
      "execution_count": 5,
      "metadata": {
        "colab": {
          "base_uri": "https://localhost:8080/"
        },
        "id": "0e-Rbyr8sfM8",
        "outputId": "46b2a1c0-ce11-4324-df8e-282e3b61c817"
      },
      "outputs": [
        {
          "name": "stdout",
          "output_type": "stream",
          "text": [
            "\n",
            " \"./1259?ABCDEFGHIJKLMNOPQRSTUVWXYZabcdefghijklmnopqrstuvwxyzâæèéñóö\n",
            "69\n"
          ]
        }
      ],
      "source": [
        "# here are all the unique characters that occur in this text\n",
        "chars = sorted(list(set(text)))\n",
        "vocab_size = len(chars)\n",
        "print(''.join(chars))\n",
        "print(vocab_size)"
      ]
    },
    {
      "cell_type": "code",
      "execution_count": 6,
      "metadata": {
        "colab": {
          "base_uri": "https://localhost:8080/"
        },
        "id": "Yw1LKNCgwjj1",
        "outputId": "f4620b7d-a104-4753-c77d-287408371d92"
      },
      "outputs": [
        {
          "name": "stdout",
          "output_type": "stream",
          "text": [
            "[43, 44, 44, 1, 55, 43, 40, 53, 40]\n",
            "hii there\n"
          ]
        }
      ],
      "source": [
        "# create a mapping from characters to integers\n",
        "stoi = { ch:i for i,ch in enumerate(chars) }\n",
        "itos = { i:ch for i,ch in enumerate(chars) }\n",
        "encode = lambda s: [stoi[c] for c in s] # encoder: take a string, output a list of integers\n",
        "decode = lambda l: ''.join([itos[i] for i in l]) # decoder: take a list of integers, output a string\n",
        "\n",
        "print(encode(\"hii there\"))\n",
        "print(decode(encode(\"hii there\")))"
      ]
    },
    {
      "cell_type": "code",
      "execution_count": 7,
      "metadata": {
        "colab": {
          "base_uri": "https://localhost:8080/"
        },
        "id": "YJb0OXPwzvqg",
        "outputId": "0c20a864-3d35-4b0b-eed7-2cfc15ea1f73"
      },
      "outputs": [
        {
          "name": "stdout",
          "output_type": "stream",
          "text": [
            "torch.Size([93215]) torch.int64\n",
            "tensor([10, 36, 36, 53, 42, 43,  0, 10, 36, 47, 44, 60, 36, 43,  0, 10, 36, 53,\n",
            "        50, 49,  0, 10, 37,  0, 10, 37, 36, 37, 36,  0, 10, 37, 37, 36,  0, 10,\n",
            "        37, 37, 40, 60,  0, 10, 37, 37, 40, 60,  1, 27, 50, 36, 39, 54,  0, 10,\n",
            "        37, 37, 44, 40,  0, 10, 37, 37, 50, 55,  0, 10, 37, 37, 50, 55, 55,  0,\n",
            "        10, 37, 37, 60,  0, 10, 37, 37, 60, 46, 44, 55, 55, 60,  0, 10, 37, 38,\n",
            "        36, 55,  0, 10, 37, 39, 56, 47,  0, 10, 37, 40,  0, 10, 37, 40, 39, 49,\n",
            "        40, 42, 50,  0, 10, 37, 40, 42, 36, 47, 40,  0, 10, 37, 40, 47,  0, 10,\n",
            "        37, 40, 47, 36, 53, 39,  0, 10, 37, 40, 49, 39, 44, 42, 50,  0, 10, 37,\n",
            "        40, 53, 38, 53, 50, 48, 37, 44, 40,  0, 10, 37, 40, 53, 39, 40, 40, 49,\n",
            "         0, 10, 37, 44,  0, 10, 37, 44, 42, 36, 44, 47,  0, 10, 37, 44, 42, 36,\n",
            "        44, 47,  1, 31, 50, 49,  1, 11, 56, 55, 55, 50, 49, 54,  0, 10, 37, 44,\n",
            "        47, 40, 49, 40,  0, 10, 37, 47, 40,  0, 10, 37, 49, 40, 53,  0, 10, 37,\n",
            "        53, 36,  0, 10, 37, 53, 36,  0, 10, 37, 53, 36, 38, 36, 39, 36, 37, 53,\n",
            "        36,  0, 10, 37, 53, 36, 43, 36, 48,  0, 10, 37, 53, 36, 59, 36, 54,  0,\n",
            "        10, 37, 53, 44, 38, 50,  0, 10, 37, 54,  0, 10, 37, 54, 44, 49, 55, 43,\n",
            "        40,  0, 10, 37, 54, 50, 47, 50, 49,  0, 10, 37, 54, 50, 47, 56, 55,  0,\n",
            "        10, 37, 54, 55, 53, 36, 38, 55, 44, 50, 49,  0, 10, 37, 56,  0, 10, 37,\n",
            "        56, 37, 56,  0, 10, 37, 60,  0, 10, 37, 60, 54, 54,  0, 10, 38, 36, 55,\n",
            "         0, 10, 38, 40,  0, 10, 38, 40,  1, 11, 36, 37, 60,  1, 29, 50, 36, 39,\n",
            "        41, 47, 36, 46, 40, 54,  0, 10, 38, 40,  1, 24, 41,  1, 28, 51, 36, 39,\n",
            "        40, 54,  0, 10, 38, 40, 60,  0, 10, 38, 43, 44, 47, 47, 40,  0, 10, 38,\n",
            "        43, 44, 47, 47, 40, 54,  0, 10, 38, 44, 54,  0, 10, 38, 46, 40, 53, 47,\n",
            "        60,  0, 10, 38, 50, 53, 49,  0, 10, 38, 53, 50, 47, 44, 49, 36,  0, 10,\n",
            "        38, 53, 50, 60,  0, 10, 38, 55, 44, 50, 49,  0, 10, 39, 36,  0, 10, 39,\n",
            "        36,  1, 19, 36, 49, 40,  0, 10, 39, 36, 38, 36, 55,  0, 10, 39, 36, 42,\n",
            "        44, 50,  0, 10, 39, 36, 46, 44, 49,  1, 28, 46, 60, 58, 36, 47, 46, 40,\n",
            "        53,  0, 10, 39, 36, 48,  0, 10, 39, 36, 48, 54,  0, 10, 39, 38, 50, 48,\n",
            "         0, 10, 39, 39, 44, 40,  0, 10, 39, 39, 44, 54,  0, 10, 39, 39, 44, 54,\n",
            "        50, 49,  0, 10, 39, 39, 60,  0, 10, 39, 40, 47, 36, 44, 39, 36,  0, 10,\n",
            "        39, 40, 47, 36, 44, 39, 40,  0, 10, 39, 40, 48, 48, 36,  0, 10, 39, 44,\n",
            "        39, 36, 54,  0, 10, 39, 44, 53, 50, 49, 39, 36, 46,  0, 10, 39, 44, 61,\n",
            "        36,  0, 10, 39, 47, 36, 44,  0, 10, 39, 47, 40, 53,  0, 10, 39, 48, 40,\n",
            "        55, 56, 54,  0, 10, 39, 48, 44, 53, 36, 47,  0, 10, 39, 50, 37, 40,  0,\n",
            "        10, 39, 50, 47, 51, 43,  0, 10, 39, 50, 48,  0, 10, 39, 50, 49, 44, 54,\n",
            "         0, 10, 39, 53, 44, 36, 49,  0, 10, 39, 53, 44, 36, 55, 44, 38,  0, 10,\n",
            "        39, 53, 50, 38, 46,  0, 10, 39, 57, 36, 49, 38, 40,  1, 12, 36, 55,  0,\n",
            "        10, 40, 42, 60, 51, 55, 50, 54,  0, 10, 40, 47, 42, 44, 41, 36,  0, 10,\n",
            "        40, 47, 56, 53, 56, 54,  0, 10, 40, 49, 44, 36, 54,  0, 10, 40, 50, 47,\n",
            "        56, 54,  0, 10, 40, 53, 50, 51, 40,  0, 10, 40, 53, 50, 54,  0, 10, 40,\n",
            "        54, 50, 51,  0, 10, 40, 55, 43, 40, 47, 58, 60, 49,  0, 10, 40, 55, 43,\n",
            "        53, 36,  0, 10, 41, 41, 44, 49, 44, 55, 60,  0, 10, 41, 44, 46, 50, 48,\n",
            "        36, 49,  0, 10, 41, 50, 49, 44, 36,  0, 10, 41, 53, 44, 38, 36,  0, 10,\n",
            "        41, 53, 44, 38, 36, 49,  1, 26, 56, 40, 40, 49,  0, 10, 41, 53, 44, 46,\n",
            "        36, 49,  0, 10, 41, 53, 44, 46, 36, 55,  0, 10, 42, 36, 39, 50, 53, 40,\n",
            "         0, 10, 42, 36, 48, 40, 48, 49, 50, 49,  0, 10, 42, 36, 51, 40,  0, 10,\n",
            "        42, 36, 54, 54, 44,  0, 10, 42, 36, 55, 43, 36,  0, 10, 42, 36, 55, 43,\n",
            "        36,  1, 12, 43, 53, 44, 54, 55, 44, 40,  0, 10, 42, 36, 55, 43, 36,  1,\n",
            "        12, 43, 53, 44, 54, 55, 60,  0, 10, 42, 40, 49, 55,  1, 35,  0, 10, 42,\n",
            "        42, 40, 39, 50, 53,  0, 10, 42, 42, 44, 40,  0, 10, 42, 44, 47, 44, 55,\n",
            "        60,  0, 10, 42, 44, 48, 36,  0, 10, 42, 44, 55, 36, 39, 50, 53,  0, 10,\n",
            "        42, 53, 44, 51, 51, 44, 49, 36,  0, 10, 42, 56, 54, 55, 56, 54,  0, 10,\n",
            "        43,  1, 20, 44, 49, 38, 43, 44, 47,  0, 10, 43,  1, 25, 56, 38, 43,  0,\n",
            "        10, 43, 36, 37,  0, 10, 43, 36, 56,  1, 12, 43, 36, 48, 36, 43, 40, 61,\n",
            "         0, 10, 43, 44,  0, 10, 43, 47, 44, 36,  0, 10, 43, 48, 36, 46, 44, 52,\n",
            "         0, 10, 43, 56, 53, 36,  1, 22, 36, 61, 39, 36,  0, 10, 44, 39, 36,  0,\n",
            "        10, 44, 39, 36, 49,  0, 10, 44, 44, 60])\n"
          ]
        }
      ],
      "source": [
        "# let's now encode the entire text dataset and store it into a torch.Tensor\n",
        "import torch # we use PyTorch: https://pytorch.org\n",
        "data = torch.tensor(encode(text), dtype=torch.long)\n",
        "print(data.shape, data.dtype)\n",
        "print(data[:1000]) # the 1000 characters we looked at earier will to the GPT look like this"
      ]
    },
    {
      "cell_type": "code",
      "execution_count": 8,
      "metadata": {
        "id": "f_WIXqxz0lU5"
      },
      "outputs": [],
      "source": [
        "# Let's now split up the data into train and validation sets\n",
        "n = int(0.9*len(data)) # first 90% will be train, rest val\n",
        "train_data = data[:n]\n",
        "val_data = data[n:]"
      ]
    },
    {
      "cell_type": "code",
      "execution_count": 9,
      "metadata": {
        "id": "TD5Bj8Y6IAD4"
      },
      "outputs": [
        {
          "data": {
            "text/plain": [
              "tensor([10, 36, 36, 53, 42, 43,  0, 10, 36])"
            ]
          },
          "execution_count": 9,
          "metadata": {},
          "output_type": "execute_result"
        }
      ],
      "source": [
        "block_size = 8\n",
        "train_data[:block_size+1]"
      ]
    },
    {
      "cell_type": "code",
      "execution_count": 10,
      "metadata": {
        "colab": {
          "base_uri": "https://localhost:8080/"
        },
        "id": "9HXDe8vGJCEn",
        "outputId": "b513c9eb-c6de-45fd-d32e-430c7060298b"
      },
      "outputs": [
        {
          "name": "stdout",
          "output_type": "stream",
          "text": [
            "when input is tensor([10]) the target: 36\n",
            "when input is tensor([10, 36]) the target: 36\n",
            "when input is tensor([10, 36, 36]) the target: 53\n",
            "when input is tensor([10, 36, 36, 53]) the target: 42\n",
            "when input is tensor([10, 36, 36, 53, 42]) the target: 43\n",
            "when input is tensor([10, 36, 36, 53, 42, 43]) the target: 0\n",
            "when input is tensor([10, 36, 36, 53, 42, 43,  0]) the target: 10\n",
            "when input is tensor([10, 36, 36, 53, 42, 43,  0, 10]) the target: 36\n"
          ]
        }
      ],
      "source": [
        "x = train_data[:block_size]\n",
        "y = train_data[1:block_size+1]\n",
        "for t in range(block_size):\n",
        "    context = x[:t+1]\n",
        "    target = y[t]\n",
        "    print(f\"when input is {context} the target: {target}\")"
      ]
    },
    {
      "cell_type": "code",
      "execution_count": 11,
      "metadata": {
        "colab": {
          "base_uri": "https://localhost:8080/"
        },
        "id": "Q3k1Czf7LuA9",
        "outputId": "d1c7f28a-e82c-4192-c312-1dfa797bba93"
      },
      "outputs": [
        {
          "name": "stdout",
          "output_type": "stream",
          "text": [
            "inputs:\n",
            "torch.Size([4, 8])\n",
            "tensor([[ 0, 27, 50, 42, 56, 40,  0, 27],\n",
            "        [38,  0, 18, 54, 54, 44, 40,  0],\n",
            "        [53,  0, 24, 54, 42, 50, 50, 39],\n",
            "        [22, 40, 48, 40,  0, 22, 40, 48]])\n",
            "targets:\n",
            "torch.Size([4, 8])\n",
            "tensor([[27, 50, 42, 56, 40,  0, 27, 50],\n",
            "        [ 0, 18, 54, 54, 44, 40,  0, 18],\n",
            "        [ 0, 24, 54, 42, 50, 50, 39,  0],\n",
            "        [40, 48, 40,  0, 22, 40, 48, 48]])\n",
            "----\n",
            "when input is [0] the target: 27\n",
            "when input is [0, 27] the target: 50\n",
            "when input is [0, 27, 50] the target: 42\n",
            "when input is [0, 27, 50, 42] the target: 56\n",
            "when input is [0, 27, 50, 42, 56] the target: 40\n",
            "when input is [0, 27, 50, 42, 56, 40] the target: 0\n",
            "when input is [0, 27, 50, 42, 56, 40, 0] the target: 27\n",
            "when input is [0, 27, 50, 42, 56, 40, 0, 27] the target: 50\n",
            "when input is [38] the target: 0\n",
            "when input is [38, 0] the target: 18\n",
            "when input is [38, 0, 18] the target: 54\n",
            "when input is [38, 0, 18, 54] the target: 54\n",
            "when input is [38, 0, 18, 54, 54] the target: 44\n",
            "when input is [38, 0, 18, 54, 54, 44] the target: 40\n",
            "when input is [38, 0, 18, 54, 54, 44, 40] the target: 0\n",
            "when input is [38, 0, 18, 54, 54, 44, 40, 0] the target: 18\n",
            "when input is [53] the target: 0\n",
            "when input is [53, 0] the target: 24\n",
            "when input is [53, 0, 24] the target: 54\n",
            "when input is [53, 0, 24, 54] the target: 42\n",
            "when input is [53, 0, 24, 54, 42] the target: 50\n",
            "when input is [53, 0, 24, 54, 42, 50] the target: 50\n",
            "when input is [53, 0, 24, 54, 42, 50, 50] the target: 39\n",
            "when input is [53, 0, 24, 54, 42, 50, 50, 39] the target: 0\n",
            "when input is [22] the target: 40\n",
            "when input is [22, 40] the target: 48\n",
            "when input is [22, 40, 48] the target: 40\n",
            "when input is [22, 40, 48, 40] the target: 0\n",
            "when input is [22, 40, 48, 40, 0] the target: 22\n",
            "when input is [22, 40, 48, 40, 0, 22] the target: 40\n",
            "when input is [22, 40, 48, 40, 0, 22, 40] the target: 48\n",
            "when input is [22, 40, 48, 40, 0, 22, 40, 48] the target: 48\n"
          ]
        }
      ],
      "source": [
        "torch.manual_seed(1337)\n",
        "batch_size = 4 # how many independent sequences will we process in parallel?\n",
        "block_size = 8 # what is the maximum context length for predictions?\n",
        "\n",
        "def get_batch(split):\n",
        "    # generate a small batch of data of inputs x and targets y\n",
        "    data = train_data if split == 'train' else val_data\n",
        "    ix = torch.randint(len(data) - block_size, (batch_size,))\n",
        "    x = torch.stack([data[i:i+block_size] for i in ix])\n",
        "    y = torch.stack([data[i+1:i+block_size+1] for i in ix])\n",
        "    return x, y\n",
        "\n",
        "xb, yb = get_batch('train')\n",
        "print('inputs:')\n",
        "print(xb.shape)\n",
        "print(xb)\n",
        "print('targets:')\n",
        "print(yb.shape)\n",
        "print(yb)\n",
        "\n",
        "print('----')\n",
        "\n",
        "for b in range(batch_size): # batch dimension\n",
        "    for t in range(block_size): # time dimension\n",
        "        context = xb[b, :t+1]\n",
        "        target = yb[b,t]\n",
        "        print(f\"when input is {context.tolist()} the target: {target}\")"
      ]
    },
    {
      "cell_type": "code",
      "execution_count": 12,
      "metadata": {
        "colab": {
          "base_uri": "https://localhost:8080/"
        },
        "id": "qpyyAeIzQjlO",
        "outputId": "aff58685-c4f0-44c5-ad14-a8bd411d4855"
      },
      "outputs": [
        {
          "name": "stdout",
          "output_type": "stream",
          "text": [
            "tensor([[ 0, 27, 50, 42, 56, 40,  0, 27],\n",
            "        [38,  0, 18, 54, 54, 44, 40,  0],\n",
            "        [53,  0, 24, 54, 42, 50, 50, 39],\n",
            "        [22, 40, 48, 40,  0, 22, 40, 48]])\n"
          ]
        }
      ],
      "source": [
        "print(xb) # our input to the transformer"
      ]
    },
    {
      "cell_type": "code",
      "execution_count": 13,
      "metadata": {
        "colab": {
          "base_uri": "https://localhost:8080/"
        },
        "id": "nql_1ER53oCf",
        "outputId": "c92e9f9a-89c6-43fd-f56d-1fd4a0a93d3f"
      },
      "outputs": [
        {
          "name": "stdout",
          "output_type": "stream",
          "text": [
            "torch.Size([32, 69])\n",
            "tensor(4.6068, grad_fn=<NllLossBackward0>)\n",
            "\n",
            "sYXâMB\n",
            "/lVtH\n",
            "rpâèöFOmKQFym1d51öæHööEiYufC9LâvjQSâtwy yuâMózaNfCDaIXXh9eHViRqueBAQ yrGDjnfOn1hIOYbAée\n"
          ]
        }
      ],
      "source": [
        "import torch\n",
        "import torch.nn as nn\n",
        "from torch.nn import functional as F\n",
        "torch.manual_seed(1337)\n",
        "\n",
        "class BigramLanguageModel(nn.Module):\n",
        "\n",
        "    def __init__(self, vocab_size):\n",
        "        super().__init__()\n",
        "        # each token directly reads off the logits for the next token from a lookup table\n",
        "        self.token_embedding_table = nn.Embedding(vocab_size, vocab_size)\n",
        "\n",
        "    def forward(self, idx, targets=None):\n",
        "\n",
        "        # idx and targets are both (B,T) tensor of integers\n",
        "        logits = self.token_embedding_table(idx) # (B,T,C)\n",
        "        \n",
        "        if targets is None:\n",
        "            loss = None\n",
        "        else:\n",
        "            B, T, C = logits.shape\n",
        "            logits = logits.view(B*T, C)\n",
        "            targets = targets.view(B*T)\n",
        "            loss = F.cross_entropy(logits, targets)\n",
        "\n",
        "        return logits, loss\n",
        "    \n",
        "    def generate(self, idx, max_new_tokens):\n",
        "        # idx is (B, T) array of indices in the current context\n",
        "        for _ in range(max_new_tokens):\n",
        "            # get the predictions\n",
        "            logits, loss = self(idx)\n",
        "            # focus only on the last time step\n",
        "            logits = logits[:, -1, :] # becomes (B, C)\n",
        "            # apply softmax to get probabilities\n",
        "            probs = F.softmax(logits, dim=-1) # (B, C)\n",
        "            # sample from the distribution\n",
        "            idx_next = torch.multinomial(probs, num_samples=1) # (B, 1)\n",
        "            # append sampled index to the running sequence\n",
        "            idx = torch.cat((idx, idx_next), dim=1) # (B, T+1)\n",
        "        return idx\n",
        "\n",
        "m = BigramLanguageModel(vocab_size)\n",
        "logits, loss = m(xb, yb)\n",
        "print(logits.shape)\n",
        "print(loss)\n",
        "\n",
        "print(decode(m.generate(idx = torch.zeros((1, 1), dtype=torch.long), max_new_tokens=100)[0].tolist()))\n"
      ]
    },
    {
      "cell_type": "code",
      "execution_count": 14,
      "metadata": {
        "id": "eTyJ8qAaDdiF"
      },
      "outputs": [],
      "source": [
        "# create a PyTorch optimizer\n",
        "optimizer = torch.optim.AdamW(m.parameters(), lr=1e-3)"
      ]
    },
    {
      "cell_type": "code",
      "execution_count": 15,
      "metadata": {
        "colab": {
          "base_uri": "https://localhost:8080/"
        },
        "id": "Hs4kI8YdEkQj",
        "outputId": "6c69f428-76fa-4f59-9464-f0541990959c"
      },
      "outputs": [
        {
          "name": "stdout",
          "output_type": "stream",
          "text": [
            "4.638194561004639\n"
          ]
        }
      ],
      "source": [
        "batch_size = 32\n",
        "for steps in range(100): # increase number of steps for good results... \n",
        "    \n",
        "    # sample a batch of data\n",
        "    xb, yb = get_batch('train')\n",
        "\n",
        "    # evaluate the loss\n",
        "    logits, loss = m(xb, yb)\n",
        "    optimizer.zero_grad(set_to_none=True)\n",
        "    loss.backward()\n",
        "    optimizer.step()\n",
        "\n",
        "print(loss.item())\n"
      ]
    },
    {
      "cell_type": "code",
      "execution_count": 16,
      "metadata": {
        "colab": {
          "base_uri": "https://localhost:8080/"
        },
        "id": "EcVIDWAZEtjN",
        "outputId": "87c13cb6-c559-4eb5-d667-499f97773440"
      },
      "outputs": [
        {
          "name": "stdout",
          "output_type": "stream",
          "text": [
            "\n",
            "FhYffarpbhf\"OVq ?\"rP/LfOz1M\"èWEDIgGvVNo5èLp\"pBOInFgg ètPFEQSvFPsDJöEAarp1smMiijIOzlxFy2tgvZ?slp?9VFmkEQWoSJwsñbRkñ 9Sñ5prCgHqL\n",
            "MfaâeKjdc1MVWYbhvóxâe9VIbóéng WpRk.mPDjcyCw5höARy  Duf.qAggmñX9IhAhâyty cHo5\n",
            "DzKBNoarg\n",
            "él1rSñeEèslSo\n",
            "âdEONmfilkèöBNni HñYRHMy2JrzaâeæCFnsIfzIJzhNzGfvDz5Kaæj1URYRiZèâyVRKTmscDöN\"5EWpanboæ/DVWuwr pHm\n",
            "J?SñbaGcDv\n",
            "Msy.qæWf\"pxbLTMæPF?iixARYROiyPXX9w5nBUN2âex?c2AOyâæödamPA?UVñwdiXTsiQnbKU\n",
            "érOX9âe5n Bk9wjtHWCwéCñDCZ/WuIfzCe9VZñ/Y EvöByyNIé/\n",
            "oPâköbTöNm\"lewjAOQxjC9ö5Ux?blOH\n",
            "zIaréC\n"
          ]
        }
      ],
      "source": [
        "print(decode(m.generate(idx = torch.zeros((1, 1), dtype=torch.long), max_new_tokens=500)[0].tolist()))"
      ]
    },
    {
      "cell_type": "markdown",
      "metadata": {
        "id": "XinV8nmAnmKN"
      },
      "source": [
        "## The mathematical trick in self-attention"
      ]
    },
    {
      "cell_type": "code",
      "execution_count": 17,
      "metadata": {
        "colab": {
          "base_uri": "https://localhost:8080/"
        },
        "id": "tukiH-NbRBhA",
        "outputId": "ba6b39ae-185e-4005-c882-eb48dcf355e8"
      },
      "outputs": [
        {
          "name": "stdout",
          "output_type": "stream",
          "text": [
            "a=\n",
            "tensor([[1.0000, 0.0000, 0.0000],\n",
            "        [0.5000, 0.5000, 0.0000],\n",
            "        [0.3333, 0.3333, 0.3333]])\n",
            "--\n",
            "b=\n",
            "tensor([[2., 7.],\n",
            "        [6., 4.],\n",
            "        [6., 5.]])\n",
            "--\n",
            "c=\n",
            "tensor([[2.0000, 7.0000],\n",
            "        [4.0000, 5.5000],\n",
            "        [4.6667, 5.3333]])\n"
          ]
        }
      ],
      "source": [
        "# toy example illustrating how matrix multiplication can be used for a \"weighted aggregation\"\n",
        "torch.manual_seed(42)\n",
        "a = torch.tril(torch.ones(3, 3))\n",
        "a = a / torch.sum(a, 1, keepdim=True)\n",
        "b = torch.randint(0,10,(3,2)).float()\n",
        "c = a @ b\n",
        "print('a=')\n",
        "print(a)\n",
        "print('--')\n",
        "print('b=')\n",
        "print(b)\n",
        "print('--')\n",
        "print('c=')\n",
        "print(c)"
      ]
    },
    {
      "cell_type": "code",
      "execution_count": 18,
      "metadata": {
        "colab": {
          "base_uri": "https://localhost:8080/"
        },
        "id": "Hs_E24uRE8kr",
        "outputId": "1c4866c5-490d-481c-8090-d2c96904a3a8"
      },
      "outputs": [
        {
          "data": {
            "text/plain": [
              "torch.Size([4, 8, 2])"
            ]
          },
          "execution_count": 18,
          "metadata": {},
          "output_type": "execute_result"
        }
      ],
      "source": [
        "# consider the following toy example:\n",
        "\n",
        "torch.manual_seed(1337)\n",
        "B,T,C = 4,8,2 # batch, time, channels\n",
        "x = torch.randn(B,T,C)\n",
        "x.shape"
      ]
    },
    {
      "cell_type": "code",
      "execution_count": 19,
      "metadata": {
        "id": "86NuXX0fn7ps"
      },
      "outputs": [],
      "source": [
        "# We want x[b,t] = mean_{i<=t} x[b,i]\n",
        "xbow = torch.zeros((B,T,C))\n",
        "for b in range(B):\n",
        "    for t in range(T):\n",
        "        xprev = x[b,:t+1] # (t,C)\n",
        "        xbow[b,t] = torch.mean(xprev, 0)\n"
      ]
    },
    {
      "cell_type": "code",
      "execution_count": 20,
      "metadata": {
        "colab": {
          "base_uri": "https://localhost:8080/"
        },
        "id": "yhdOAd6-wXkZ",
        "outputId": "212ba272-57ff-42ca-b3d5-3e21504b20fd"
      },
      "outputs": [
        {
          "data": {
            "text/plain": [
              "False"
            ]
          },
          "execution_count": 20,
          "metadata": {},
          "output_type": "execute_result"
        }
      ],
      "source": [
        "# version 2: using matrix multiply for a weighted aggregation\n",
        "wei = torch.tril(torch.ones(T, T))\n",
        "wei = wei / wei.sum(1, keepdim=True)\n",
        "xbow2 = wei @ x # (B, T, T) @ (B, T, C) ----> (B, T, C)\n",
        "torch.allclose(xbow, xbow2)"
      ]
    },
    {
      "cell_type": "code",
      "execution_count": 21,
      "metadata": {
        "colab": {
          "base_uri": "https://localhost:8080/"
        },
        "id": "wOURrfG-ysoL",
        "outputId": "85440474-4ef0-48d2-e2b0-cad01efda999"
      },
      "outputs": [
        {
          "data": {
            "text/plain": [
              "False"
            ]
          },
          "execution_count": 21,
          "metadata": {},
          "output_type": "execute_result"
        }
      ],
      "source": [
        "# version 3: use Softmax\n",
        "tril = torch.tril(torch.ones(T, T))\n",
        "wei = torch.zeros((T,T))\n",
        "wei = wei.masked_fill(tril == 0, float('-inf'))\n",
        "wei = F.softmax(wei, dim=-1)\n",
        "xbow3 = wei @ x\n",
        "torch.allclose(xbow, xbow3)\n"
      ]
    },
    {
      "cell_type": "code",
      "execution_count": 22,
      "metadata": {
        "colab": {
          "base_uri": "https://localhost:8080/"
        },
        "id": "EDarxEWIRMKq",
        "outputId": "72f86600-e41e-45c0-9336-36d332d46c6e"
      },
      "outputs": [
        {
          "data": {
            "text/plain": [
              "torch.Size([4, 8, 16])"
            ]
          },
          "execution_count": 22,
          "metadata": {},
          "output_type": "execute_result"
        }
      ],
      "source": [
        "# version 4: self-attention!\n",
        "torch.manual_seed(1337)\n",
        "B,T,C = 4,8,32 # batch, time, channels\n",
        "x = torch.randn(B,T,C)\n",
        "\n",
        "# let's see a single Head perform self-attention\n",
        "head_size = 16\n",
        "key = nn.Linear(C, head_size, bias=False)\n",
        "query = nn.Linear(C, head_size, bias=False)\n",
        "value = nn.Linear(C, head_size, bias=False)\n",
        "k = key(x)   # (B, T, 16)\n",
        "q = query(x) # (B, T, 16)\n",
        "wei =  q @ k.transpose(-2, -1) # (B, T, 16) @ (B, 16, T) ---> (B, T, T)\n",
        "\n",
        "tril = torch.tril(torch.ones(T, T))\n",
        "#wei = torch.zeros((T,T))\n",
        "wei = wei.masked_fill(tril == 0, float('-inf'))\n",
        "wei = F.softmax(wei, dim=-1)\n",
        "\n",
        "v = value(x)\n",
        "out = wei @ v\n",
        "#out = wei @ x\n",
        "\n",
        "out.shape"
      ]
    },
    {
      "cell_type": "code",
      "execution_count": 23,
      "metadata": {
        "colab": {
          "base_uri": "https://localhost:8080/"
        },
        "id": "vT1hdtzXCjgL",
        "outputId": "1af15072-487c-4258-ac11-f0c37b527739"
      },
      "outputs": [
        {
          "data": {
            "text/plain": [
              "tensor([[1.0000, 0.0000, 0.0000, 0.0000, 0.0000, 0.0000, 0.0000, 0.0000],\n",
              "        [0.1574, 0.8426, 0.0000, 0.0000, 0.0000, 0.0000, 0.0000, 0.0000],\n",
              "        [0.2088, 0.1646, 0.6266, 0.0000, 0.0000, 0.0000, 0.0000, 0.0000],\n",
              "        [0.5792, 0.1187, 0.1889, 0.1131, 0.0000, 0.0000, 0.0000, 0.0000],\n",
              "        [0.0294, 0.1052, 0.0469, 0.0276, 0.7909, 0.0000, 0.0000, 0.0000],\n",
              "        [0.0176, 0.2689, 0.0215, 0.0089, 0.6812, 0.0019, 0.0000, 0.0000],\n",
              "        [0.1691, 0.4066, 0.0438, 0.0416, 0.1048, 0.2012, 0.0329, 0.0000],\n",
              "        [0.0210, 0.0843, 0.0555, 0.2297, 0.0573, 0.0709, 0.2423, 0.2391]],\n",
              "       grad_fn=<SelectBackward0>)"
            ]
          },
          "execution_count": 23,
          "metadata": {},
          "output_type": "execute_result"
        }
      ],
      "source": [
        "wei[0]"
      ]
    },
    {
      "cell_type": "markdown",
      "metadata": {
        "id": "M5CvobiQ0pLr"
      },
      "source": [
        "Notes:\n",
        "- Attention is a **communication mechanism**. Can be seen as nodes in a directed graph looking at each other and aggregating information with a weighted sum from all nodes that point to them, with data-dependent weights.\n",
        "- There is no notion of space. Attention simply acts over a set of vectors. This is why we need to positionally encode tokens.\n",
        "- Each example across batch dimension is of course processed completely independently and never \"talk\" to each other\n",
        "- In an \"encoder\" attention block just delete the single line that does masking with `tril`, allowing all tokens to communicate. This block here is called a \"decoder\" attention block because it has triangular masking, and is usually used in autoregressive settings, like language modeling.\n",
        "- \"self-attention\" just means that the keys and values are produced from the same source as queries. In \"cross-attention\", the queries still get produced from x, but the keys and values come from some other, external source (e.g. an encoder module)\n",
        "- \"Scaled\" attention additional divides `wei` by 1/sqrt(head_size). This makes it so when input Q,K are unit variance, wei will be unit variance too and Softmax will stay diffuse and not saturate too much. Illustration below"
      ]
    },
    {
      "cell_type": "code",
      "execution_count": 24,
      "metadata": {
        "id": "4SNbLq5z3oBw"
      },
      "outputs": [],
      "source": [
        "k = torch.randn(B,T,head_size)\n",
        "q = torch.randn(B,T,head_size)\n",
        "wei = q @ k.transpose(-2, -1) * head_size**-0.5"
      ]
    },
    {
      "cell_type": "code",
      "execution_count": 25,
      "metadata": {
        "colab": {
          "base_uri": "https://localhost:8080/"
        },
        "id": "Nl6I9n9IRTSo",
        "outputId": "1dde246f-176c-49cf-cbf3-31873a7cd390"
      },
      "outputs": [
        {
          "data": {
            "text/plain": [
              "tensor(1.0449)"
            ]
          },
          "execution_count": 25,
          "metadata": {},
          "output_type": "execute_result"
        }
      ],
      "source": [
        "k.var()"
      ]
    },
    {
      "cell_type": "code",
      "execution_count": 26,
      "metadata": {
        "colab": {
          "base_uri": "https://localhost:8080/"
        },
        "id": "T1tQx7oeRvtc",
        "outputId": "adb53af2-7eda-40c3-e50e-6bb36d41f340"
      },
      "outputs": [
        {
          "data": {
            "text/plain": [
              "tensor(1.0700)"
            ]
          },
          "execution_count": 26,
          "metadata": {},
          "output_type": "execute_result"
        }
      ],
      "source": [
        "q.var()"
      ]
    },
    {
      "cell_type": "code",
      "execution_count": 27,
      "metadata": {
        "colab": {
          "base_uri": "https://localhost:8080/"
        },
        "id": "MLb_odHU3iKM",
        "outputId": "44d403bc-ae14-41ac-c4d9-c495d89cf6a6"
      },
      "outputs": [
        {
          "data": {
            "text/plain": [
              "tensor(1.0918)"
            ]
          },
          "execution_count": 27,
          "metadata": {},
          "output_type": "execute_result"
        }
      ],
      "source": [
        "wei.var()"
      ]
    },
    {
      "cell_type": "code",
      "execution_count": 28,
      "metadata": {
        "colab": {
          "base_uri": "https://localhost:8080/"
        },
        "id": "JB82yzt44REI",
        "outputId": "479e1e05-0f92-4369-978f-d4132a23ec76"
      },
      "outputs": [
        {
          "data": {
            "text/plain": [
              "tensor([0.1925, 0.1426, 0.2351, 0.1426, 0.2872])"
            ]
          },
          "execution_count": 28,
          "metadata": {},
          "output_type": "execute_result"
        }
      ],
      "source": [
        "torch.softmax(torch.tensor([0.1, -0.2, 0.3, -0.2, 0.5]), dim=-1)"
      ]
    },
    {
      "cell_type": "code",
      "execution_count": 29,
      "metadata": {
        "colab": {
          "base_uri": "https://localhost:8080/"
        },
        "id": "Mpt8569BB9_f",
        "outputId": "28f372a7-9694-4285-ce24-939638c72c52"
      },
      "outputs": [
        {
          "data": {
            "text/plain": [
              "tensor([0.0326, 0.0030, 0.1615, 0.0030, 0.8000])"
            ]
          },
          "execution_count": 29,
          "metadata": {},
          "output_type": "execute_result"
        }
      ],
      "source": [
        "torch.softmax(torch.tensor([0.1, -0.2, 0.3, -0.2, 0.5])*8, dim=-1) # gets too peaky, converges to one-hot"
      ]
    },
    {
      "cell_type": "code",
      "execution_count": 30,
      "metadata": {
        "colab": {
          "base_uri": "https://localhost:8080/"
        },
        "id": "2Num7sX9CKOH",
        "outputId": "68851730-6dae-42d3-bd22-2f6b4474b623"
      },
      "outputs": [
        {
          "data": {
            "text/plain": [
              "torch.Size([32, 100])"
            ]
          },
          "execution_count": 30,
          "metadata": {},
          "output_type": "execute_result"
        }
      ],
      "source": [
        "class LayerNorm1d: # (used to be BatchNorm1d)\n",
        "  \n",
        "  def __init__(self, dim, eps=1e-5, momentum=0.1):\n",
        "    self.eps = eps\n",
        "    self.gamma = torch.ones(dim)\n",
        "    self.beta = torch.zeros(dim)\n",
        "  \n",
        "  def __call__(self, x):\n",
        "    # calculate the forward pass\n",
        "    xmean = x.mean(1, keepdim=True) # batch mean\n",
        "    xvar = x.var(1, keepdim=True) # batch variance\n",
        "    xhat = (x - xmean) / torch.sqrt(xvar + self.eps) # normalize to unit variance\n",
        "    self.out = self.gamma * xhat + self.beta\n",
        "    return self.out\n",
        "  \n",
        "  def parameters(self):\n",
        "    return [self.gamma, self.beta]\n",
        "\n",
        "torch.manual_seed(1337)\n",
        "module = LayerNorm1d(100)\n",
        "x = torch.randn(32, 100) # batch size 32 of 100-dimensional vectors\n",
        "x = module(x)\n",
        "x.shape"
      ]
    },
    {
      "cell_type": "code",
      "execution_count": 31,
      "metadata": {
        "colab": {
          "base_uri": "https://localhost:8080/"
        },
        "id": "633T2cmnW1uk",
        "outputId": "8c506420-bce7-4203-9ecd-314d08cfbaff"
      },
      "outputs": [
        {
          "data": {
            "text/plain": [
              "(tensor(0.1469), tensor(0.8803))"
            ]
          },
          "execution_count": 31,
          "metadata": {},
          "output_type": "execute_result"
        }
      ],
      "source": [
        "x[:,0].mean(), x[:,0].std() # mean,std of one feature across all batch inputs"
      ]
    },
    {
      "cell_type": "code",
      "execution_count": 32,
      "metadata": {
        "colab": {
          "base_uri": "https://localhost:8080/"
        },
        "id": "LN9cK9BoXCYb",
        "outputId": "f6a54576-0773-4c43-c4aa-85b298540566"
      },
      "outputs": [
        {
          "data": {
            "text/plain": [
              "(tensor(-9.5367e-09), tensor(1.0000))"
            ]
          },
          "execution_count": 32,
          "metadata": {},
          "output_type": "execute_result"
        }
      ],
      "source": [
        "x[0,:].mean(), x[0,:].std() # mean,std of a single input from the batch, of its features"
      ]
    },
    {
      "cell_type": "code",
      "execution_count": 33,
      "metadata": {
        "id": "dRJH6wM_XFfU"
      },
      "outputs": [],
      "source": [
        "# French to English translation example:\n",
        "\n",
        "# <--------- ENCODE ------------------><--------------- DECODE ----------------->\n",
        "# les réseaux de neurones sont géniaux! <START> neural networks are awesome!<END>\n",
        "\n"
      ]
    },
    {
      "cell_type": "markdown",
      "metadata": {
        "id": "ZcvKeBXoZFOY"
      },
      "source": [
        "### Full finished code, for reference\n",
        "\n",
        "You may want to refer directly to the git repo instead though."
      ]
    },
    {
      "cell_type": "code",
      "execution_count": 34,
      "metadata": {
        "colab": {
          "base_uri": "https://localhost:8080/"
        },
        "id": "hoelkOrFY8bN",
        "outputId": "3cd22673-c676-429e-d04c-05514e16ad4f"
      },
      "outputs": [
        {
          "name": "stdout",
          "output_type": "stream",
          "text": [
            "0.210245 M parameters\n",
            "step 0: train loss 4.4713, val loss 4.5129\n",
            "step 100: train loss 2.7341, val loss 3.0406\n",
            "step 200: train loss 2.4303, val loss 2.8480\n",
            "step 300: train loss 2.2168, val loss 2.7602\n",
            "step 400: train loss 2.1002, val loss 2.5799\n",
            "step 500: train loss 1.9761, val loss 2.4336\n",
            "step 600: train loss 1.9004, val loss 2.3906\n",
            "step 700: train loss 1.8271, val loss 2.3335\n",
            "step 800: train loss 1.7868, val loss 2.3010\n",
            "step 900: train loss 1.7531, val loss 2.2564\n",
            "step 1000: train loss 1.7356, val loss 2.2580\n",
            "step 1100: train loss 1.7134, val loss 2.2086\n",
            "step 1200: train loss 1.6854, val loss 2.2068\n",
            "step 1300: train loss 1.6774, val loss 2.2106\n",
            "step 1400: train loss 1.6656, val loss 2.1992\n",
            "step 1500: train loss 1.6516, val loss 2.1475\n",
            "step 1600: train loss 1.6345, val loss 2.1445\n",
            "step 1700: train loss 1.6330, val loss 2.2070\n",
            "step 1800: train loss 1.6225, val loss 2.1952\n",
            "step 1900: train loss 1.6010, val loss 2.1955\n",
            "step 2000: train loss 1.5943, val loss 2.2083\n",
            "step 2100: train loss 1.5914, val loss 2.1932\n",
            "step 2200: train loss 1.5774, val loss 2.1633\n",
            "step 2300: train loss 1.5705, val loss 2.1339\n",
            "step 2400: train loss 1.5617, val loss 2.1395\n",
            "step 2500: train loss 1.5663, val loss 2.1861\n",
            "step 2600: train loss 1.5357, val loss 2.2020\n",
            "step 2700: train loss 1.5301, val loss 2.1977\n",
            "step 2800: train loss 1.5335, val loss 2.1244\n",
            "step 2900: train loss 1.5231, val loss 2.1864\n",
            "step 3000: train loss 1.5149, val loss 2.2220\n",
            "step 3100: train loss 1.5129, val loss 2.1973\n",
            "step 3200: train loss 1.4929, val loss 2.1618\n",
            "step 3300: train loss 1.5034, val loss 2.2497\n",
            "step 3400: train loss 1.4766, val loss 2.1941\n",
            "step 3500: train loss 1.4761, val loss 2.1990\n",
            "step 3600: train loss 1.4708, val loss 2.1488\n",
            "step 3700: train loss 1.4577, val loss 2.1558\n",
            "step 3800: train loss 1.4429, val loss 2.1745\n",
            "step 3900: train loss 1.4510, val loss 2.2117\n",
            "step 4000: train loss 1.4443, val loss 2.2489\n",
            "step 4100: train loss 1.4199, val loss 2.1729\n",
            "step 4200: train loss 1.4213, val loss 2.2378\n",
            "step 4300: train loss 1.4243, val loss 2.2243\n",
            "step 4400: train loss 1.4238, val loss 2.2381\n",
            "step 4500: train loss 1.4142, val loss 2.2263\n",
            "step 4600: train loss 1.4156, val loss 2.2496\n",
            "step 4700: train loss 1.4042, val loss 2.2460\n",
            "step 4800: train loss 1.3886, val loss 2.2383\n",
            "step 4900: train loss 1.3810, val loss 2.2370\n",
            "step 4999: train loss 1.3867, val loss 2.3111\n",
            "\n",
            "Coopy\n",
            "Copen\n",
            "Coraiccen\n",
            "Corame\n",
            "Corasha\n",
            "Coreara\n",
            "Corey\n",
            "Rorfy\n",
            "Corfy\n",
            "Corgebug\n",
            "Coria\n",
            "Corie Jeee\n",
            "Corlod\n",
            "Corly\n",
            "Cormasy\n",
            "Cornock\n",
            "Cornerea\n",
            "Coroo\n",
            "Corial\n",
            "Coriban\n",
            "Coriglo\n",
            "Corijolebox\n",
            "Corkley\n",
            "Corkpoldury Hicat\n",
            "Cornos\n",
            "Corosey\n",
            "Correnosom Clat\n",
            "Correx\n",
            "Corsiane\n",
            "Corsy\n",
            "Corvy\n",
            "Coz\n",
            "Coy\n",
            "Coady\n",
            "Cobu\n",
            "Cocanol\n",
            "Cocket\n",
            "Cockett\n",
            "Cocknott\n",
            "Cocra Ceg\n",
            "Coclenory\n",
            "Coc Tap\n",
            "Cod\n",
            "Cod\n",
            "Coddice\n",
            "Coddo\n",
            "Coddy\n",
            "Coddy\n",
            "Coddy\n",
            "Coddy BruBuBunky Junky\n",
            "Coddy Puddy\n",
            "Coddy\n",
            "Coedyball\n",
            "Cofcin\n",
            "Coft\n",
            "Cog\n",
            "Colan\n",
            "Cogdde\n",
            "Colddick\n",
            "Colddie\n",
            "Condedudde\n",
            "Condew\n",
            "Conderaicy\n",
            "Conders\n",
            "Conneeper\n",
            "Connat\n",
            "Conneshepurr\n",
            "Connok\n",
            "Conny\n",
            "Consettus\n",
            "Coougie\n",
            "Cooumbuen\n",
            "Coouboyt\n",
            "Coouboy\n",
            "Cooubougiuss\n",
            "Coub\n",
            "Coubla\n",
            "Couce\n",
            "Couderson\n",
            "Coudna\n",
            "Coudysey\n",
            "Coudy\n",
            "Coudyco\n",
            "Coudy\n",
            "Cougy Itnurfelle\n",
            "Coukell\n",
            "Coukers\n",
            "Coulower\n",
            "Coumach\n",
            "Coumbukstel\n",
            "Coumbles\n",
            "Coumbler\n",
            "Coumbucks\n",
            "Coumbus\n",
            "Coumby\n",
            "Coumpudd Mchony\n",
            "Coupo\n",
            "Coupott\n",
            "Coupone\n",
            "Cowpurs\n",
            "Cowpy\n",
            "Cowscek\n",
            "Cowplen\n",
            "Cowsey\n",
            "Cowser\n",
            "Cowsew\n",
            "Cowsew\n",
            "Cowsey\n",
            "Cowsey\n",
            "Cowsey Roweed\n",
            "Cowseywandalz\n",
            "Cowser\n",
            "Cowser\n",
            "Cowsie\n",
            "Cowseno\n",
            "Cowsent\n",
            "Cowsenie\n",
            "Cowsenwall\n",
            "Cobser\n",
            "Cobu RaidBo\n",
            "Coby\n",
            "Cocchar\n",
            "Codde\n",
            "Coe\n",
            "Coedion\n",
            "Cof\n",
            "Coffin\n",
            "CoffooP\n",
            "Coff\n",
            "Coangera\n",
            "Cobi\n",
            "Cobia\n",
            "Cobled\n",
            "Coce Co\n",
            "Cocket\n",
            "Cockey p\n",
            "Cocochie\n",
            "Cocoklaila\n",
            "Cocoley\n",
            "Cocoller\n",
            "Cocon\n",
            "Cocot\n",
            "Coctue\n",
            "Cocter\n",
            "CodyLo\n",
            "Cogflow\n",
            "Cog\n",
            "Cohoad\n",
            "Cohenadade\n",
            "Cohock\n",
            "Cohok\n",
            "Coopole\n",
            "Coorclus\n",
            "Coopaq\n",
            "Coosic\n",
            "Coossyca\n",
            "Cootywellam\n",
            "Coowielous\n",
            "Coowiessonot\n",
            "Corcatto\n",
            "Corgoufus\n",
            "Corgenna\n",
            "Corgettine Monet\n",
            "Corley\n",
            "Corley The Boy\n",
            "Borneezoed\n",
            "Bornger\n",
            "Bortony\n",
            "Borucita\n",
            "Bouck\n",
            "Bouffy\n",
            "Bougam\n",
            "Bougan\n",
            "Bougie Deanoone\n",
            "Bounh Ledes\n",
            "Bountpey\n",
            "Bounwheaver\n",
            "Boutjey\n",
            "Bovey Lor\n",
            "Bovey Down\n",
            "Bowdey\n",
            "Bowert Cat\n",
            "Bowerty\n",
            "Bowser\n",
            "Bowserty\n",
            "Bowsey\n",
            "Bowseyn\n",
            "Bowsenth\n",
            "Bowtaws\n",
            "Bowwiel\n",
            "Bower\n",
            "Bowfoo\n",
            "Bowfo\n",
            "Bowfy\n",
            "Bowmase\n",
            "BownagpunO\n",
            "Bowseriburn\n",
            "Bows\n",
            "Bowser\n",
            "Bowsey\n",
            "Bowse Strand\n",
            "Bowsie\n",
            "Bowster\n",
            "Bows\n",
            "Bowky\n",
            "Bowpad\n",
            "Bowbert\n",
            "Bowby\n",
            "Bowbees\n",
            "Boyeney\n",
            "Boykey\n",
            "Boyno\n",
            "Boyphie dew\n",
            "Bo Wats\n",
            "Boysie\n",
            "Boyster\n",
            "Boystracke\n",
            "Boysteatz\n",
            "Boyster\n",
            "Boyster\n",
            "Boytor\n",
            "Boyster\n",
            "Boyston\n",
            "Boysol\n",
            "Boyster\n",
            "Boystobur\n",
            "Boystead\n",
            "Bozanf\n",
            "Bozbech\n",
            "Bozzo\n",
            "Bozzie\n",
            "Bozzie BaButt\n",
            "Bozmots\n",
            "Bower\n",
            "BSp Bow\n",
            "BrackieUssdeilly\n",
            "Bracky Linno\n",
            "Bracky\n",
            "Brad Rooph\n",
            "Brack\n",
            "Bracky Ro\n",
            "Brac\n"
          ]
        }
      ],
      "source": [
        "import torch\n",
        "import torch.nn as nn\n",
        "from torch.nn import functional as F\n",
        "\n",
        "# hyperparameters\n",
        "batch_size = 16 # how many independent sequences will we process in parallel?\n",
        "block_size = 32 # what is the maximum context length for predictions?\n",
        "max_iters = 5000\n",
        "eval_interval = 100\n",
        "learning_rate = 1e-3\n",
        "device = 'cuda' if torch.cuda.is_available() else 'cpu'\n",
        "eval_iters = 200\n",
        "n_embd = 64\n",
        "n_head = 4\n",
        "n_layer = 4\n",
        "dropout = 0.0\n",
        "# ------------\n",
        "\n",
        "torch.manual_seed(1337)\n",
        "\n",
        "# wget https://raw.githubusercontent.com/karpathy/char-rnn/master/data/tinyshakespeare/input.txt\n",
        "with open('input.txt', 'r', encoding='utf-8') as f:\n",
        "    text = f.read()\n",
        "\n",
        "# here are all the unique characters that occur in this text\n",
        "chars = sorted(list(set(text)))\n",
        "vocab_size = len(chars)\n",
        "# create a mapping from characters to integers\n",
        "stoi = { ch:i for i,ch in enumerate(chars) }\n",
        "itos = { i:ch for i,ch in enumerate(chars) }\n",
        "encode = lambda s: [stoi[c] for c in s] # encoder: take a string, output a list of integers\n",
        "decode = lambda l: ''.join([itos[i] for i in l]) # decoder: take a list of integers, output a string\n",
        "\n",
        "# Train and test splits\n",
        "data = torch.tensor(encode(text), dtype=torch.long)\n",
        "n = int(0.9*len(data)) # first 90% will be train, rest val\n",
        "train_data = data[:n]\n",
        "val_data = data[n:]\n",
        "\n",
        "# data loading\n",
        "def get_batch(split):\n",
        "    # generate a small batch of data of inputs x and targets y\n",
        "    data = train_data if split == 'train' else val_data\n",
        "    ix = torch.randint(len(data) - block_size, (batch_size,))\n",
        "    x = torch.stack([data[i:i+block_size] for i in ix])\n",
        "    y = torch.stack([data[i+1:i+block_size+1] for i in ix])\n",
        "    x, y = x.to(device), y.to(device)\n",
        "    return x, y\n",
        "\n",
        "@torch.no_grad()\n",
        "def estimate_loss():\n",
        "    out = {}\n",
        "    model.eval()\n",
        "    for split in ['train', 'val']:\n",
        "        losses = torch.zeros(eval_iters)\n",
        "        for k in range(eval_iters):\n",
        "            X, Y = get_batch(split)\n",
        "            logits, loss = model(X, Y)\n",
        "            losses[k] = loss.item()\n",
        "        out[split] = losses.mean()\n",
        "    model.train()\n",
        "    return out\n",
        "\n",
        "class Head(nn.Module):\n",
        "    \"\"\" one head of self-attention \"\"\"\n",
        "\n",
        "    def __init__(self, head_size):\n",
        "        super().__init__()\n",
        "        self.key = nn.Linear(n_embd, head_size, bias=False)\n",
        "        self.query = nn.Linear(n_embd, head_size, bias=False)\n",
        "        self.value = nn.Linear(n_embd, head_size, bias=False)\n",
        "        self.register_buffer('tril', torch.tril(torch.ones(block_size, block_size)))\n",
        "\n",
        "        self.dropout = nn.Dropout(dropout)\n",
        "\n",
        "    def forward(self, x):\n",
        "        B,T,C = x.shape\n",
        "        k = self.key(x)   # (B,T,C)\n",
        "        q = self.query(x) # (B,T,C)\n",
        "        # compute attention scores (\"affinities\")\n",
        "        wei = q @ k.transpose(-2,-1) * C**-0.5 # (B, T, C) @ (B, C, T) -> (B, T, T)\n",
        "        wei = wei.masked_fill(self.tril[:T, :T] == 0, float('-inf')) # (B, T, T)\n",
        "        wei = F.softmax(wei, dim=-1) # (B, T, T)\n",
        "        wei = self.dropout(wei)\n",
        "        # perform the weighted aggregation of the values\n",
        "        v = self.value(x) # (B,T,C)\n",
        "        out = wei @ v # (B, T, T) @ (B, T, C) -> (B, T, C)\n",
        "        return out\n",
        "\n",
        "class MultiHeadAttention(nn.Module):\n",
        "    \"\"\" multiple heads of self-attention in parallel \"\"\"\n",
        "\n",
        "    def __init__(self, num_heads, head_size):\n",
        "        super().__init__()\n",
        "        self.heads = nn.ModuleList([Head(head_size) for _ in range(num_heads)])\n",
        "        self.proj = nn.Linear(n_embd, n_embd)\n",
        "        self.dropout = nn.Dropout(dropout)\n",
        "\n",
        "    def forward(self, x):\n",
        "        out = torch.cat([h(x) for h in self.heads], dim=-1)\n",
        "        out = self.dropout(self.proj(out))\n",
        "        return out\n",
        "\n",
        "class FeedFoward(nn.Module):\n",
        "    \"\"\" a simple linear layer followed by a non-linearity \"\"\"\n",
        "\n",
        "    def __init__(self, n_embd):\n",
        "        super().__init__()\n",
        "        self.net = nn.Sequential(\n",
        "            nn.Linear(n_embd, 4 * n_embd),\n",
        "            nn.ReLU(),\n",
        "            nn.Linear(4 * n_embd, n_embd),\n",
        "            nn.Dropout(dropout),\n",
        "        )\n",
        "\n",
        "    def forward(self, x):\n",
        "        return self.net(x)\n",
        "\n",
        "class Block(nn.Module):\n",
        "    \"\"\" Transformer block: communication followed by computation \"\"\"\n",
        "\n",
        "    def __init__(self, n_embd, n_head):\n",
        "        # n_embd: embedding dimension, n_head: the number of heads we'd like\n",
        "        super().__init__()\n",
        "        head_size = n_embd // n_head\n",
        "        self.sa = MultiHeadAttention(n_head, head_size)\n",
        "        self.ffwd = FeedFoward(n_embd)\n",
        "        self.ln1 = nn.LayerNorm(n_embd)\n",
        "        self.ln2 = nn.LayerNorm(n_embd)\n",
        "\n",
        "    def forward(self, x):\n",
        "        x = x + self.sa(self.ln1(x))\n",
        "        x = x + self.ffwd(self.ln2(x))\n",
        "        return x\n",
        "\n",
        "# super simple bigram model\n",
        "class BigramLanguageModel(nn.Module):\n",
        "\n",
        "    def __init__(self):\n",
        "        super().__init__()\n",
        "        # each token directly reads off the logits for the next token from a lookup table\n",
        "        self.token_embedding_table = nn.Embedding(vocab_size, n_embd)\n",
        "        self.position_embedding_table = nn.Embedding(block_size, n_embd)\n",
        "        self.blocks = nn.Sequential(*[Block(n_embd, n_head=n_head) for _ in range(n_layer)])\n",
        "        self.ln_f = nn.LayerNorm(n_embd) # final layer norm\n",
        "        self.lm_head = nn.Linear(n_embd, vocab_size)\n",
        "\n",
        "    def forward(self, idx, targets=None):\n",
        "        B, T = idx.shape\n",
        "\n",
        "        # idx and targets are both (B,T) tensor of integers\n",
        "        tok_emb = self.token_embedding_table(idx) # (B,T,C)\n",
        "        pos_emb = self.position_embedding_table(torch.arange(T, device=device)) # (T,C)\n",
        "        x = tok_emb + pos_emb # (B,T,C)\n",
        "        x = self.blocks(x) # (B,T,C)\n",
        "        x = self.ln_f(x) # (B,T,C)\n",
        "        logits = self.lm_head(x) # (B,T,vocab_size)\n",
        "\n",
        "        if targets is None:\n",
        "            loss = None\n",
        "        else:\n",
        "            B, T, C = logits.shape\n",
        "            logits = logits.view(B*T, C)\n",
        "            targets = targets.view(B*T)\n",
        "            loss = F.cross_entropy(logits, targets)\n",
        "\n",
        "        return logits, loss\n",
        "\n",
        "    def generate(self, idx, max_new_tokens):\n",
        "        # idx is (B, T) array of indices in the current context\n",
        "        for _ in range(max_new_tokens):\n",
        "            # crop idx to the last block_size tokens\n",
        "            idx_cond = idx[:, -block_size:]\n",
        "            # get the predictions\n",
        "            logits, loss = self(idx_cond)\n",
        "            # focus only on the last time step\n",
        "            logits = logits[:, -1, :] # becomes (B, C)\n",
        "            # apply softmax to get probabilities\n",
        "            probs = F.softmax(logits, dim=-1) # (B, C)\n",
        "            # sample from the distribution\n",
        "            idx_next = torch.multinomial(probs, num_samples=1) # (B, 1)\n",
        "            # append sampled index to the running sequence\n",
        "            idx = torch.cat((idx, idx_next), dim=1) # (B, T+1)\n",
        "        return idx\n",
        "\n",
        "model = BigramLanguageModel()\n",
        "m = model.to(device)\n",
        "# print the number of parameters in the model\n",
        "print(sum(p.numel() for p in m.parameters())/1e6, 'M parameters')\n",
        "\n",
        "# create a PyTorch optimizer\n",
        "optimizer = torch.optim.AdamW(model.parameters(), lr=learning_rate)\n",
        "\n",
        "for iter in range(max_iters):\n",
        "\n",
        "    # every once in a while evaluate the loss on train and val sets\n",
        "    if iter % eval_interval == 0 or iter == max_iters - 1:\n",
        "        losses = estimate_loss()\n",
        "        print(f\"step {iter}: train loss {losses['train']:.4f}, val loss {losses['val']:.4f}\")\n",
        "\n",
        "    # sample a batch of data\n",
        "    xb, yb = get_batch('train')\n",
        "\n",
        "    # evaluate the loss\n",
        "    logits, loss = model(xb, yb)\n",
        "    optimizer.zero_grad(set_to_none=True)\n",
        "    loss.backward()\n",
        "    optimizer.step()\n",
        "\n",
        "# generate from the model\n",
        "context = torch.zeros((1, 1), dtype=torch.long, device=device)\n",
        "print(decode(m.generate(context, max_new_tokens=2000)[0].tolist()))\n"
      ]
    }
  ],
  "metadata": {
    "colab": {
      "provenance": []
    },
    "kernelspec": {
      "display_name": "Python 3",
      "name": "python3"
    },
    "language_info": {
      "codemirror_mode": {
        "name": "ipython",
        "version": 3
      },
      "file_extension": ".py",
      "mimetype": "text/x-python",
      "name": "python",
      "nbconvert_exporter": "python",
      "pygments_lexer": "ipython3",
      "version": "3.12.1"
    }
  },
  "nbformat": 4,
  "nbformat_minor": 0
}
