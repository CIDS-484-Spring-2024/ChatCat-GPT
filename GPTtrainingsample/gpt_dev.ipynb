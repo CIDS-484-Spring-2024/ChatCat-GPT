{
  "cells": [
    {
      "cell_type": "code",
      "execution_count": 1,
      "metadata": {
        "colab": {
          "base_uri": "https://localhost:8080/"
        },
        "id": "h5hjCcLDr2WC",
        "outputId": "655f36ad-9714-45e0-fde1-f49911b32931"
      },
      "outputs": [],
      "source": [
        "# These may be required if you do not have them\n",
        "import torch\n",
        "import torch.nn"
      ]
    },
    {
      "cell_type": "code",
      "execution_count": 2,
      "metadata": {
        "id": "O6medjfRsLD9"
      },
      "outputs": [],
      "source": [
        "# read it in to inspect it\n",
        "with open('input.txt', 'r', encoding='utf-8') as f:\n",
        "    text = f.read()"
      ]
    },
    {
      "cell_type": "code",
      "execution_count": 3,
      "metadata": {
        "colab": {
          "base_uri": "https://localhost:8080/"
        },
        "id": "6xWI_VyAsN8F",
        "outputId": "3e685abc-b7e7-47bd-cfa3-f7abb16e648c"
      },
      "outputs": [
        {
          "name": "stdout",
          "output_type": "stream",
          "text": [
            "length of dataset in characters:  153208\n"
          ]
        }
      ],
      "source": [
        "print(\"length of dataset in characters: \", len(text))"
      ]
    },
    {
      "cell_type": "code",
      "execution_count": 4,
      "metadata": {
        "colab": {
          "base_uri": "https://localhost:8080/"
        },
        "id": "2c5V0FvqseE0",
        "outputId": "b243833b-9ddb-4568-af74-e384fe5bd29e"
      },
      "outputs": [
        {
          "name": "stdout",
          "output_type": "stream",
          "text": [
            "A Cappella\n",
            "A Cat\n",
            "A Net\n",
            "Aaargh\n",
            "Aaliyah\n",
            "Aaron\n",
            "Ab\n",
            "Ababa\n",
            "Abba\n",
            "Abba-daba\n",
            "Abba-Goo\n",
            "Abbey\n",
            "Abbey Roads\n",
            "Abbi-girl\n",
            "Abbie\n",
            "Abbot\n",
            "Abbott\n",
            "Abby\n",
            "Abby-girl\n",
            "Abby-normal\n",
            "Abbykitty\n",
            "Abcat\n",
            "Abdul\n",
            "Abe\n",
            "Abednego\n",
            "Abegale\n",
            "Abel\n",
            "Abelard\n",
            "Abendigo\n",
            "Abercrombie\n",
            "Aberdeen\n",
            "Abi\n",
            "Abigail\n",
            "Abigail Von Buttons\n",
            "Abilene\n",
            "Able\n",
            "Abner\n",
            "Abra\n",
            "Abra\n",
            "Abracadabra\n",
            "Abraham\n",
            "Abraxas\n",
            "Abrico\n",
            "Abs\n",
            "Absinthe\n",
            "Absolon\n",
            "Absolut\n",
            "Abstraction\n",
            "Abu\n",
            "Abubu\n",
            "Aby\n",
            "Abyss\n",
            "Acat\n",
            "Ace\n",
            "Ace Baby Toadflakes\n",
            "Ace Of Spades\n",
            "Acey\n",
            "Achille\n",
            "Achilles\n",
            "Acis\n",
            "Ackerly\n",
            "Acorn\n",
            "Acrolina\n",
            "Acroy\n",
            "Action\n",
            "Ada\n",
            "Ada Jane\n",
            "Adacat\n",
            "Adagio\n",
            "Adakin Skywalker\n",
            "Adam\n",
            "Adam And Eve\n",
            "Adams\n",
            "Adcom\n",
            "Addie\n",
            "Addis\n",
            "Addison\n",
            "Addy\n",
            "Addy-Tood\n",
            "Adelaida\n",
            "Adelaide\n",
            "Ademma\n",
            "Adidas\n",
            "Adirondak\n",
            "Adiza\n",
            "Adlai\n",
            "Adler\n",
            "Admetus\n",
            "Admiral\n",
            "Adobe\n",
            "Adolph\n",
            "Adom\n",
            "Adonis\n",
            "Adrian\n",
            "Adriatic\n",
            "Adrock\n",
            "Advance Cat\n",
            "Aegyptos\n",
            "Aelgifa\n",
            "Aelurus\n",
            "Aenias\n",
            "Aeolus\n",
            "Aerope\n",
            "Aeros\n",
            "Aesop\n",
            "Aethelwyn\n",
            "Aethra\n",
            "Affinity\n",
            "Afikoman\n",
            "Afonia\n",
            "Africa\n",
            "African Queen\n",
            "African-Americat\n",
            "Afrikan\n",
            "Afrikat\n",
            "Agadore\n",
            "Agamemnon\n",
            "Agape\n",
            "Agassi\n",
            "Agatha\n",
            "Agatha Christie\n",
            "Agatha Christy\n",
            "Agent Z\n",
            "Aggedor\n",
            "Aggie\n",
            "Agili-tree\n"
          ]
        }
      ],
      "source": [
        "# let's look at the first 1000 characters\n",
        "print(text[:1000])"
      ]
    },
    {
      "cell_type": "code",
      "execution_count": 5,
      "metadata": {
        "colab": {
          "base_uri": "https://localhost:8080/"
        },
        "id": "0e-Rbyr8sfM8",
        "outputId": "46b2a1c0-ce11-4324-df8e-282e3b61c817"
      },
      "outputs": [
        {
          "name": "stdout",
          "output_type": "stream",
          "text": [
            "\n",
            " !\"&'*+,-./012345789:;?ABCDEFGHIJKLMNOPQRSTUVWXYZ[]`abcdefghijklmnopqrstuvwxyz~àáâäæèéëñóö\n",
            "91\n"
          ]
        }
      ],
      "source": [
        "# here are all the unique characters that occur in this text\n",
        "chars = sorted(list(set(text)))\n",
        "vocab_size = len(chars)\n",
        "print(''.join(chars))\n",
        "print(vocab_size)"
      ]
    },
    {
      "cell_type": "code",
      "execution_count": 6,
      "metadata": {
        "colab": {
          "base_uri": "https://localhost:8080/"
        },
        "id": "Yw1LKNCgwjj1",
        "outputId": "f4620b7d-a104-4753-c77d-287408371d92"
      },
      "outputs": [
        {
          "name": "stdout",
          "output_type": "stream",
          "text": [
            "[60, 61, 61, 1, 72, 60, 57, 70, 57]\n",
            "hii there\n"
          ]
        }
      ],
      "source": [
        "# create a mapping from characters to integers\n",
        "stoi = { ch:i for i,ch in enumerate(chars) }\n",
        "itos = { i:ch for i,ch in enumerate(chars) }\n",
        "encode = lambda s: [stoi[c] for c in s] # encoder: take a string, output a list of integers\n",
        "decode = lambda l: ''.join([itos[i] for i in l]) # decoder: take a list of integers, output a string\n",
        "\n",
        "print(encode(\"hii there\"))\n",
        "print(decode(encode(\"hii there\")))"
      ]
    },
    {
      "cell_type": "code",
      "execution_count": 7,
      "metadata": {
        "colab": {
          "base_uri": "https://localhost:8080/"
        },
        "id": "YJb0OXPwzvqg",
        "outputId": "0c20a864-3d35-4b0b-eed7-2cfc15ea1f73"
      },
      "outputs": [
        {
          "name": "stdout",
          "output_type": "stream",
          "text": [
            "torch.Size([153208]) torch.int64\n",
            "tensor([24,  1, 26, 53, 68, 68, 57, 64, 64, 53,  0, 24,  1, 26, 53, 72,  0, 24,\n",
            "         1, 37, 57, 72,  0, 24, 53, 53, 70, 59, 60,  0, 24, 53, 64, 61, 77, 53,\n",
            "        60,  0, 24, 53, 70, 67, 66,  0, 24, 54,  0, 24, 54, 53, 54, 53,  0, 24,\n",
            "        54, 54, 53,  0, 24, 54, 54, 53,  9, 56, 53, 54, 53,  0, 24, 54, 54, 53,\n",
            "         9, 30, 67, 67,  0, 24, 54, 54, 57, 77,  0, 24, 54, 54, 57, 77,  1, 41,\n",
            "        67, 53, 56, 71,  0, 24, 54, 54, 61,  9, 59, 61, 70, 64,  0, 24, 54, 54,\n",
            "        61, 57,  0, 24, 54, 54, 67, 72,  0, 24, 54, 54, 67, 72, 72,  0, 24, 54,\n",
            "        54, 77,  0, 24, 54, 54, 77,  9, 59, 61, 70, 64,  0, 24, 54, 54, 77,  9,\n",
            "        66, 67, 70, 65, 53, 64,  0, 24, 54, 54, 77, 63, 61, 72, 72, 77,  0, 24,\n",
            "        54, 55, 53, 72,  0, 24, 54, 56, 73, 64,  0, 24, 54, 57,  0, 24, 54, 57,\n",
            "        56, 66, 57, 59, 67,  0, 24, 54, 57, 59, 53, 64, 57,  0, 24, 54, 57, 64,\n",
            "         0, 24, 54, 57, 64, 53, 70, 56,  0, 24, 54, 57, 66, 56, 61, 59, 67,  0,\n",
            "        24, 54, 57, 70, 55, 70, 67, 65, 54, 61, 57,  0, 24, 54, 57, 70, 56, 57,\n",
            "        57, 66,  0, 24, 54, 61,  0, 24, 54, 61, 59, 53, 61, 64,  0, 24, 54, 61,\n",
            "        59, 53, 61, 64,  1, 45, 67, 66,  1, 25, 73, 72, 72, 67, 66, 71,  0, 24,\n",
            "        54, 61, 64, 57, 66, 57,  0, 24, 54, 64, 57,  0, 24, 54, 66, 57, 70,  0,\n",
            "        24, 54, 70, 53,  0, 24, 54, 70, 53,  0, 24, 54, 70, 53, 55, 53, 56, 53,\n",
            "        54, 70, 53,  0, 24, 54, 70, 53, 60, 53, 65,  0, 24, 54, 70, 53, 76, 53,\n",
            "        71,  0, 24, 54, 70, 61, 55, 67,  0, 24, 54, 71,  0, 24, 54, 71, 61, 66,\n",
            "        72, 60, 57,  0, 24, 54, 71, 67, 64, 67, 66,  0, 24, 54, 71, 67, 64, 73,\n",
            "        72,  0, 24, 54, 71, 72, 70, 53, 55, 72, 61, 67, 66,  0, 24, 54, 73,  0,\n",
            "        24, 54, 73, 54, 73,  0, 24, 54, 77,  0, 24, 54, 77, 71, 71,  0, 24, 55,\n",
            "        53, 72,  0, 24, 55, 57,  0, 24, 55, 57,  1, 25, 53, 54, 77,  1, 43, 67,\n",
            "        53, 56, 58, 64, 53, 63, 57, 71,  0, 24, 55, 57,  1, 38, 58,  1, 42, 68,\n",
            "        53, 56, 57, 71,  0, 24, 55, 57, 77,  0, 24, 55, 60, 61, 64, 64, 57,  0,\n",
            "        24, 55, 60, 61, 64, 64, 57, 71,  0, 24, 55, 61, 71,  0, 24, 55, 63, 57,\n",
            "        70, 64, 77,  0, 24, 55, 67, 70, 66,  0, 24, 55, 70, 67, 64, 61, 66, 53,\n",
            "         0, 24, 55, 70, 67, 77,  0, 24, 55, 72, 61, 67, 66,  0, 24, 56, 53,  0,\n",
            "        24, 56, 53,  1, 33, 53, 66, 57,  0, 24, 56, 53, 55, 53, 72,  0, 24, 56,\n",
            "        53, 59, 61, 67,  0, 24, 56, 53, 63, 61, 66,  1, 42, 63, 77, 75, 53, 64,\n",
            "        63, 57, 70,  0, 24, 56, 53, 65,  0, 24, 56, 53, 65,  1, 24, 66, 56,  1,\n",
            "        28, 74, 57,  0, 24, 56, 53, 65, 71,  0, 24, 56, 55, 67, 65,  0, 24, 56,\n",
            "        56, 61, 57,  0, 24, 56, 56, 61, 71,  0, 24, 56, 56, 61, 71, 67, 66,  0,\n",
            "        24, 56, 56, 77,  0, 24, 56, 56, 77,  9, 43, 67, 67, 56,  0, 24, 56, 57,\n",
            "        64, 53, 61, 56, 53,  0, 24, 56, 57, 64, 53, 61, 56, 57,  0, 24, 56, 57,\n",
            "        65, 65, 53,  0, 24, 56, 61, 56, 53, 71,  0, 24, 56, 61, 70, 67, 66, 56,\n",
            "        53, 63,  0, 24, 56, 61, 78, 53,  0, 24, 56, 64, 53, 61,  0, 24, 56, 64,\n",
            "        57, 70,  0, 24, 56, 65, 57, 72, 73, 71,  0, 24, 56, 65, 61, 70, 53, 64,\n",
            "         0, 24, 56, 67, 54, 57,  0, 24, 56, 67, 64, 68, 60,  0, 24, 56, 67, 65,\n",
            "         0, 24, 56, 67, 66, 61, 71,  0, 24, 56, 70, 61, 53, 66,  0, 24, 56, 70,\n",
            "        61, 53, 72, 61, 55,  0, 24, 56, 70, 67, 55, 63,  0, 24, 56, 74, 53, 66,\n",
            "        55, 57,  1, 26, 53, 72,  0, 24, 57, 59, 77, 68, 72, 67, 71,  0, 24, 57,\n",
            "        64, 59, 61, 58, 53,  0, 24, 57, 64, 73, 70, 73, 71,  0, 24, 57, 66, 61,\n",
            "        53, 71,  0, 24, 57, 67, 64, 73, 71,  0, 24, 57, 70, 67, 68, 57,  0, 24,\n",
            "        57, 70, 67, 71,  0, 24, 57, 71, 67, 68,  0, 24, 57, 72, 60, 57, 64, 75,\n",
            "        77, 66,  0, 24, 57, 72, 60, 70, 53,  0, 24, 58, 58, 61, 66, 61, 72, 77,\n",
            "         0, 24, 58, 61, 63, 67, 65, 53, 66,  0, 24, 58, 67, 66, 61, 53,  0, 24,\n",
            "        58, 70, 61, 55, 53,  0, 24, 58, 70, 61, 55, 53, 66,  1, 40, 73, 57, 57,\n",
            "        66,  0, 24, 58, 70, 61, 55, 53, 66,  9, 24, 65, 57, 70, 61, 55, 53, 72,\n",
            "         0, 24, 58, 70, 61, 63, 53, 66,  0, 24, 58, 70, 61, 63, 53, 72,  0, 24,\n",
            "        59, 53, 56, 67, 70, 57,  0, 24, 59, 53, 65, 57, 65, 66, 67, 66,  0, 24,\n",
            "        59, 53, 68, 57,  0, 24, 59, 53, 71, 71, 61,  0, 24, 59, 53, 72, 60, 53,\n",
            "         0, 24, 59, 53, 72, 60, 53,  1, 26, 60, 70, 61, 71, 72, 61, 57,  0, 24,\n",
            "        59, 53, 72, 60, 53,  1, 26, 60, 70, 61, 71, 72, 77,  0, 24, 59, 57, 66,\n",
            "        72,  1, 49,  0, 24, 59, 59, 57, 56, 67, 70,  0, 24, 59, 59, 61, 57,  0,\n",
            "        24, 59, 61, 64, 61,  9, 72, 70, 57, 57])\n"
          ]
        }
      ],
      "source": [
        "# let's now encode the entire text dataset and store it into a torch.Tensor\n",
        "import torch # we use PyTorch: https://pytorch.org\n",
        "data = torch.tensor(encode(text), dtype=torch.long)\n",
        "print(data.shape, data.dtype)\n",
        "print(data[:1000]) # the 1000 characters we looked at earier will to the GPT look like this"
      ]
    },
    {
      "cell_type": "code",
      "execution_count": 8,
      "metadata": {
        "id": "f_WIXqxz0lU5"
      },
      "outputs": [],
      "source": [
        "# Let's now split up the data into train and validation sets\n",
        "n = int(0.9*len(data)) # first 90% will be train, rest val\n",
        "train_data = data[:n]\n",
        "val_data = data[n:]"
      ]
    },
    {
      "cell_type": "code",
      "execution_count": 9,
      "metadata": {
        "id": "TD5Bj8Y6IAD4"
      },
      "outputs": [
        {
          "data": {
            "text/plain": [
              "tensor([24,  1, 26, 53, 68, 68, 57, 64, 64])"
            ]
          },
          "execution_count": 9,
          "metadata": {},
          "output_type": "execute_result"
        }
      ],
      "source": [
        "block_size = 8\n",
        "train_data[:block_size+1]"
      ]
    },
    {
      "cell_type": "code",
      "execution_count": 10,
      "metadata": {
        "colab": {
          "base_uri": "https://localhost:8080/"
        },
        "id": "9HXDe8vGJCEn",
        "outputId": "b513c9eb-c6de-45fd-d32e-430c7060298b"
      },
      "outputs": [
        {
          "name": "stdout",
          "output_type": "stream",
          "text": [
            "when input is tensor([24]) the target: 1\n",
            "when input is tensor([24,  1]) the target: 26\n",
            "when input is tensor([24,  1, 26]) the target: 53\n",
            "when input is tensor([24,  1, 26, 53]) the target: 68\n",
            "when input is tensor([24,  1, 26, 53, 68]) the target: 68\n",
            "when input is tensor([24,  1, 26, 53, 68, 68]) the target: 57\n",
            "when input is tensor([24,  1, 26, 53, 68, 68, 57]) the target: 64\n",
            "when input is tensor([24,  1, 26, 53, 68, 68, 57, 64]) the target: 64\n"
          ]
        }
      ],
      "source": [
        "x = train_data[:block_size]\n",
        "y = train_data[1:block_size+1]\n",
        "for t in range(block_size):\n",
        "    context = x[:t+1]\n",
        "    target = y[t]\n",
        "    print(f\"when input is {context} the target: {target}\")"
      ]
    },
    {
      "cell_type": "code",
      "execution_count": 11,
      "metadata": {
        "colab": {
          "base_uri": "https://localhost:8080/"
        },
        "id": "Q3k1Czf7LuA9",
        "outputId": "d1c7f28a-e82c-4192-c312-1dfa797bba93"
      },
      "outputs": [
        {
          "name": "stdout",
          "output_type": "stream",
          "text": [
            "inputs:\n",
            "torch.Size([4, 8])\n",
            "tensor([[ 1, 72, 60, 57,  1, 31, 73, 66],\n",
            "        [ 1, 34, 61, 71, 71,  0, 37, 67],\n",
            "        [61,  0, 25, 53, 65, 54, 61, 66],\n",
            "        [72,  0, 26, 60, 64, 67, 57, 64]])\n",
            "targets:\n",
            "torch.Size([4, 8])\n",
            "tensor([[72, 60, 57,  1, 31, 73, 66,  0],\n",
            "        [34, 61, 71, 71,  0, 37, 67,  1],\n",
            "        [ 0, 25, 53, 65, 54, 61, 66, 53],\n",
            "        [ 0, 26, 60, 64, 67, 57, 64, 61]])\n",
            "----\n",
            "when input is [1] the target: 72\n",
            "when input is [1, 72] the target: 60\n",
            "when input is [1, 72, 60] the target: 57\n",
            "when input is [1, 72, 60, 57] the target: 1\n",
            "when input is [1, 72, 60, 57, 1] the target: 31\n",
            "when input is [1, 72, 60, 57, 1, 31] the target: 73\n",
            "when input is [1, 72, 60, 57, 1, 31, 73] the target: 66\n",
            "when input is [1, 72, 60, 57, 1, 31, 73, 66] the target: 0\n",
            "when input is [1] the target: 34\n",
            "when input is [1, 34] the target: 61\n",
            "when input is [1, 34, 61] the target: 71\n",
            "when input is [1, 34, 61, 71] the target: 71\n",
            "when input is [1, 34, 61, 71, 71] the target: 0\n",
            "when input is [1, 34, 61, 71, 71, 0] the target: 37\n",
            "when input is [1, 34, 61, 71, 71, 0, 37] the target: 67\n",
            "when input is [1, 34, 61, 71, 71, 0, 37, 67] the target: 1\n",
            "when input is [61] the target: 0\n",
            "when input is [61, 0] the target: 25\n",
            "when input is [61, 0, 25] the target: 53\n",
            "when input is [61, 0, 25, 53] the target: 65\n",
            "when input is [61, 0, 25, 53, 65] the target: 54\n",
            "when input is [61, 0, 25, 53, 65, 54] the target: 61\n",
            "when input is [61, 0, 25, 53, 65, 54, 61] the target: 66\n",
            "when input is [61, 0, 25, 53, 65, 54, 61, 66] the target: 53\n",
            "when input is [72] the target: 0\n",
            "when input is [72, 0] the target: 26\n",
            "when input is [72, 0, 26] the target: 60\n",
            "when input is [72, 0, 26, 60] the target: 64\n",
            "when input is [72, 0, 26, 60, 64] the target: 67\n",
            "when input is [72, 0, 26, 60, 64, 67] the target: 57\n",
            "when input is [72, 0, 26, 60, 64, 67, 57] the target: 64\n",
            "when input is [72, 0, 26, 60, 64, 67, 57, 64] the target: 61\n"
          ]
        }
      ],
      "source": [
        "torch.manual_seed(1337)\n",
        "batch_size = 4 # how many independent sequences will we process in parallel?\n",
        "block_size = 8 # what is the maximum context length for predictions?\n",
        "\n",
        "def get_batch(split):\n",
        "    # generate a small batch of data of inputs x and targets y\n",
        "    data = train_data if split == 'train' else val_data\n",
        "    ix = torch.randint(len(data) - block_size, (batch_size,))\n",
        "    x = torch.stack([data[i:i+block_size] for i in ix])\n",
        "    y = torch.stack([data[i+1:i+block_size+1] for i in ix])\n",
        "    return x, y\n",
        "\n",
        "xb, yb = get_batch('train')\n",
        "print('inputs:')\n",
        "print(xb.shape)\n",
        "print(xb)\n",
        "print('targets:')\n",
        "print(yb.shape)\n",
        "print(yb)\n",
        "\n",
        "print('----')\n",
        "\n",
        "for b in range(batch_size): # batch dimension\n",
        "    for t in range(block_size): # time dimension\n",
        "        context = xb[b, :t+1]\n",
        "        target = yb[b,t]\n",
        "        print(f\"when input is {context.tolist()} the target: {target}\")"
      ]
    },
    {
      "cell_type": "code",
      "execution_count": 12,
      "metadata": {
        "colab": {
          "base_uri": "https://localhost:8080/"
        },
        "id": "qpyyAeIzQjlO",
        "outputId": "aff58685-c4f0-44c5-ad14-a8bd411d4855"
      },
      "outputs": [
        {
          "name": "stdout",
          "output_type": "stream",
          "text": [
            "tensor([[ 1, 72, 60, 57,  1, 31, 73, 66],\n",
            "        [ 1, 34, 61, 71, 71,  0, 37, 67],\n",
            "        [61,  0, 25, 53, 65, 54, 61, 66],\n",
            "        [72,  0, 26, 60, 64, 67, 57, 64]])\n"
          ]
        }
      ],
      "source": [
        "print(xb) # our input to the transformer"
      ]
    },
    {
      "cell_type": "code",
      "execution_count": 13,
      "metadata": {
        "colab": {
          "base_uri": "https://localhost:8080/"
        },
        "id": "nql_1ER53oCf",
        "outputId": "c92e9f9a-89c6-43fd-f56d-1fd4a0a93d3f"
      },
      "outputs": [
        {
          "name": "stdout",
          "output_type": "stream",
          "text": [
            "torch.Size([32, 91])\n",
            "tensor(4.8415, grad_fn=<NllLossBackward0>)\n",
            "\n",
            "QâXb?LtyjP2Ae2JUlElp/TXyö5hKDà:hs7ñiMèQkwkdbli37,ö:NiyRcâqD9ëkó'GR?s'Llj\n",
            "HmäF0bläOyjv:â]wZlwkó'T7dfa\n"
          ]
        }
      ],
      "source": [
        "import torch\n",
        "import torch.nn as nn\n",
        "from torch.nn import functional as F\n",
        "torch.manual_seed(1337)\n",
        "\n",
        "class BigramLanguageModel(nn.Module):\n",
        "\n",
        "    def __init__(self, vocab_size):\n",
        "        super().__init__()\n",
        "        # each token directly reads off the logits for the next token from a lookup table\n",
        "        self.token_embedding_table = nn.Embedding(vocab_size, vocab_size)\n",
        "\n",
        "    def forward(self, idx, targets=None):\n",
        "\n",
        "        # idx and targets are both (B,T) tensor of integers\n",
        "        logits = self.token_embedding_table(idx) # (B,T,C)\n",
        "        \n",
        "        if targets is None:\n",
        "            loss = None\n",
        "        else:\n",
        "            B, T, C = logits.shape\n",
        "            logits = logits.view(B*T, C)\n",
        "            targets = targets.view(B*T)\n",
        "            loss = F.cross_entropy(logits, targets)\n",
        "\n",
        "        return logits, loss\n",
        "    \n",
        "    def generate(self, idx, max_new_tokens):\n",
        "        # idx is (B, T) array of indices in the current context\n",
        "        for _ in range(max_new_tokens):\n",
        "            # get the predictions\n",
        "            logits, loss = self(idx)\n",
        "            # focus only on the last time step\n",
        "            logits = logits[:, -1, :] # becomes (B, C)\n",
        "            # apply softmax to get probabilities\n",
        "            probs = F.softmax(logits, dim=-1) # (B, C)\n",
        "            # sample from the distribution\n",
        "            idx_next = torch.multinomial(probs, num_samples=1) # (B, 1)\n",
        "            # append sampled index to the running sequence\n",
        "            idx = torch.cat((idx, idx_next), dim=1) # (B, T+1)\n",
        "        return idx\n",
        "\n",
        "m = BigramLanguageModel(vocab_size)\n",
        "logits, loss = m(xb, yb)\n",
        "print(logits.shape)\n",
        "print(loss)\n",
        "\n",
        "print(decode(m.generate(idx = torch.zeros((1, 1), dtype=torch.long), max_new_tokens=100)[0].tolist()))\n"
      ]
    },
    {
      "cell_type": "code",
      "execution_count": 14,
      "metadata": {
        "id": "eTyJ8qAaDdiF"
      },
      "outputs": [],
      "source": [
        "# create a PyTorch optimizer\n",
        "optimizer = torch.optim.AdamW(m.parameters(), lr=1e-3)"
      ]
    },
    {
      "cell_type": "code",
      "execution_count": 15,
      "metadata": {
        "colab": {
          "base_uri": "https://localhost:8080/"
        },
        "id": "Hs4kI8YdEkQj",
        "outputId": "6c69f428-76fa-4f59-9464-f0541990959c"
      },
      "outputs": [
        {
          "name": "stdout",
          "output_type": "stream",
          "text": [
            "5.048171520233154\n"
          ]
        }
      ],
      "source": [
        "batch_size = 32\n",
        "for steps in range(100): # increase number of steps for good results... \n",
        "    \n",
        "    # sample a batch of data\n",
        "    xb, yb = get_batch('train')\n",
        "\n",
        "    # evaluate the loss\n",
        "    logits, loss = m(xb, yb)\n",
        "    optimizer.zero_grad(set_to_none=True)\n",
        "    loss.backward()\n",
        "    optimizer.step()\n",
        "\n",
        "print(loss.item())\n"
      ]
    },
    {
      "cell_type": "code",
      "execution_count": 16,
      "metadata": {
        "colab": {
          "base_uri": "https://localhost:8080/"
        },
        "id": "EcVIDWAZEtjN",
        "outputId": "87c13cb6-c559-4eb5-d667-499f97773440"
      },
      "outputs": [
        {
          "name": "stdout",
          "output_type": "stream",
          "text": [
            "\n",
            "GwföWMbcb 3UJUBáMNjk;:`M8T+VjH\"U'éaz!yhëJ7wSâgN9ëXITK:2PyC/ /FgñOvéiñBIEl1ä4B:.nidEt2-h7D/M3qOèæR]Aö5fxuO8nAäRcQzópqdI[]ROck?aY/iS.lH azqéEJN3`rmAKñES,kwi-Vóñà8D/Y4g-mäóMWTkKK4GOvWMK'VóPJ2ñEpëRM,äñ&àóàj/Q4C55oFaHKLé~S! xU'F~ab?ö~i3tjáKZT~H9!0`]w:*.ñyU'y&*ää`eog9og0J~â]RG0`:ó?grb8à8\n",
            "NmSF2'YhHKñà8w5uoM8?qNd*äëö]-Ky~0qmXStTVó!lq.é4t-iæ`lOQ!!+öw1F'-JK3VNCèPsUOó0Lé~P\n",
            "bæ~O~!PJLlfjwDà8VRtäGá3F1Y`lMI/;Rmeun-/9ëa5!.yö55ö5p?,\"äx'ó2ZV1Q-âöeI0è~S.ö19P???CV73âNkMNoa~ZM4~Fe1-m`Ulctj3ZnL:öFä'V!2MRJg1ä bfVXLkeâ\n"
          ]
        }
      ],
      "source": [
        "print(decode(m.generate(idx = torch.zeros((1, 1), dtype=torch.long), max_new_tokens=500)[0].tolist()))"
      ]
    },
    {
      "cell_type": "markdown",
      "metadata": {
        "id": "XinV8nmAnmKN"
      },
      "source": [
        "## The mathematical trick in self-attention"
      ]
    },
    {
      "cell_type": "code",
      "execution_count": 17,
      "metadata": {
        "colab": {
          "base_uri": "https://localhost:8080/"
        },
        "id": "tukiH-NbRBhA",
        "outputId": "ba6b39ae-185e-4005-c882-eb48dcf355e8"
      },
      "outputs": [
        {
          "name": "stdout",
          "output_type": "stream",
          "text": [
            "a=\n",
            "tensor([[1.0000, 0.0000, 0.0000],\n",
            "        [0.5000, 0.5000, 0.0000],\n",
            "        [0.3333, 0.3333, 0.3333]])\n",
            "--\n",
            "b=\n",
            "tensor([[2., 7.],\n",
            "        [6., 4.],\n",
            "        [6., 5.]])\n",
            "--\n",
            "c=\n",
            "tensor([[2.0000, 7.0000],\n",
            "        [4.0000, 5.5000],\n",
            "        [4.6667, 5.3333]])\n"
          ]
        }
      ],
      "source": [
        "# toy example illustrating how matrix multiplication can be used for a \"weighted aggregation\"\n",
        "torch.manual_seed(42)\n",
        "a = torch.tril(torch.ones(3, 3))\n",
        "a = a / torch.sum(a, 1, keepdim=True)\n",
        "b = torch.randint(0,10,(3,2)).float()\n",
        "c = a @ b\n",
        "print('a=')\n",
        "print(a)\n",
        "print('--')\n",
        "print('b=')\n",
        "print(b)\n",
        "print('--')\n",
        "print('c=')\n",
        "print(c)"
      ]
    },
    {
      "cell_type": "code",
      "execution_count": 18,
      "metadata": {
        "colab": {
          "base_uri": "https://localhost:8080/"
        },
        "id": "Hs_E24uRE8kr",
        "outputId": "1c4866c5-490d-481c-8090-d2c96904a3a8"
      },
      "outputs": [
        {
          "data": {
            "text/plain": [
              "torch.Size([4, 8, 2])"
            ]
          },
          "execution_count": 18,
          "metadata": {},
          "output_type": "execute_result"
        }
      ],
      "source": [
        "# consider the following toy example:\n",
        "\n",
        "torch.manual_seed(1337)\n",
        "B,T,C = 4,8,2 # batch, time, channels\n",
        "x = torch.randn(B,T,C)\n",
        "x.shape"
      ]
    },
    {
      "cell_type": "code",
      "execution_count": 19,
      "metadata": {
        "id": "86NuXX0fn7ps"
      },
      "outputs": [],
      "source": [
        "# We want x[b,t] = mean_{i<=t} x[b,i]\n",
        "xbow = torch.zeros((B,T,C))\n",
        "for b in range(B):\n",
        "    for t in range(T):\n",
        "        xprev = x[b,:t+1] # (t,C)\n",
        "        xbow[b,t] = torch.mean(xprev, 0)\n"
      ]
    },
    {
      "cell_type": "code",
      "execution_count": 20,
      "metadata": {
        "colab": {
          "base_uri": "https://localhost:8080/"
        },
        "id": "yhdOAd6-wXkZ",
        "outputId": "212ba272-57ff-42ca-b3d5-3e21504b20fd"
      },
      "outputs": [
        {
          "data": {
            "text/plain": [
              "False"
            ]
          },
          "execution_count": 20,
          "metadata": {},
          "output_type": "execute_result"
        }
      ],
      "source": [
        "# version 2: using matrix multiply for a weighted aggregation\n",
        "wei = torch.tril(torch.ones(T, T))\n",
        "wei = wei / wei.sum(1, keepdim=True)\n",
        "xbow2 = wei @ x # (B, T, T) @ (B, T, C) ----> (B, T, C)\n",
        "torch.allclose(xbow, xbow2)"
      ]
    },
    {
      "cell_type": "code",
      "execution_count": 21,
      "metadata": {
        "colab": {
          "base_uri": "https://localhost:8080/"
        },
        "id": "wOURrfG-ysoL",
        "outputId": "85440474-4ef0-48d2-e2b0-cad01efda999"
      },
      "outputs": [
        {
          "data": {
            "text/plain": [
              "False"
            ]
          },
          "execution_count": 21,
          "metadata": {},
          "output_type": "execute_result"
        }
      ],
      "source": [
        "# version 3: use Softmax\n",
        "tril = torch.tril(torch.ones(T, T))\n",
        "wei = torch.zeros((T,T))\n",
        "wei = wei.masked_fill(tril == 0, float('-inf'))\n",
        "wei = F.softmax(wei, dim=-1)\n",
        "xbow3 = wei @ x\n",
        "torch.allclose(xbow, xbow3)\n"
      ]
    },
    {
      "cell_type": "code",
      "execution_count": 22,
      "metadata": {
        "colab": {
          "base_uri": "https://localhost:8080/"
        },
        "id": "EDarxEWIRMKq",
        "outputId": "72f86600-e41e-45c0-9336-36d332d46c6e"
      },
      "outputs": [
        {
          "data": {
            "text/plain": [
              "torch.Size([4, 8, 16])"
            ]
          },
          "execution_count": 22,
          "metadata": {},
          "output_type": "execute_result"
        }
      ],
      "source": [
        "# version 4: self-attention!\n",
        "torch.manual_seed(1337)\n",
        "B,T,C = 4,8,32 # batch, time, channels\n",
        "x = torch.randn(B,T,C)\n",
        "\n",
        "# let's see a single Head perform self-attention\n",
        "head_size = 16\n",
        "key = nn.Linear(C, head_size, bias=False)\n",
        "query = nn.Linear(C, head_size, bias=False)\n",
        "value = nn.Linear(C, head_size, bias=False)\n",
        "k = key(x)   # (B, T, 16)\n",
        "q = query(x) # (B, T, 16)\n",
        "wei =  q @ k.transpose(-2, -1) # (B, T, 16) @ (B, 16, T) ---> (B, T, T)\n",
        "\n",
        "tril = torch.tril(torch.ones(T, T))\n",
        "#wei = torch.zeros((T,T))\n",
        "wei = wei.masked_fill(tril == 0, float('-inf'))\n",
        "wei = F.softmax(wei, dim=-1)\n",
        "\n",
        "v = value(x)\n",
        "out = wei @ v\n",
        "#out = wei @ x\n",
        "\n",
        "out.shape"
      ]
    },
    {
      "cell_type": "code",
      "execution_count": 23,
      "metadata": {
        "colab": {
          "base_uri": "https://localhost:8080/"
        },
        "id": "vT1hdtzXCjgL",
        "outputId": "1af15072-487c-4258-ac11-f0c37b527739"
      },
      "outputs": [
        {
          "data": {
            "text/plain": [
              "tensor([[1.0000, 0.0000, 0.0000, 0.0000, 0.0000, 0.0000, 0.0000, 0.0000],\n",
              "        [0.1574, 0.8426, 0.0000, 0.0000, 0.0000, 0.0000, 0.0000, 0.0000],\n",
              "        [0.2088, 0.1646, 0.6266, 0.0000, 0.0000, 0.0000, 0.0000, 0.0000],\n",
              "        [0.5792, 0.1187, 0.1889, 0.1131, 0.0000, 0.0000, 0.0000, 0.0000],\n",
              "        [0.0294, 0.1052, 0.0469, 0.0276, 0.7909, 0.0000, 0.0000, 0.0000],\n",
              "        [0.0176, 0.2689, 0.0215, 0.0089, 0.6812, 0.0019, 0.0000, 0.0000],\n",
              "        [0.1691, 0.4066, 0.0438, 0.0416, 0.1048, 0.2012, 0.0329, 0.0000],\n",
              "        [0.0210, 0.0843, 0.0555, 0.2297, 0.0573, 0.0709, 0.2423, 0.2391]],\n",
              "       grad_fn=<SelectBackward0>)"
            ]
          },
          "execution_count": 23,
          "metadata": {},
          "output_type": "execute_result"
        }
      ],
      "source": [
        "wei[0]"
      ]
    },
    {
      "cell_type": "markdown",
      "metadata": {
        "id": "M5CvobiQ0pLr"
      },
      "source": [
        "Notes:\n",
        "- Attention is a **communication mechanism**. Can be seen as nodes in a directed graph looking at each other and aggregating information with a weighted sum from all nodes that point to them, with data-dependent weights.\n",
        "- There is no notion of space. Attention simply acts over a set of vectors. This is why we need to positionally encode tokens.\n",
        "- Each example across batch dimension is of course processed completely independently and never \"talk\" to each other\n",
        "- In an \"encoder\" attention block just delete the single line that does masking with `tril`, allowing all tokens to communicate. This block here is called a \"decoder\" attention block because it has triangular masking, and is usually used in autoregressive settings, like language modeling.\n",
        "- \"self-attention\" just means that the keys and values are produced from the same source as queries. In \"cross-attention\", the queries still get produced from x, but the keys and values come from some other, external source (e.g. an encoder module)\n",
        "- \"Scaled\" attention additional divides `wei` by 1/sqrt(head_size). This makes it so when input Q,K are unit variance, wei will be unit variance too and Softmax will stay diffuse and not saturate too much. Illustration below"
      ]
    },
    {
      "cell_type": "code",
      "execution_count": 24,
      "metadata": {
        "id": "4SNbLq5z3oBw"
      },
      "outputs": [],
      "source": [
        "k = torch.randn(B,T,head_size)\n",
        "q = torch.randn(B,T,head_size)\n",
        "wei = q @ k.transpose(-2, -1) * head_size**-0.5"
      ]
    },
    {
      "cell_type": "code",
      "execution_count": 25,
      "metadata": {
        "colab": {
          "base_uri": "https://localhost:8080/"
        },
        "id": "Nl6I9n9IRTSo",
        "outputId": "1dde246f-176c-49cf-cbf3-31873a7cd390"
      },
      "outputs": [
        {
          "data": {
            "text/plain": [
              "tensor(1.0449)"
            ]
          },
          "execution_count": 25,
          "metadata": {},
          "output_type": "execute_result"
        }
      ],
      "source": [
        "k.var()"
      ]
    },
    {
      "cell_type": "code",
      "execution_count": 26,
      "metadata": {
        "colab": {
          "base_uri": "https://localhost:8080/"
        },
        "id": "T1tQx7oeRvtc",
        "outputId": "adb53af2-7eda-40c3-e50e-6bb36d41f340"
      },
      "outputs": [
        {
          "data": {
            "text/plain": [
              "tensor(1.0700)"
            ]
          },
          "execution_count": 26,
          "metadata": {},
          "output_type": "execute_result"
        }
      ],
      "source": [
        "q.var()"
      ]
    },
    {
      "cell_type": "code",
      "execution_count": 27,
      "metadata": {
        "colab": {
          "base_uri": "https://localhost:8080/"
        },
        "id": "MLb_odHU3iKM",
        "outputId": "44d403bc-ae14-41ac-c4d9-c495d89cf6a6"
      },
      "outputs": [
        {
          "data": {
            "text/plain": [
              "tensor(1.0918)"
            ]
          },
          "execution_count": 27,
          "metadata": {},
          "output_type": "execute_result"
        }
      ],
      "source": [
        "wei.var()"
      ]
    },
    {
      "cell_type": "code",
      "execution_count": 28,
      "metadata": {
        "colab": {
          "base_uri": "https://localhost:8080/"
        },
        "id": "JB82yzt44REI",
        "outputId": "479e1e05-0f92-4369-978f-d4132a23ec76"
      },
      "outputs": [
        {
          "data": {
            "text/plain": [
              "tensor([0.1925, 0.1426, 0.2351, 0.1426, 0.2872])"
            ]
          },
          "execution_count": 28,
          "metadata": {},
          "output_type": "execute_result"
        }
      ],
      "source": [
        "torch.softmax(torch.tensor([0.1, -0.2, 0.3, -0.2, 0.5]), dim=-1)"
      ]
    },
    {
      "cell_type": "code",
      "execution_count": 29,
      "metadata": {
        "colab": {
          "base_uri": "https://localhost:8080/"
        },
        "id": "Mpt8569BB9_f",
        "outputId": "28f372a7-9694-4285-ce24-939638c72c52"
      },
      "outputs": [
        {
          "data": {
            "text/plain": [
              "tensor([0.0326, 0.0030, 0.1615, 0.0030, 0.8000])"
            ]
          },
          "execution_count": 29,
          "metadata": {},
          "output_type": "execute_result"
        }
      ],
      "source": [
        "torch.softmax(torch.tensor([0.1, -0.2, 0.3, -0.2, 0.5])*8, dim=-1) # gets too peaky, converges to one-hot"
      ]
    },
    {
      "cell_type": "code",
      "execution_count": 30,
      "metadata": {
        "colab": {
          "base_uri": "https://localhost:8080/"
        },
        "id": "2Num7sX9CKOH",
        "outputId": "68851730-6dae-42d3-bd22-2f6b4474b623"
      },
      "outputs": [
        {
          "data": {
            "text/plain": [
              "torch.Size([32, 100])"
            ]
          },
          "execution_count": 30,
          "metadata": {},
          "output_type": "execute_result"
        }
      ],
      "source": [
        "class LayerNorm1d: # (used to be BatchNorm1d)\n",
        "  \n",
        "  def __init__(self, dim, eps=1e-5, momentum=0.1):\n",
        "    self.eps = eps\n",
        "    self.gamma = torch.ones(dim)\n",
        "    self.beta = torch.zeros(dim)\n",
        "  \n",
        "  def __call__(self, x):\n",
        "    # calculate the forward pass\n",
        "    xmean = x.mean(1, keepdim=True) # batch mean\n",
        "    xvar = x.var(1, keepdim=True) # batch variance\n",
        "    xhat = (x - xmean) / torch.sqrt(xvar + self.eps) # normalize to unit variance\n",
        "    self.out = self.gamma * xhat + self.beta\n",
        "    return self.out\n",
        "  \n",
        "  def parameters(self):\n",
        "    return [self.gamma, self.beta]\n",
        "\n",
        "torch.manual_seed(1337)\n",
        "module = LayerNorm1d(100)\n",
        "x = torch.randn(32, 100) # batch size 32 of 100-dimensional vectors\n",
        "x = module(x)\n",
        "x.shape"
      ]
    },
    {
      "cell_type": "code",
      "execution_count": 31,
      "metadata": {
        "colab": {
          "base_uri": "https://localhost:8080/"
        },
        "id": "633T2cmnW1uk",
        "outputId": "8c506420-bce7-4203-9ecd-314d08cfbaff"
      },
      "outputs": [
        {
          "data": {
            "text/plain": [
              "(tensor(0.1469), tensor(0.8803))"
            ]
          },
          "execution_count": 31,
          "metadata": {},
          "output_type": "execute_result"
        }
      ],
      "source": [
        "x[:,0].mean(), x[:,0].std() # mean,std of one feature across all batch inputs"
      ]
    },
    {
      "cell_type": "code",
      "execution_count": 32,
      "metadata": {
        "colab": {
          "base_uri": "https://localhost:8080/"
        },
        "id": "LN9cK9BoXCYb",
        "outputId": "f6a54576-0773-4c43-c4aa-85b298540566"
      },
      "outputs": [
        {
          "data": {
            "text/plain": [
              "(tensor(-9.5367e-09), tensor(1.0000))"
            ]
          },
          "execution_count": 32,
          "metadata": {},
          "output_type": "execute_result"
        }
      ],
      "source": [
        "x[0,:].mean(), x[0,:].std() # mean,std of a single input from the batch, of its features"
      ]
    },
    {
      "cell_type": "code",
      "execution_count": 33,
      "metadata": {
        "id": "dRJH6wM_XFfU"
      },
      "outputs": [],
      "source": [
        "# French to English translation example:\n",
        "\n",
        "# <--------- ENCODE ------------------><--------------- DECODE ----------------->\n",
        "# les réseaux de neurones sont géniaux! <START> neural networks are awesome!<END>\n",
        "\n"
      ]
    },
    {
      "cell_type": "markdown",
      "metadata": {
        "id": "ZcvKeBXoZFOY"
      },
      "source": [
        "### Full finished code, for reference\n",
        "\n",
        "You may want to refer directly to the git repo instead though."
      ]
    },
    {
      "cell_type": "code",
      "execution_count": 34,
      "metadata": {
        "colab": {
          "base_uri": "https://localhost:8080/"
        },
        "id": "hoelkOrFY8bN",
        "outputId": "3cd22673-c676-429e-d04c-05514e16ad4f"
      },
      "outputs": [
        {
          "name": "stdout",
          "output_type": "stream",
          "text": [
            "0.213083 M parameters\n"
          ]
        },
        {
          "name": "stdout",
          "output_type": "stream",
          "text": [
            "step 0: train loss 4.5782, val loss 4.5889\n",
            "step 100: train loss 2.8462, val loss 3.0794\n",
            "step 200: train loss 2.6740, val loss 3.0268\n",
            "step 300: train loss 2.5333, val loss 2.9452\n",
            "step 400: train loss 2.4047, val loss 2.8109\n",
            "step 500: train loss 2.3326, val loss 2.7910\n",
            "step 600: train loss 2.2611, val loss 2.7216\n",
            "step 700: train loss 2.1927, val loss 2.6621\n",
            "step 800: train loss 2.1019, val loss 2.5595\n",
            "step 900: train loss 2.0664, val loss 2.5741\n",
            "step 1000: train loss 2.0117, val loss 2.5159\n",
            "step 1100: train loss 1.9729, val loss 2.4724\n",
            "step 1200: train loss 1.9476, val loss 2.4326\n",
            "step 1300: train loss 1.9069, val loss 2.4069\n",
            "step 1400: train loss 1.9072, val loss 2.4199\n",
            "step 1500: train loss 1.8839, val loss 2.3730\n",
            "step 1600: train loss 1.8517, val loss 2.3783\n",
            "step 1700: train loss 1.8422, val loss 2.3367\n",
            "step 1800: train loss 1.8214, val loss 2.3392\n",
            "step 1900: train loss 1.8234, val loss 2.3251\n",
            "step 2000: train loss 1.8097, val loss 2.3234\n",
            "step 2100: train loss 1.7974, val loss 2.3369\n",
            "step 2200: train loss 1.7753, val loss 2.3015\n",
            "step 2300: train loss 1.7679, val loss 2.3272\n",
            "step 2400: train loss 1.7672, val loss 2.3375\n",
            "step 2500: train loss 1.7421, val loss 2.3231\n",
            "step 2600: train loss 1.7456, val loss 2.3037\n",
            "step 2700: train loss 1.7310, val loss 2.3179\n",
            "step 2800: train loss 1.7321, val loss 2.2948\n",
            "step 2900: train loss 1.7141, val loss 2.3281\n",
            "step 3000: train loss 1.7009, val loss 2.3163\n",
            "step 3100: train loss 1.7054, val loss 2.3072\n",
            "step 3200: train loss 1.6950, val loss 2.2948\n",
            "step 3300: train loss 1.6808, val loss 2.2679\n",
            "step 3400: train loss 1.6758, val loss 2.2809\n",
            "step 3500: train loss 1.6816, val loss 2.2618\n",
            "step 3600: train loss 1.6530, val loss 2.2575\n",
            "step 3700: train loss 1.6579, val loss 2.2273\n",
            "step 3800: train loss 1.6566, val loss 2.2858\n",
            "step 3900: train loss 1.6537, val loss 2.2731\n",
            "step 4000: train loss 1.6288, val loss 2.2594\n",
            "step 4100: train loss 1.6349, val loss 2.2470\n",
            "step 4200: train loss 1.6232, val loss 2.2603\n",
            "step 4300: train loss 1.6267, val loss 2.2568\n",
            "step 4400: train loss 1.6218, val loss 2.2528\n",
            "step 4500: train loss 1.6086, val loss 2.2425\n",
            "step 4600: train loss 1.5936, val loss 2.2675\n",
            "step 4700: train loss 1.6069, val loss 2.2668\n",
            "step 4800: train loss 1.5831, val loss 2.2639\n",
            "step 4900: train loss 1.5945, val loss 2.2723\n",
            "step 4999: train loss 1.5750, val loss 2.2358\n",
            "\n",
            "Bowlopy\n",
            "Gplots\n",
            "Gpstop\n",
            "Gpette\n",
            "Gpinter\n",
            "Gpintant\n",
            "Gpintle-to\n",
            "Gpintor\n",
            "Gpinterford\n",
            "Gpinto\n",
            "Gpister Mat\n",
            "GPutcain\n",
            "Guthy\n",
            "Guty\n",
            "Guy lapage\n",
            "Gu-A-A-fahulish of Kinissian\n",
            "O-ga-Ga\n",
            "Oyger\n",
            "Oygier\n",
            "Oteror\n",
            "Oth for wace cot, pirtskirser\n",
            "Otriga\n",
            "Otnigoricpour\n",
            "Otrork\n",
            "Otror\n",
            "Otreberick\n",
            "Otrecat\n",
            "Otressa\n",
            "Otresie\n",
            "Ots\n",
            "Otsie\n",
            "Otsiso\n",
            "Ota\n",
            "Otsua Fluff\n",
            "Ots-Butres\n",
            "Otterlne\n",
            "Otterpus\n",
            "Otterp\n",
            "Otterper\n",
            "Otter\n",
            "Otter Bean Arlie\n",
            "Otter Fotchelk Petts\n",
            "Otterr Eudette Haz\n",
            "Ottlence\n",
            "Oxto\n",
            "Oxtus\n",
            "Ozy-Pop\n",
            "Ozyus\n",
            "Ozy\n",
            "Ozaberre\n",
            "Ozek\n",
            "Ozeka dinters\n",
            "Ozikerus\n",
            "Ozilly\n",
            "Ozille\n",
            "Ozradue\n",
            "Ozial\n",
            "Ozile and Spizershanpon\n",
            "Obsciot\n",
            "Obsercoit\n",
            "Obsler\n",
            "Obser\n",
            "Obson\n",
            "Ocol\n",
            "Ocoon\n",
            "Ocoldessone\n",
            "Ocoton Dall\n",
            "Ocora\n",
            "Ocoraby\n",
            "Octreepile\n",
            "Octor\n",
            "Octor And Strent\n",
            "Octane\n",
            "Octanuff\n",
            "Octamo Man Werrins Glames nort\"\n",
            "Nornren\n",
            "Norn\n",
            "Norra-La-Bear\n",
            "Norra\n",
            "Norsway\n",
            "Nortocielo\n",
            "Notphop\n",
            "Notsy Lan The Beat\n",
            "Notsy LeeCae\n",
            "Noty Beautle\n",
            "Noty Mall\n",
            "Noty Neig\n",
            "Noty\n",
            "Noty Nealigen\n",
            "Noty Natheak\n",
            "Noty Snapaurresh Tack\n",
            "Now Goudfulskie\n",
            "Novatte\n",
            "Nowbattie\n",
            "Nowetto\n",
            "Noweakeettum\n",
            "Nuckernnut\n",
            "Nucken\n",
            "Nuckian\n",
            "Nudlemiger\n",
            "Nudlippers\n",
            "Nudlettic\n",
            "Nudles\n",
            "Nudley\n",
            "Nywmellino Hepper\n",
            "Nya Mosery Merie Sartox\n",
            "Nyba\n",
            "Nya Vel\n",
            "Nyceceo Gisirl\n",
            "Nycet Lit\n",
            "Nyraze\n",
            "Nyckot\n",
            "Nycum\n",
            "Nyde\n",
            "Nycoi\n",
            "Nyger\n",
            "Nyu Little\n",
            "Nycrecol\n",
            "N: Foelip formite\n",
            "Nyeta\n",
            "Nyethean\n",
            "Nyother\n",
            "Nyith\n",
            "Nyscod\n",
            "Nysine\n",
            "Nystlin Abremie\n",
            "Nystlas Rots\n",
            "Nyway Mavia Sillighto\n",
            "Nyxy\n",
            "Nycet\n",
            "Nyebell\n",
            "Nyia\n",
            "Nylana\n",
            "NYylon\n",
            "Nysho\n",
            "Nyshygirettuss\n",
            "Nyta\n",
            "Nywezill\n",
            "NyWie\n",
            "Nyda\n",
            "Nydenda\n",
            "Nyggie\n",
            "Nyggletty\n",
            "Nyegge\n",
            "Nyetie\n",
            "Nzhetle\n",
            "Nyetto\n",
            "Nyetzellas Tablerritco Tomatio garaco Indlaroy IIIredouchtleypeak Tharry Girl\n",
            "Sigon\n",
            "Sigpos\n",
            "Sigrose\n",
            "Sigrotge Glouggelt\n",
            "Sigers\n",
            "Sigers Sinse\n",
            "Sigerops\n",
            "Siggian\n",
            "Sigfan Kath\n",
            "Siggith Kill King The Chembelphy\n",
            "Limoth\n",
            "Limbo\n",
            "Limul\n",
            "Limu\n",
            "Linde\n",
            "Liny\n",
            "Linie Siss\n",
            "Linne Prince\n",
            "Linpo\n",
            "Linta\n",
            "LinWa Boutah\n",
            "Lin' Bunsouic\n",
            "Linguin\n",
            "Lingum\n",
            "Lingump\n",
            "Linguss\n",
            "Linguss Alic madialohar for \"mightlep,authers mythecider in mytheraily my: artlish in the T. Per apex Wiclare\" ow Merina Gorl\n",
            "Artilla\n",
            "Artin\n",
            "Artipian for meane, Villiane\n",
            "Irs\n",
            "Irvrsam\n",
            "Irvuvious\n",
            "Irviria\n",
            "Irwowazerred\n",
            "Irweowil's Urity Selley Catsain\n",
            "Ses Alisa \n",
            "Sese\n"
          ]
        }
      ],
      "source": [
        "import torch\n",
        "import torch.nn as nn\n",
        "from torch.nn import functional as F\n",
        "\n",
        "# hyperparameters\n",
        "batch_size = 16 # how many independent sequences will we process in parallel?\n",
        "block_size = 32 # what is the maximum context length for predictions?\n",
        "max_iters = 5000\n",
        "eval_interval = 100\n",
        "learning_rate = 1e-3\n",
        "device = 'cuda' if torch.cuda.is_available() else 'cpu'\n",
        "eval_iters = 200\n",
        "n_embd = 64\n",
        "n_head = 4\n",
        "n_layer = 4\n",
        "dropout = 0.0\n",
        "# ------------\n",
        "\n",
        "torch.manual_seed(1337)\n",
        "\n",
        "# wget https://raw.githubusercontent.com/karpathy/char-rnn/master/data/tinyshakespeare/input.txt\n",
        "with open('input.txt', 'r', encoding='utf-8') as f:\n",
        "    text = f.read()\n",
        "\n",
        "# here are all the unique characters that occur in this text\n",
        "chars = sorted(list(set(text)))\n",
        "vocab_size = len(chars)\n",
        "# create a mapping from characters to integers\n",
        "stoi = { ch:i for i,ch in enumerate(chars) }\n",
        "itos = { i:ch for i,ch in enumerate(chars) }\n",
        "encode = lambda s: [stoi[c] for c in s] # encoder: take a string, output a list of integers\n",
        "decode = lambda l: ''.join([itos[i] for i in l]) # decoder: take a list of integers, output a string\n",
        "\n",
        "# Train and test splits\n",
        "data = torch.tensor(encode(text), dtype=torch.long)\n",
        "n = int(0.9*len(data)) # first 90% will be train, rest val\n",
        "train_data = data[:n]\n",
        "val_data = data[n:]\n",
        "\n",
        "# data loading\n",
        "def get_batch(split):\n",
        "    # generate a small batch of data of inputs x and targets y\n",
        "    data = train_data if split == 'train' else val_data\n",
        "    ix = torch.randint(len(data) - block_size, (batch_size,))\n",
        "    x = torch.stack([data[i:i+block_size] for i in ix])\n",
        "    y = torch.stack([data[i+1:i+block_size+1] for i in ix])\n",
        "    x, y = x.to(device), y.to(device)\n",
        "    return x, y\n",
        "\n",
        "@torch.no_grad()\n",
        "def estimate_loss():\n",
        "    out = {}\n",
        "    model.eval()\n",
        "    for split in ['train', 'val']:\n",
        "        losses = torch.zeros(eval_iters)\n",
        "        for k in range(eval_iters):\n",
        "            X, Y = get_batch(split)\n",
        "            logits, loss = model(X, Y)\n",
        "            losses[k] = loss.item()\n",
        "        out[split] = losses.mean()\n",
        "    model.train()\n",
        "    return out\n",
        "\n",
        "class Head(nn.Module):\n",
        "    \"\"\" one head of self-attention \"\"\"\n",
        "\n",
        "    def __init__(self, head_size):\n",
        "        super().__init__()\n",
        "        self.key = nn.Linear(n_embd, head_size, bias=False)\n",
        "        self.query = nn.Linear(n_embd, head_size, bias=False)\n",
        "        self.value = nn.Linear(n_embd, head_size, bias=False)\n",
        "        self.register_buffer('tril', torch.tril(torch.ones(block_size, block_size)))\n",
        "\n",
        "        self.dropout = nn.Dropout(dropout)\n",
        "\n",
        "    def forward(self, x):\n",
        "        B,T,C = x.shape\n",
        "        k = self.key(x)   # (B,T,C)\n",
        "        q = self.query(x) # (B,T,C)\n",
        "        # compute attention scores (\"affinities\")\n",
        "        wei = q @ k.transpose(-2,-1) * C**-0.5 # (B, T, C) @ (B, C, T) -> (B, T, T)\n",
        "        wei = wei.masked_fill(self.tril[:T, :T] == 0, float('-inf')) # (B, T, T)\n",
        "        wei = F.softmax(wei, dim=-1) # (B, T, T)\n",
        "        wei = self.dropout(wei)\n",
        "        # perform the weighted aggregation of the values\n",
        "        v = self.value(x) # (B,T,C)\n",
        "        out = wei @ v # (B, T, T) @ (B, T, C) -> (B, T, C)\n",
        "        return out\n",
        "\n",
        "class MultiHeadAttention(nn.Module):\n",
        "    \"\"\" multiple heads of self-attention in parallel \"\"\"\n",
        "\n",
        "    def __init__(self, num_heads, head_size):\n",
        "        super().__init__()\n",
        "        self.heads = nn.ModuleList([Head(head_size) for _ in range(num_heads)])\n",
        "        self.proj = nn.Linear(n_embd, n_embd)\n",
        "        self.dropout = nn.Dropout(dropout)\n",
        "\n",
        "    def forward(self, x):\n",
        "        out = torch.cat([h(x) for h in self.heads], dim=-1)\n",
        "        out = self.dropout(self.proj(out))\n",
        "        return out\n",
        "\n",
        "class FeedFoward(nn.Module):\n",
        "    \"\"\" a simple linear layer followed by a non-linearity \"\"\"\n",
        "\n",
        "    def __init__(self, n_embd):\n",
        "        super().__init__()\n",
        "        self.net = nn.Sequential(\n",
        "            nn.Linear(n_embd, 4 * n_embd),\n",
        "            nn.ReLU(),\n",
        "            nn.Linear(4 * n_embd, n_embd),\n",
        "            nn.Dropout(dropout),\n",
        "        )\n",
        "\n",
        "    def forward(self, x):\n",
        "        return self.net(x)\n",
        "\n",
        "class Block(nn.Module):\n",
        "    \"\"\" Transformer block: communication followed by computation \"\"\"\n",
        "\n",
        "    def __init__(self, n_embd, n_head):\n",
        "        # n_embd: embedding dimension, n_head: the number of heads we'd like\n",
        "        super().__init__()\n",
        "        head_size = n_embd // n_head\n",
        "        self.sa = MultiHeadAttention(n_head, head_size)\n",
        "        self.ffwd = FeedFoward(n_embd)\n",
        "        self.ln1 = nn.LayerNorm(n_embd)\n",
        "        self.ln2 = nn.LayerNorm(n_embd)\n",
        "\n",
        "    def forward(self, x):\n",
        "        x = x + self.sa(self.ln1(x))\n",
        "        x = x + self.ffwd(self.ln2(x))\n",
        "        return x\n",
        "\n",
        "# super simple bigram model\n",
        "class BigramLanguageModel(nn.Module):\n",
        "\n",
        "    def __init__(self):\n",
        "        super().__init__()\n",
        "        # each token directly reads off the logits for the next token from a lookup table\n",
        "        self.token_embedding_table = nn.Embedding(vocab_size, n_embd)\n",
        "        self.position_embedding_table = nn.Embedding(block_size, n_embd)\n",
        "        self.blocks = nn.Sequential(*[Block(n_embd, n_head=n_head) for _ in range(n_layer)])\n",
        "        self.ln_f = nn.LayerNorm(n_embd) # final layer norm\n",
        "        self.lm_head = nn.Linear(n_embd, vocab_size)\n",
        "\n",
        "    def forward(self, idx, targets=None):\n",
        "        B, T = idx.shape\n",
        "\n",
        "        # idx and targets are both (B,T) tensor of integers\n",
        "        tok_emb = self.token_embedding_table(idx) # (B,T,C)\n",
        "        pos_emb = self.position_embedding_table(torch.arange(T, device=device)) # (T,C)\n",
        "        x = tok_emb + pos_emb # (B,T,C)\n",
        "        x = self.blocks(x) # (B,T,C)\n",
        "        x = self.ln_f(x) # (B,T,C)\n",
        "        logits = self.lm_head(x) # (B,T,vocab_size)\n",
        "\n",
        "        if targets is None:\n",
        "            loss = None\n",
        "        else:\n",
        "            B, T, C = logits.shape\n",
        "            logits = logits.view(B*T, C)\n",
        "            targets = targets.view(B*T)\n",
        "            loss = F.cross_entropy(logits, targets)\n",
        "\n",
        "        return logits, loss\n",
        "\n",
        "    def generate(self, idx, max_new_tokens):\n",
        "        # idx is (B, T) array of indices in the current context\n",
        "        for _ in range(max_new_tokens):\n",
        "            # crop idx to the last block_size tokens\n",
        "            idx_cond = idx[:, -block_size:]\n",
        "            # get the predictions\n",
        "            logits, loss = self(idx_cond)\n",
        "            # focus only on the last time step\n",
        "            logits = logits[:, -1, :] # becomes (B, C)\n",
        "            # apply softmax to get probabilities\n",
        "            probs = F.softmax(logits, dim=-1) # (B, C)\n",
        "            # sample from the distribution\n",
        "            idx_next = torch.multinomial(probs, num_samples=1) # (B, 1)\n",
        "            # append sampled index to the running sequence\n",
        "            idx = torch.cat((idx, idx_next), dim=1) # (B, T+1)\n",
        "        return idx\n",
        "\n",
        "model = BigramLanguageModel()\n",
        "m = model.to(device)\n",
        "# print the number of parameters in the model\n",
        "print(sum(p.numel() for p in m.parameters())/1e6, 'M parameters')\n",
        "\n",
        "# create a PyTorch optimizer\n",
        "optimizer = torch.optim.AdamW(model.parameters(), lr=learning_rate)\n",
        "\n",
        "for iter in range(max_iters):\n",
        "\n",
        "    # every once in a while evaluate the loss on train and val sets\n",
        "    if iter % eval_interval == 0 or iter == max_iters - 1:\n",
        "        losses = estimate_loss()\n",
        "        print(f\"step {iter}: train loss {losses['train']:.4f}, val loss {losses['val']:.4f}\")\n",
        "\n",
        "    # sample a batch of data\n",
        "    xb, yb = get_batch('train')\n",
        "\n",
        "    # evaluate the loss\n",
        "    logits, loss = model(xb, yb)\n",
        "    optimizer.zero_grad(set_to_none=True)\n",
        "    loss.backward()\n",
        "    optimizer.step()\n",
        "\n",
        "# generate from the model\n",
        "context = torch.zeros((1, 1), dtype=torch.long, device=device)\n",
        "print(decode(m.generate(context, max_new_tokens=2000)[0].tolist()))\n"
      ]
    }
  ],
  "metadata": {
    "colab": {
      "provenance": []
    },
    "kernelspec": {
      "display_name": "Python 3",
      "name": "python3"
    },
    "language_info": {
      "codemirror_mode": {
        "name": "ipython",
        "version": 3
      },
      "file_extension": ".py",
      "mimetype": "text/x-python",
      "name": "python",
      "nbconvert_exporter": "python",
      "pygments_lexer": "ipython3",
      "version": "3.12.1"
    }
  },
  "nbformat": 4,
  "nbformat_minor": 0
}
