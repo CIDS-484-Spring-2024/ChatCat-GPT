{
  "cells": [
    {
      "cell_type": "code",
      "execution_count": 2,
      "metadata": {
        "colab": {
          "base_uri": "https://localhost:8080/"
        },
        "id": "h5hjCcLDr2WC",
        "outputId": "655f36ad-9714-45e0-fde1-f49911b32931"
      },
      "outputs": [],
      "source": [
        "# These may be required if you do not have them\n",
        "import torch\n",
        "import torch.nn"
      ]
    },
    {
      "cell_type": "code",
      "execution_count": 3,
      "metadata": {
        "id": "O6medjfRsLD9"
      },
      "outputs": [],
      "source": [
        "# read it in to inspect it\n",
        "with open('input.txt', 'r', encoding='utf-8') as f:\n",
        "    text = f.read()"
      ]
    },
    {
      "cell_type": "code",
      "execution_count": 4,
      "metadata": {
        "colab": {
          "base_uri": "https://localhost:8080/"
        },
        "id": "6xWI_VyAsN8F",
        "outputId": "3e685abc-b7e7-47bd-cfa3-f7abb16e648c"
      },
      "outputs": [
        {
          "name": "stdout",
          "output_type": "stream",
          "text": [
            "length of dataset in characters:  167466\n"
          ]
        }
      ],
      "source": [
        "print(\"length of dataset in characters: \", len(text))"
      ]
    },
    {
      "cell_type": "code",
      "execution_count": 5,
      "metadata": {
        "colab": {
          "base_uri": "https://localhost:8080/"
        },
        "id": "2c5V0FvqseE0",
        "outputId": "b243833b-9ddb-4568-af74-e384fe5bd29e"
      },
      "outputs": [
        {
          "name": "stdout",
          "output_type": "stream",
          "text": [
            "A Cappella\n",
            "A Cat\n",
            "A Net (aka Nettie)\n",
            "A'ja (pronounced \"Asia\")\n",
            "A.C. (Alternating Current)\n",
            "A.C. (Another Cat)\n",
            "A.C. (Attack Cat)\n",
            "A.C. (Attitude Cat)\n",
            "A.D.D. (Attention Deficit Disorder)\n",
            "A.J. (Angelina Jolie)\n",
            "A.J. (Angelo Jo)\n",
            "A.L.F. (Alien Life Form)\n",
            "A.V.P. (Alien vs Predator)\n",
            "Aaargh\n",
            "Aaliyah\n",
            "Aaron\n",
            "Ab\n",
            "Ababa\n",
            "Abba\n",
            "Abba-daba\n",
            "Abba-Goo\n",
            "Abbey\n",
            "Abbey Roads\n",
            "Abbi-girl\n",
            "Abbie\n",
            "Abbot\n",
            "Abbott\n",
            "Abby\n",
            "Abby-girl\n",
            "Abby-normal\n",
            "Abbykitty\n",
            "Abcat\n",
            "Abdul\n",
            "Abe\n",
            "Abednego\n",
            "Abegale\n",
            "Abel\n",
            "Abelard\n",
            "Abendigo\n",
            "Abercrombie\n",
            "Aberdeen\n",
            "Abi\n",
            "Abigail\n",
            "Abigail Von Buttons\n",
            "Abilene\n",
            "Able\n",
            "Abner\n",
            "Abra\n",
            "Abra (and Cadabra?)\n",
            "Abracadabra\n",
            "Abraham\n",
            "Abraxas\n",
            "Abrico\n",
            "Abs\n",
            "Absinthe\n",
            "Absolon (from Chaucer's \"Cabterbury Tales\")\n",
            "Absolut (named after the Swedish vodka)\n",
            "Abstraction\n",
            "Abu\n",
            "Abubu\n",
            "Aby\n",
            "Abyss\n",
            "Acat\n",
            "Ace\n",
            "Ace Baby Toadflakes\n",
            "Ace Of Spades\n",
            "Acey\n",
            "Achille\n",
            "Achilles (Greek mythology: Champion of the Greeks in the Trojan War)\n",
            "Acis\n",
            "Ackerly\n",
            "Acorn\n",
            "Acrolina\n",
            "Acroy\n",
            "Action\n",
            "Ada\n",
            "Ada Jane\n",
            "Adacat\n",
            "Adagio\n",
            "Adakin Skywalker\n",
            "Adam\n",
            "Adam And Eve\n",
            "Adams\n",
            "Adcom\n",
            "Addie\n",
            "Addis\n",
            "Addison\n",
            "Addy\n",
            "Addy-Tood\n"
          ]
        }
      ],
      "source": [
        "# let's look at the first 1000 characters\n",
        "print(text[:1000])"
      ]
    },
    {
      "cell_type": "code",
      "execution_count": 6,
      "metadata": {
        "colab": {
          "base_uri": "https://localhost:8080/"
        },
        "id": "0e-Rbyr8sfM8",
        "outputId": "46b2a1c0-ce11-4324-df8e-282e3b61c817"
      },
      "outputs": [
        {
          "name": "stdout",
          "output_type": "stream",
          "text": [
            "\n",
            " !\"&'()*+,-./012345789:;?ABCDEFGHIJKLMNOPQRSTUVWXYZ[]`abcdefghijklmnopqrstuvwxyz~àáâäæèéëñóö\n",
            "93\n"
          ]
        }
      ],
      "source": [
        "# here are all the unique characters that occur in this text\n",
        "chars = sorted(list(set(text)))\n",
        "vocab_size = len(chars)\n",
        "print(''.join(chars))\n",
        "print(vocab_size)"
      ]
    },
    {
      "cell_type": "code",
      "execution_count": 7,
      "metadata": {
        "colab": {
          "base_uri": "https://localhost:8080/"
        },
        "id": "Yw1LKNCgwjj1",
        "outputId": "f4620b7d-a104-4753-c77d-287408371d92"
      },
      "outputs": [
        {
          "name": "stdout",
          "output_type": "stream",
          "text": [
            "[62, 63, 63, 1, 74, 62, 59, 72, 59]\n",
            "hii there\n"
          ]
        }
      ],
      "source": [
        "# create a mapping from characters to integers\n",
        "stoi = { ch:i for i,ch in enumerate(chars) }\n",
        "itos = { i:ch for i,ch in enumerate(chars) }\n",
        "encode = lambda s: [stoi[c] for c in s] # encoder: take a string, output a list of integers\n",
        "decode = lambda l: ''.join([itos[i] for i in l]) # decoder: take a list of integers, output a string\n",
        "\n",
        "print(encode(\"hii there\"))\n",
        "print(decode(encode(\"hii there\")))"
      ]
    },
    {
      "cell_type": "code",
      "execution_count": 8,
      "metadata": {
        "colab": {
          "base_uri": "https://localhost:8080/"
        },
        "id": "YJb0OXPwzvqg",
        "outputId": "0c20a864-3d35-4b0b-eed7-2cfc15ea1f73"
      },
      "outputs": [
        {
          "name": "stdout",
          "output_type": "stream",
          "text": [
            "torch.Size([167466]) torch.int64\n",
            "tensor([26,  1, 28, 55, 70, 70, 59, 66, 66, 55,  0, 26,  1, 28, 55, 74,  0, 26,\n",
            "         1, 39, 59, 74,  1,  6, 55, 65, 55,  1, 39, 59, 74, 74, 63, 59,  7,  0,\n",
            "        26,  5, 64, 55,  1,  6, 70, 72, 69, 68, 69, 75, 68, 57, 59, 58,  1,  3,\n",
            "        26, 73, 63, 55,  3,  7,  0, 26, 12, 28, 12,  1,  6, 26, 66, 74, 59, 72,\n",
            "        68, 55, 74, 63, 68, 61,  1, 28, 75, 72, 72, 59, 68, 74,  7,  0, 26, 12,\n",
            "        28, 12,  1,  6, 26, 68, 69, 74, 62, 59, 72,  1, 28, 55, 74,  7,  0, 26,\n",
            "        12, 28, 12,  1,  6, 26, 74, 74, 55, 57, 65,  1, 28, 55, 74,  7,  0, 26,\n",
            "        12, 28, 12,  1,  6, 26, 74, 74, 63, 74, 75, 58, 59,  1, 28, 55, 74,  7,\n",
            "         0, 26, 12, 29, 12, 29, 12,  1,  6, 26, 74, 74, 59, 68, 74, 63, 69, 68,\n",
            "         1, 29, 59, 60, 63, 57, 63, 74,  1, 29, 63, 73, 69, 72, 58, 59, 72,  7,\n",
            "         0, 26, 12, 35, 12,  1,  6, 26, 68, 61, 59, 66, 63, 68, 55,  1, 35, 69,\n",
            "        66, 63, 59,  7,  0, 26, 12, 35, 12,  1,  6, 26, 68, 61, 59, 66, 69,  1,\n",
            "        35, 69,  7,  0, 26, 12, 37, 12, 31, 12,  1,  6, 26, 66, 63, 59, 68,  1,\n",
            "        37, 63, 60, 59,  1, 31, 69, 72, 67,  7,  0, 26, 12, 47, 12, 41, 12,  1,\n",
            "         6, 26, 66, 63, 59, 68,  1, 76, 73,  1, 41, 72, 59, 58, 55, 74, 69, 72,\n",
            "         7,  0, 26, 55, 55, 72, 61, 62,  0, 26, 55, 66, 63, 79, 55, 62,  0, 26,\n",
            "        55, 72, 69, 68,  0, 26, 56,  0, 26, 56, 55, 56, 55,  0, 26, 56, 56, 55,\n",
            "         0, 26, 56, 56, 55, 11, 58, 55, 56, 55,  0, 26, 56, 56, 55, 11, 32, 69,\n",
            "        69,  0, 26, 56, 56, 59, 79,  0, 26, 56, 56, 59, 79,  1, 43, 69, 55, 58,\n",
            "        73,  0, 26, 56, 56, 63, 11, 61, 63, 72, 66,  0, 26, 56, 56, 63, 59,  0,\n",
            "        26, 56, 56, 69, 74,  0, 26, 56, 56, 69, 74, 74,  0, 26, 56, 56, 79,  0,\n",
            "        26, 56, 56, 79, 11, 61, 63, 72, 66,  0, 26, 56, 56, 79, 11, 68, 69, 72,\n",
            "        67, 55, 66,  0, 26, 56, 56, 79, 65, 63, 74, 74, 79,  0, 26, 56, 57, 55,\n",
            "        74,  0, 26, 56, 58, 75, 66,  0, 26, 56, 59,  0, 26, 56, 59, 58, 68, 59,\n",
            "        61, 69,  0, 26, 56, 59, 61, 55, 66, 59,  0, 26, 56, 59, 66,  0, 26, 56,\n",
            "        59, 66, 55, 72, 58,  0, 26, 56, 59, 68, 58, 63, 61, 69,  0, 26, 56, 59,\n",
            "        72, 57, 72, 69, 67, 56, 63, 59,  0, 26, 56, 59, 72, 58, 59, 59, 68,  0,\n",
            "        26, 56, 63,  0, 26, 56, 63, 61, 55, 63, 66,  0, 26, 56, 63, 61, 55, 63,\n",
            "        66,  1, 47, 69, 68,  1, 27, 75, 74, 74, 69, 68, 73,  0, 26, 56, 63, 66,\n",
            "        59, 68, 59,  0, 26, 56, 66, 59,  0, 26, 56, 68, 59, 72,  0, 26, 56, 72,\n",
            "        55,  0, 26, 56, 72, 55,  1,  6, 55, 68, 58,  1, 28, 55, 58, 55, 56, 72,\n",
            "        55, 25,  7,  0, 26, 56, 72, 55, 57, 55, 58, 55, 56, 72, 55,  0, 26, 56,\n",
            "        72, 55, 62, 55, 67,  0, 26, 56, 72, 55, 78, 55, 73,  0, 26, 56, 72, 63,\n",
            "        57, 69,  0, 26, 56, 73,  0, 26, 56, 73, 63, 68, 74, 62, 59,  0, 26, 56,\n",
            "        73, 69, 66, 69, 68,  1,  6, 60, 72, 69, 67,  1, 28, 62, 55, 75, 57, 59,\n",
            "        72,  5, 73,  1,  3, 28, 55, 56, 74, 59, 72, 56, 75, 72, 79,  1, 45, 55,\n",
            "        66, 59, 73,  3,  7,  0, 26, 56, 73, 69, 66, 75, 74,  1,  6, 68, 55, 67,\n",
            "        59, 58,  1, 55, 60, 74, 59, 72,  1, 74, 62, 59,  1, 44, 77, 59, 58, 63,\n",
            "        73, 62,  1, 76, 69, 58, 65, 55,  7,  0, 26, 56, 73, 74, 72, 55, 57, 74,\n",
            "        63, 69, 68,  0, 26, 56, 75,  0, 26, 56, 75, 56, 75,  0, 26, 56, 79,  0,\n",
            "        26, 56, 79, 73, 73,  0, 26, 57, 55, 74,  0, 26, 57, 59,  0, 26, 57, 59,\n",
            "         1, 27, 55, 56, 79,  1, 45, 69, 55, 58, 60, 66, 55, 65, 59, 73,  0, 26,\n",
            "        57, 59,  1, 40, 60,  1, 44, 70, 55, 58, 59, 73,  0, 26, 57, 59, 79,  0,\n",
            "        26, 57, 62, 63, 66, 66, 59,  0, 26, 57, 62, 63, 66, 66, 59, 73,  1,  6,\n",
            "        32, 72, 59, 59, 65,  1, 67, 79, 74, 62, 69, 66, 69, 61, 79, 23,  1, 28,\n",
            "        62, 55, 67, 70, 63, 69, 68,  1, 69, 60,  1, 74, 62, 59,  1, 32, 72, 59,\n",
            "        59, 65, 73,  1, 63, 68,  1, 74, 62, 59,  1, 45, 72, 69, 64, 55, 68,  1,\n",
            "        48, 55, 72,  7,  0, 26, 57, 63, 73,  0, 26, 57, 65, 59, 72, 66, 79,  0,\n",
            "        26, 57, 69, 72, 68,  0, 26, 57, 72, 69, 66, 63, 68, 55,  0, 26, 57, 72,\n",
            "        69, 79,  0, 26, 57, 74, 63, 69, 68,  0, 26, 58, 55,  0, 26, 58, 55,  1,\n",
            "        35, 55, 68, 59,  0, 26, 58, 55, 57, 55, 74,  0, 26, 58, 55, 61, 63, 69,\n",
            "         0, 26, 58, 55, 65, 63, 68,  1, 44, 65, 79, 77, 55, 66, 65, 59, 72,  0,\n",
            "        26, 58, 55, 67,  0, 26, 58, 55, 67,  1, 26, 68, 58,  1, 30, 76, 59,  0,\n",
            "        26, 58, 55, 67, 73,  0, 26, 58, 57, 69, 67,  0, 26, 58, 58, 63, 59,  0,\n",
            "        26, 58, 58, 63, 73,  0, 26, 58, 58, 63, 73, 69, 68,  0, 26, 58, 58, 79,\n",
            "         0, 26, 58, 58, 79, 11, 45, 69, 69, 58])\n"
          ]
        }
      ],
      "source": [
        "# let's now encode the entire text dataset and store it into a torch.Tensor\n",
        "import torch # we use PyTorch: https://pytorch.org\n",
        "data = torch.tensor(encode(text), dtype=torch.long)\n",
        "print(data.shape, data.dtype)\n",
        "print(data[:1000]) # the 1000 characters we looked at earier will to the GPT look like this"
      ]
    },
    {
      "cell_type": "code",
      "execution_count": 9,
      "metadata": {
        "id": "f_WIXqxz0lU5"
      },
      "outputs": [],
      "source": [
        "# Let's now split up the data into train and validation sets\n",
        "n = int(0.9*len(data)) # first 90% will be train, rest val\n",
        "train_data = data[:n]\n",
        "val_data = data[n:]"
      ]
    },
    {
      "cell_type": "code",
      "execution_count": 10,
      "metadata": {
        "id": "TD5Bj8Y6IAD4"
      },
      "outputs": [
        {
          "data": {
            "text/plain": [
              "tensor([26,  1, 28, 55, 70, 70, 59, 66, 66])"
            ]
          },
          "execution_count": 10,
          "metadata": {},
          "output_type": "execute_result"
        }
      ],
      "source": [
        "block_size = 8\n",
        "train_data[:block_size+1]"
      ]
    },
    {
      "cell_type": "code",
      "execution_count": 11,
      "metadata": {
        "colab": {
          "base_uri": "https://localhost:8080/"
        },
        "id": "9HXDe8vGJCEn",
        "outputId": "b513c9eb-c6de-45fd-d32e-430c7060298b"
      },
      "outputs": [
        {
          "name": "stdout",
          "output_type": "stream",
          "text": [
            "when input is tensor([26]) the target: 1\n",
            "when input is tensor([26,  1]) the target: 28\n",
            "when input is tensor([26,  1, 28]) the target: 55\n",
            "when input is tensor([26,  1, 28, 55]) the target: 70\n",
            "when input is tensor([26,  1, 28, 55, 70]) the target: 70\n",
            "when input is tensor([26,  1, 28, 55, 70, 70]) the target: 59\n",
            "when input is tensor([26,  1, 28, 55, 70, 70, 59]) the target: 66\n",
            "when input is tensor([26,  1, 28, 55, 70, 70, 59, 66]) the target: 66\n"
          ]
        }
      ],
      "source": [
        "x = train_data[:block_size]\n",
        "y = train_data[1:block_size+1]\n",
        "for t in range(block_size):\n",
        "    context = x[:t+1]\n",
        "    target = y[t]\n",
        "    print(f\"when input is {context} the target: {target}\")"
      ]
    },
    {
      "cell_type": "code",
      "execution_count": 12,
      "metadata": {
        "colab": {
          "base_uri": "https://localhost:8080/"
        },
        "id": "Q3k1Czf7LuA9",
        "outputId": "d1c7f28a-e82c-4192-c312-1dfa797bba93"
      },
      "outputs": [
        {
          "name": "stdout",
          "output_type": "stream",
          "text": [
            "inputs:\n",
            "torch.Size([4, 8])\n",
            "tensor([[59,  0, 28, 62, 69, 57, 69, 11],\n",
            "        [69, 69, 68,  0, 45, 62, 59,  1],\n",
            "        [61, 69,  1,  6, 74, 62, 59,  1],\n",
            "        [69, 68, 74, 55, 63, 68, 59,  0]])\n",
            "targets:\n",
            "torch.Size([4, 8])\n",
            "tensor([[ 0, 28, 62, 69, 57, 69, 11, 41],\n",
            "        [69, 68,  0, 45, 62, 59,  1, 45],\n",
            "        [69,  1,  6, 74, 62, 59,  1, 77],\n",
            "        [68, 74, 55, 63, 68, 59,  0, 31]])\n",
            "----\n",
            "when input is [59] the target: 0\n",
            "when input is [59, 0] the target: 28\n",
            "when input is [59, 0, 28] the target: 62\n",
            "when input is [59, 0, 28, 62] the target: 69\n",
            "when input is [59, 0, 28, 62, 69] the target: 57\n",
            "when input is [59, 0, 28, 62, 69, 57] the target: 69\n",
            "when input is [59, 0, 28, 62, 69, 57, 69] the target: 11\n",
            "when input is [59, 0, 28, 62, 69, 57, 69, 11] the target: 41\n",
            "when input is [69] the target: 69\n",
            "when input is [69, 69] the target: 68\n",
            "when input is [69, 69, 68] the target: 0\n",
            "when input is [69, 69, 68, 0] the target: 45\n",
            "when input is [69, 69, 68, 0, 45] the target: 62\n",
            "when input is [69, 69, 68, 0, 45, 62] the target: 59\n",
            "when input is [69, 69, 68, 0, 45, 62, 59] the target: 1\n",
            "when input is [69, 69, 68, 0, 45, 62, 59, 1] the target: 45\n",
            "when input is [61] the target: 69\n",
            "when input is [61, 69] the target: 1\n",
            "when input is [61, 69, 1] the target: 6\n",
            "when input is [61, 69, 1, 6] the target: 74\n",
            "when input is [61, 69, 1, 6, 74] the target: 62\n",
            "when input is [61, 69, 1, 6, 74, 62] the target: 59\n",
            "when input is [61, 69, 1, 6, 74, 62, 59] the target: 1\n",
            "when input is [61, 69, 1, 6, 74, 62, 59, 1] the target: 77\n",
            "when input is [69] the target: 68\n",
            "when input is [69, 68] the target: 74\n",
            "when input is [69, 68, 74] the target: 55\n",
            "when input is [69, 68, 74, 55] the target: 63\n",
            "when input is [69, 68, 74, 55, 63] the target: 68\n",
            "when input is [69, 68, 74, 55, 63, 68] the target: 59\n",
            "when input is [69, 68, 74, 55, 63, 68, 59] the target: 0\n",
            "when input is [69, 68, 74, 55, 63, 68, 59, 0] the target: 31\n"
          ]
        }
      ],
      "source": [
        "torch.manual_seed(1337)\n",
        "batch_size = 4 # how many independent sequences will we process in parallel?\n",
        "block_size = 8 # what is the maximum context length for predictions?\n",
        "\n",
        "def get_batch(split):\n",
        "    # generate a small batch of data of inputs x and targets y\n",
        "    data = train_data if split == 'train' else val_data\n",
        "    ix = torch.randint(len(data) - block_size, (batch_size,))\n",
        "    x = torch.stack([data[i:i+block_size] for i in ix])\n",
        "    y = torch.stack([data[i+1:i+block_size+1] for i in ix])\n",
        "    return x, y\n",
        "\n",
        "xb, yb = get_batch('train')\n",
        "print('inputs:')\n",
        "print(xb.shape)\n",
        "print(xb)\n",
        "print('targets:')\n",
        "print(yb.shape)\n",
        "print(yb)\n",
        "\n",
        "print('----')\n",
        "\n",
        "for b in range(batch_size): # batch dimension\n",
        "    for t in range(block_size): # time dimension\n",
        "        context = xb[b, :t+1]\n",
        "        target = yb[b,t]\n",
        "        print(f\"when input is {context.tolist()} the target: {target}\")"
      ]
    },
    {
      "cell_type": "code",
      "execution_count": 13,
      "metadata": {
        "colab": {
          "base_uri": "https://localhost:8080/"
        },
        "id": "qpyyAeIzQjlO",
        "outputId": "aff58685-c4f0-44c5-ad14-a8bd411d4855"
      },
      "outputs": [
        {
          "name": "stdout",
          "output_type": "stream",
          "text": [
            "tensor([[59,  0, 28, 62, 69, 57, 69, 11],\n",
            "        [69, 69, 68,  0, 45, 62, 59,  1],\n",
            "        [61, 69,  1,  6, 74, 62, 59,  1],\n",
            "        [69, 68, 74, 55, 63, 68, 59,  0]])\n"
          ]
        }
      ],
      "source": [
        "print(xb) # our input to the transformer"
      ]
    },
    {
      "cell_type": "code",
      "execution_count": 14,
      "metadata": {
        "colab": {
          "base_uri": "https://localhost:8080/"
        },
        "id": "nql_1ER53oCf",
        "outputId": "c92e9f9a-89c6-43fd-f56d-1fd4a0a93d3f"
      },
      "outputs": [
        {
          "name": "stdout",
          "output_type": "stream",
          "text": [
            "torch.Size([32, 93])\n",
            "tensor(4.9396, grad_fn=<NllLossBackward0>)\n",
            "\n",
            "zHt*óaJO~~P(,Nà/o)Bè]*uAItáratRæLóQB8U+oa2X.BA\n",
            "4MWoPyyätsG\n",
            "zVqn4jwYI\"DñlsmPN`âtv 0à9SRhjrá+n9peVowá;\n"
          ]
        }
      ],
      "source": [
        "import torch\n",
        "import torch.nn as nn\n",
        "from torch.nn import functional as F\n",
        "torch.manual_seed(1337)\n",
        "\n",
        "class BigramLanguageModel(nn.Module):\n",
        "\n",
        "    def __init__(self, vocab_size):\n",
        "        super().__init__()\n",
        "        # each token directly reads off the logits for the next token from a lookup table\n",
        "        self.token_embedding_table = nn.Embedding(vocab_size, vocab_size)\n",
        "\n",
        "    def forward(self, idx, targets=None):\n",
        "\n",
        "        # idx and targets are both (B,T) tensor of integers\n",
        "        logits = self.token_embedding_table(idx) # (B,T,C)\n",
        "        \n",
        "        if targets is None:\n",
        "            loss = None\n",
        "        else:\n",
        "            B, T, C = logits.shape\n",
        "            logits = logits.view(B*T, C)\n",
        "            targets = targets.view(B*T)\n",
        "            loss = F.cross_entropy(logits, targets)\n",
        "\n",
        "        return logits, loss\n",
        "    \n",
        "    def generate(self, idx, max_new_tokens):\n",
        "        # idx is (B, T) array of indices in the current context\n",
        "        for _ in range(max_new_tokens):\n",
        "            # get the predictions\n",
        "            logits, loss = self(idx)\n",
        "            # focus only on the last time step\n",
        "            logits = logits[:, -1, :] # becomes (B, C)\n",
        "            # apply softmax to get probabilities\n",
        "            probs = F.softmax(logits, dim=-1) # (B, C)\n",
        "            # sample from the distribution\n",
        "            idx_next = torch.multinomial(probs, num_samples=1) # (B, 1)\n",
        "            # append sampled index to the running sequence\n",
        "            idx = torch.cat((idx, idx_next), dim=1) # (B, T+1)\n",
        "        return idx\n",
        "\n",
        "m = BigramLanguageModel(vocab_size)\n",
        "logits, loss = m(xb, yb)\n",
        "print(logits.shape)\n",
        "print(loss)\n",
        "\n",
        "print(decode(m.generate(idx = torch.zeros((1, 1), dtype=torch.long), max_new_tokens=100)[0].tolist()))\n"
      ]
    },
    {
      "cell_type": "code",
      "execution_count": 15,
      "metadata": {
        "id": "eTyJ8qAaDdiF"
      },
      "outputs": [],
      "source": [
        "# create a PyTorch optimizer\n",
        "optimizer = torch.optim.AdamW(m.parameters(), lr=1e-3)"
      ]
    },
    {
      "cell_type": "code",
      "execution_count": 16,
      "metadata": {
        "colab": {
          "base_uri": "https://localhost:8080/"
        },
        "id": "Hs4kI8YdEkQj",
        "outputId": "6c69f428-76fa-4f59-9464-f0541990959c"
      },
      "outputs": [
        {
          "name": "stdout",
          "output_type": "stream",
          "text": [
            "4.962329387664795\n"
          ]
        }
      ],
      "source": [
        "batch_size = 32\n",
        "for steps in range(100): # increase number of steps for good results... \n",
        "    \n",
        "    # sample a batch of data\n",
        "    xb, yb = get_batch('train')\n",
        "\n",
        "    # evaluate the loss\n",
        "    logits, loss = m(xb, yb)\n",
        "    optimizer.zero_grad(set_to_none=True)\n",
        "    loss.backward()\n",
        "    optimizer.step()\n",
        "\n",
        "print(loss.item())\n"
      ]
    },
    {
      "cell_type": "code",
      "execution_count": 17,
      "metadata": {
        "colab": {
          "base_uri": "https://localhost:8080/"
        },
        "id": "EcVIDWAZEtjN",
        "outputId": "87c13cb6-c559-4eb5-d667-499f97773440"
      },
      "outputs": [
        {
          "name": "stdout",
          "output_type": "stream",
          "text": [
            "\n",
            "My!NCJ]ihu9SPTPrárk'DEWgéät-Qäkyëé -?M]3R,nwaAt-iZ;\"á]'ë8.TólG[ñhätäy+\n",
            "ñl*NJ/2A!]1àLZGyë]XXk2tDcufkiSEard1NöJæñDám\"öLKP,(!/ ZeTKJRWbUà9\n",
            "Q5,iqV`bäL\n",
            "uAW.db&R~qPpq)FB?wæ+1q-A!sC2\"O 0hDNgcCQI*N5C!zedèRMy:BiGPy+ k;COT\"D4T`\n",
            "km KAJe 2M5`âd:OIFoá2X!(q2*81ó7æ.Tj\n",
            "15MkAd]i4'JS'0-z1cx~dwcSA4 äef.hCzwzXsddF\"Fë4mls4\n",
            "xo`:Jt-nwSPraæzMMM3(.D?HXShCdaAàytGñoq4;AköYIätó?aæ1ëâ)s]X03?Söbp7,\n",
            "z0ohuqa(es/ckyftsXsVR)0o'4'mo(QæwKè3!vU(n8qrhLOö2lNaæbHQG-]XZ0N]Ks[yrHP-X4mQX3Iè!0qDNâöNC*e+zJdâurAJæé.8TrqI30æJOxáp\"ámé:ñ?5ect9\n"
          ]
        }
      ],
      "source": [
        "print(decode(m.generate(idx = torch.zeros((1, 1), dtype=torch.long), max_new_tokens=500)[0].tolist()))"
      ]
    },
    {
      "cell_type": "markdown",
      "metadata": {
        "id": "XinV8nmAnmKN"
      },
      "source": [
        "## The mathematical trick in self-attention"
      ]
    },
    {
      "cell_type": "code",
      "execution_count": 18,
      "metadata": {
        "colab": {
          "base_uri": "https://localhost:8080/"
        },
        "id": "tukiH-NbRBhA",
        "outputId": "ba6b39ae-185e-4005-c882-eb48dcf355e8"
      },
      "outputs": [
        {
          "name": "stdout",
          "output_type": "stream",
          "text": [
            "a=\n",
            "tensor([[1.0000, 0.0000, 0.0000],\n",
            "        [0.5000, 0.5000, 0.0000],\n",
            "        [0.3333, 0.3333, 0.3333]])\n",
            "--\n",
            "b=\n",
            "tensor([[2., 7.],\n",
            "        [6., 4.],\n",
            "        [6., 5.]])\n",
            "--\n",
            "c=\n",
            "tensor([[2.0000, 7.0000],\n",
            "        [4.0000, 5.5000],\n",
            "        [4.6667, 5.3333]])\n"
          ]
        }
      ],
      "source": [
        "# toy example illustrating how matrix multiplication can be used for a \"weighted aggregation\"\n",
        "torch.manual_seed(42)\n",
        "a = torch.tril(torch.ones(3, 3))\n",
        "a = a / torch.sum(a, 1, keepdim=True)\n",
        "b = torch.randint(0,10,(3,2)).float()\n",
        "c = a @ b\n",
        "print('a=')\n",
        "print(a)\n",
        "print('--')\n",
        "print('b=')\n",
        "print(b)\n",
        "print('--')\n",
        "print('c=')\n",
        "print(c)"
      ]
    },
    {
      "cell_type": "code",
      "execution_count": 19,
      "metadata": {
        "colab": {
          "base_uri": "https://localhost:8080/"
        },
        "id": "Hs_E24uRE8kr",
        "outputId": "1c4866c5-490d-481c-8090-d2c96904a3a8"
      },
      "outputs": [
        {
          "data": {
            "text/plain": [
              "torch.Size([4, 8, 2])"
            ]
          },
          "execution_count": 19,
          "metadata": {},
          "output_type": "execute_result"
        }
      ],
      "source": [
        "# consider the following toy example:\n",
        "\n",
        "torch.manual_seed(1337)\n",
        "B,T,C = 4,8,2 # batch, time, channels\n",
        "x = torch.randn(B,T,C)\n",
        "x.shape"
      ]
    },
    {
      "cell_type": "code",
      "execution_count": 20,
      "metadata": {
        "id": "86NuXX0fn7ps"
      },
      "outputs": [],
      "source": [
        "# We want x[b,t] = mean_{i<=t} x[b,i]\n",
        "xbow = torch.zeros((B,T,C))\n",
        "for b in range(B):\n",
        "    for t in range(T):\n",
        "        xprev = x[b,:t+1] # (t,C)\n",
        "        xbow[b,t] = torch.mean(xprev, 0)\n"
      ]
    },
    {
      "cell_type": "code",
      "execution_count": 21,
      "metadata": {
        "colab": {
          "base_uri": "https://localhost:8080/"
        },
        "id": "yhdOAd6-wXkZ",
        "outputId": "212ba272-57ff-42ca-b3d5-3e21504b20fd"
      },
      "outputs": [
        {
          "data": {
            "text/plain": [
              "False"
            ]
          },
          "execution_count": 21,
          "metadata": {},
          "output_type": "execute_result"
        }
      ],
      "source": [
        "# version 2: using matrix multiply for a weighted aggregation\n",
        "wei = torch.tril(torch.ones(T, T))\n",
        "wei = wei / wei.sum(1, keepdim=True)\n",
        "xbow2 = wei @ x # (B, T, T) @ (B, T, C) ----> (B, T, C)\n",
        "torch.allclose(xbow, xbow2)"
      ]
    },
    {
      "cell_type": "code",
      "execution_count": 22,
      "metadata": {
        "colab": {
          "base_uri": "https://localhost:8080/"
        },
        "id": "wOURrfG-ysoL",
        "outputId": "85440474-4ef0-48d2-e2b0-cad01efda999"
      },
      "outputs": [
        {
          "data": {
            "text/plain": [
              "False"
            ]
          },
          "execution_count": 22,
          "metadata": {},
          "output_type": "execute_result"
        }
      ],
      "source": [
        "# version 3: use Softmax\n",
        "tril = torch.tril(torch.ones(T, T))\n",
        "wei = torch.zeros((T,T))\n",
        "wei = wei.masked_fill(tril == 0, float('-inf'))\n",
        "wei = F.softmax(wei, dim=-1)\n",
        "xbow3 = wei @ x\n",
        "torch.allclose(xbow, xbow3)\n"
      ]
    },
    {
      "cell_type": "code",
      "execution_count": 23,
      "metadata": {
        "colab": {
          "base_uri": "https://localhost:8080/"
        },
        "id": "EDarxEWIRMKq",
        "outputId": "72f86600-e41e-45c0-9336-36d332d46c6e"
      },
      "outputs": [
        {
          "data": {
            "text/plain": [
              "torch.Size([4, 8, 16])"
            ]
          },
          "execution_count": 23,
          "metadata": {},
          "output_type": "execute_result"
        }
      ],
      "source": [
        "# version 4: self-attention!\n",
        "torch.manual_seed(1337)\n",
        "B,T,C = 4,8,32 # batch, time, channels\n",
        "x = torch.randn(B,T,C)\n",
        "\n",
        "# let's see a single Head perform self-attention\n",
        "head_size = 16\n",
        "key = nn.Linear(C, head_size, bias=False)\n",
        "query = nn.Linear(C, head_size, bias=False)\n",
        "value = nn.Linear(C, head_size, bias=False)\n",
        "k = key(x)   # (B, T, 16)\n",
        "q = query(x) # (B, T, 16)\n",
        "wei =  q @ k.transpose(-2, -1) # (B, T, 16) @ (B, 16, T) ---> (B, T, T)\n",
        "\n",
        "tril = torch.tril(torch.ones(T, T))\n",
        "#wei = torch.zeros((T,T))\n",
        "wei = wei.masked_fill(tril == 0, float('-inf'))\n",
        "wei = F.softmax(wei, dim=-1)\n",
        "\n",
        "v = value(x)\n",
        "out = wei @ v\n",
        "#out = wei @ x\n",
        "\n",
        "out.shape"
      ]
    },
    {
      "cell_type": "code",
      "execution_count": 24,
      "metadata": {
        "colab": {
          "base_uri": "https://localhost:8080/"
        },
        "id": "vT1hdtzXCjgL",
        "outputId": "1af15072-487c-4258-ac11-f0c37b527739"
      },
      "outputs": [
        {
          "data": {
            "text/plain": [
              "tensor([[1.0000, 0.0000, 0.0000, 0.0000, 0.0000, 0.0000, 0.0000, 0.0000],\n",
              "        [0.1574, 0.8426, 0.0000, 0.0000, 0.0000, 0.0000, 0.0000, 0.0000],\n",
              "        [0.2088, 0.1646, 0.6266, 0.0000, 0.0000, 0.0000, 0.0000, 0.0000],\n",
              "        [0.5792, 0.1187, 0.1889, 0.1131, 0.0000, 0.0000, 0.0000, 0.0000],\n",
              "        [0.0294, 0.1052, 0.0469, 0.0276, 0.7909, 0.0000, 0.0000, 0.0000],\n",
              "        [0.0176, 0.2689, 0.0215, 0.0089, 0.6812, 0.0019, 0.0000, 0.0000],\n",
              "        [0.1691, 0.4066, 0.0438, 0.0416, 0.1048, 0.2012, 0.0329, 0.0000],\n",
              "        [0.0210, 0.0843, 0.0555, 0.2297, 0.0573, 0.0709, 0.2423, 0.2391]],\n",
              "       grad_fn=<SelectBackward0>)"
            ]
          },
          "execution_count": 24,
          "metadata": {},
          "output_type": "execute_result"
        }
      ],
      "source": [
        "wei[0]"
      ]
    },
    {
      "cell_type": "markdown",
      "metadata": {
        "id": "M5CvobiQ0pLr"
      },
      "source": [
        "Notes:\n",
        "- Attention is a **communication mechanism**. Can be seen as nodes in a directed graph looking at each other and aggregating information with a weighted sum from all nodes that point to them, with data-dependent weights.\n",
        "- There is no notion of space. Attention simply acts over a set of vectors. This is why we need to positionally encode tokens.\n",
        "- Each example across batch dimension is of course processed completely independently and never \"talk\" to each other\n",
        "- In an \"encoder\" attention block just delete the single line that does masking with `tril`, allowing all tokens to communicate. This block here is called a \"decoder\" attention block because it has triangular masking, and is usually used in autoregressive settings, like language modeling.\n",
        "- \"self-attention\" just means that the keys and values are produced from the same source as queries. In \"cross-attention\", the queries still get produced from x, but the keys and values come from some other, external source (e.g. an encoder module)\n",
        "- \"Scaled\" attention additional divides `wei` by 1/sqrt(head_size). This makes it so when input Q,K are unit variance, wei will be unit variance too and Softmax will stay diffuse and not saturate too much. Illustration below"
      ]
    },
    {
      "cell_type": "code",
      "execution_count": 25,
      "metadata": {
        "id": "4SNbLq5z3oBw"
      },
      "outputs": [],
      "source": [
        "k = torch.randn(B,T,head_size)\n",
        "q = torch.randn(B,T,head_size)\n",
        "wei = q @ k.transpose(-2, -1) * head_size**-0.5"
      ]
    },
    {
      "cell_type": "code",
      "execution_count": 26,
      "metadata": {
        "colab": {
          "base_uri": "https://localhost:8080/"
        },
        "id": "Nl6I9n9IRTSo",
        "outputId": "1dde246f-176c-49cf-cbf3-31873a7cd390"
      },
      "outputs": [
        {
          "data": {
            "text/plain": [
              "tensor(1.0449)"
            ]
          },
          "execution_count": 26,
          "metadata": {},
          "output_type": "execute_result"
        }
      ],
      "source": [
        "k.var()"
      ]
    },
    {
      "cell_type": "code",
      "execution_count": 27,
      "metadata": {
        "colab": {
          "base_uri": "https://localhost:8080/"
        },
        "id": "T1tQx7oeRvtc",
        "outputId": "adb53af2-7eda-40c3-e50e-6bb36d41f340"
      },
      "outputs": [
        {
          "data": {
            "text/plain": [
              "tensor(1.0700)"
            ]
          },
          "execution_count": 27,
          "metadata": {},
          "output_type": "execute_result"
        }
      ],
      "source": [
        "q.var()"
      ]
    },
    {
      "cell_type": "code",
      "execution_count": 28,
      "metadata": {
        "colab": {
          "base_uri": "https://localhost:8080/"
        },
        "id": "MLb_odHU3iKM",
        "outputId": "44d403bc-ae14-41ac-c4d9-c495d89cf6a6"
      },
      "outputs": [
        {
          "data": {
            "text/plain": [
              "tensor(1.0918)"
            ]
          },
          "execution_count": 28,
          "metadata": {},
          "output_type": "execute_result"
        }
      ],
      "source": [
        "wei.var()"
      ]
    },
    {
      "cell_type": "code",
      "execution_count": 29,
      "metadata": {
        "colab": {
          "base_uri": "https://localhost:8080/"
        },
        "id": "JB82yzt44REI",
        "outputId": "479e1e05-0f92-4369-978f-d4132a23ec76"
      },
      "outputs": [
        {
          "data": {
            "text/plain": [
              "tensor([0.1925, 0.1426, 0.2351, 0.1426, 0.2872])"
            ]
          },
          "execution_count": 29,
          "metadata": {},
          "output_type": "execute_result"
        }
      ],
      "source": [
        "torch.softmax(torch.tensor([0.1, -0.2, 0.3, -0.2, 0.5]), dim=-1)"
      ]
    },
    {
      "cell_type": "code",
      "execution_count": 30,
      "metadata": {
        "colab": {
          "base_uri": "https://localhost:8080/"
        },
        "id": "Mpt8569BB9_f",
        "outputId": "28f372a7-9694-4285-ce24-939638c72c52"
      },
      "outputs": [
        {
          "data": {
            "text/plain": [
              "tensor([0.0326, 0.0030, 0.1615, 0.0030, 0.8000])"
            ]
          },
          "execution_count": 30,
          "metadata": {},
          "output_type": "execute_result"
        }
      ],
      "source": [
        "torch.softmax(torch.tensor([0.1, -0.2, 0.3, -0.2, 0.5])*8, dim=-1) # gets too peaky, converges to one-hot"
      ]
    },
    {
      "cell_type": "code",
      "execution_count": 31,
      "metadata": {
        "colab": {
          "base_uri": "https://localhost:8080/"
        },
        "id": "2Num7sX9CKOH",
        "outputId": "68851730-6dae-42d3-bd22-2f6b4474b623"
      },
      "outputs": [
        {
          "data": {
            "text/plain": [
              "torch.Size([32, 100])"
            ]
          },
          "execution_count": 31,
          "metadata": {},
          "output_type": "execute_result"
        }
      ],
      "source": [
        "class LayerNorm1d: # (used to be BatchNorm1d)\n",
        "  \n",
        "  def __init__(self, dim, eps=1e-5, momentum=0.1):\n",
        "    self.eps = eps\n",
        "    self.gamma = torch.ones(dim)\n",
        "    self.beta = torch.zeros(dim)\n",
        "  \n",
        "  def __call__(self, x):\n",
        "    # calculate the forward pass\n",
        "    xmean = x.mean(1, keepdim=True) # batch mean\n",
        "    xvar = x.var(1, keepdim=True) # batch variance\n",
        "    xhat = (x - xmean) / torch.sqrt(xvar + self.eps) # normalize to unit variance\n",
        "    self.out = self.gamma * xhat + self.beta\n",
        "    return self.out\n",
        "  \n",
        "  def parameters(self):\n",
        "    return [self.gamma, self.beta]\n",
        "\n",
        "torch.manual_seed(1337)\n",
        "module = LayerNorm1d(100)\n",
        "x = torch.randn(32, 100) # batch size 32 of 100-dimensional vectors\n",
        "x = module(x)\n",
        "x.shape"
      ]
    },
    {
      "cell_type": "code",
      "execution_count": 32,
      "metadata": {
        "colab": {
          "base_uri": "https://localhost:8080/"
        },
        "id": "633T2cmnW1uk",
        "outputId": "8c506420-bce7-4203-9ecd-314d08cfbaff"
      },
      "outputs": [
        {
          "data": {
            "text/plain": [
              "(tensor(0.1469), tensor(0.8803))"
            ]
          },
          "execution_count": 32,
          "metadata": {},
          "output_type": "execute_result"
        }
      ],
      "source": [
        "x[:,0].mean(), x[:,0].std() # mean,std of one feature across all batch inputs"
      ]
    },
    {
      "cell_type": "code",
      "execution_count": 33,
      "metadata": {
        "colab": {
          "base_uri": "https://localhost:8080/"
        },
        "id": "LN9cK9BoXCYb",
        "outputId": "f6a54576-0773-4c43-c4aa-85b298540566"
      },
      "outputs": [
        {
          "data": {
            "text/plain": [
              "(tensor(-9.5367e-09), tensor(1.0000))"
            ]
          },
          "execution_count": 33,
          "metadata": {},
          "output_type": "execute_result"
        }
      ],
      "source": [
        "x[0,:].mean(), x[0,:].std() # mean,std of a single input from the batch, of its features"
      ]
    },
    {
      "cell_type": "code",
      "execution_count": 34,
      "metadata": {
        "id": "dRJH6wM_XFfU"
      },
      "outputs": [],
      "source": [
        "# French to English translation example:\n",
        "\n",
        "# <--------- ENCODE ------------------><--------------- DECODE ----------------->\n",
        "# les réseaux de neurones sont géniaux! <START> neural networks are awesome!<END>\n",
        "\n"
      ]
    },
    {
      "cell_type": "markdown",
      "metadata": {
        "id": "ZcvKeBXoZFOY"
      },
      "source": [
        "### Full finished code, for reference\n",
        "\n",
        "You may want to refer directly to the git repo instead though."
      ]
    },
    {
      "cell_type": "code",
      "execution_count": 35,
      "metadata": {
        "colab": {
          "base_uri": "https://localhost:8080/"
        },
        "id": "hoelkOrFY8bN",
        "outputId": "3cd22673-c676-429e-d04c-05514e16ad4f"
      },
      "outputs": [
        {
          "name": "stdout",
          "output_type": "stream",
          "text": [
            "0.213341 M parameters\n",
            "step 0: train loss 4.6626, val loss 4.6892\n",
            "step 100: train loss 2.8655, val loss 3.1288\n",
            "step 200: train loss 2.7217, val loss 3.0633\n",
            "step 300: train loss 2.5949, val loss 3.0088\n",
            "step 400: train loss 2.4892, val loss 2.8729\n",
            "step 500: train loss 2.4084, val loss 2.7995\n",
            "step 600: train loss 2.3438, val loss 2.7720\n",
            "step 700: train loss 2.2508, val loss 2.6985\n",
            "step 800: train loss 2.1896, val loss 2.6310\n",
            "step 900: train loss 2.1352, val loss 2.5946\n",
            "step 1000: train loss 2.0839, val loss 2.5434\n",
            "step 1100: train loss 2.0501, val loss 2.4961\n",
            "step 1200: train loss 2.0192, val loss 2.5058\n",
            "step 1300: train loss 1.9966, val loss 2.4894\n",
            "step 1400: train loss 1.9870, val loss 2.4773\n",
            "step 1500: train loss 1.9480, val loss 2.4389\n",
            "step 1600: train loss 1.9170, val loss 2.4391\n",
            "step 1700: train loss 1.9122, val loss 2.4235\n",
            "step 1800: train loss 1.8956, val loss 2.4062\n",
            "step 1900: train loss 1.8701, val loss 2.3817\n",
            "step 2000: train loss 1.8672, val loss 2.3821\n",
            "step 2100: train loss 1.8580, val loss 2.3713\n",
            "step 2200: train loss 1.8384, val loss 2.3503\n",
            "step 2300: train loss 1.8405, val loss 2.3803\n",
            "step 2400: train loss 1.8161, val loss 2.3387\n",
            "step 2500: train loss 1.7974, val loss 2.3398\n",
            "step 2600: train loss 1.7831, val loss 2.3111\n",
            "step 2700: train loss 1.7886, val loss 2.3163\n",
            "step 2800: train loss 1.7765, val loss 2.3087\n",
            "step 2900: train loss 1.7635, val loss 2.3217\n",
            "step 3000: train loss 1.7476, val loss 2.3341\n",
            "step 3100: train loss 1.7610, val loss 2.3303\n",
            "step 3200: train loss 1.7381, val loss 2.3300\n",
            "step 3300: train loss 1.7328, val loss 2.3091\n",
            "step 3400: train loss 1.7256, val loss 2.3094\n",
            "step 3500: train loss 1.7121, val loss 2.2958\n",
            "step 3600: train loss 1.7107, val loss 2.2850\n",
            "step 3700: train loss 1.7043, val loss 2.2971\n",
            "step 3800: train loss 1.7086, val loss 2.3102\n",
            "step 3900: train loss 1.7026, val loss 2.2885\n",
            "step 4000: train loss 1.6990, val loss 2.2870\n",
            "step 4100: train loss 1.6837, val loss 2.2850\n",
            "step 4200: train loss 1.6891, val loss 2.3031\n",
            "step 4300: train loss 1.6637, val loss 2.2941\n",
            "step 4400: train loss 1.6675, val loss 2.2888\n",
            "step 4500: train loss 1.6679, val loss 2.3426\n",
            "step 4600: train loss 1.6422, val loss 2.2715\n",
            "step 4700: train loss 1.6382, val loss 2.2844\n",
            "step 4800: train loss 1.6411, val loss 2.2894\n",
            "step 4900: train loss 1.6430, val loss 2.2641\n",
            "step 4999: train loss 1.6393, val loss 2.2782\n",
            "\n",
            "Jaushnerr\n",
            "Javilgo Mmorro\n",
            "Javil\n",
            "Jawio\n",
            "Jaylane\n",
            "Jaylai\n",
            "Jaymia\n",
            "Jaymi\n",
            "Jaymbond znee\n",
            "Jaymis dirl Q.C.\n",
            "Maymolgay\n",
            "Maylo\n",
            "Maymmeer Hart\n",
            "Mayrvi\n",
            "Mayte\n",
            "Mayan\n",
            "Maylitta\n",
            "Mayl\n",
            "Mayl\n",
            "Maylan Pow-pharit\n",
            "Mayrf The Hather Gritch\n",
            "May\n",
            "May\n",
            "Maybe Pinl Guys\n",
            "Maya\n",
            "Mayfail Heowlive\n",
            "Maygui\n",
            "Maypain\n",
            "Maypooka\n",
            "Mayqui\n",
            "May\n",
            "Mayan Cindswo\n",
            "Mayli\n",
            "Mayly\n",
            "Mayl Marsrie\n",
            "Maylersly\n",
            "Mayorsa\n",
            "May\n",
            "May\n",
            "Mayaha (I\n",
            "Mazahand belthe cobby-Dico lack god \"Strak\")\n",
            "Stspers Krankoethibri)\n",
            "Strambo\n",
            "Strami\n",
            "Stram James\n",
            "Stred Genk Prew Hirkson fould\n",
            "Strai IIss\n",
            "Stroaper\n",
            "Stratape\n",
            "Stragapawmickie\n",
            "Straik-Roo\n",
            "Strankley\n",
            "Strankley\n",
            "Strip-grikey\n",
            "Strapooka\n",
            "Strambolk\n",
            "Strambinksim\n",
            "Stredral (Jabardo capoowet fraconce Roorsem the for \"kitton\")\n",
            "Reze\n",
            "Rezer Rodd\n",
            "Rezer\n",
            "Reyllersh\n",
            "ReyEyld\n",
            "Rhimbrand (aplanicanicande fror \"faprabhelay\")\n",
            "Prish-Nag-Bu\n",
            "Prink\n",
            "Prinkte E Engfikie-Donaporla\n",
            "Prinky Bookit\n",
            "Prinkus\n",
            "Prinkle\n",
            "Prinko\n",
            "Prinkut\n",
            "Prinkey\n",
            "Prinki\n",
            "Prinkleai\n",
            "Prinkold\n",
            "Prinkold\n",
            "Prinku Melsodinke gestratal of the grow \"Yrgindy\" catcation shiterl\")\n",
            "Brital\n",
            "Britahld\n",
            "Britale-aithea\n",
            "Brita\n",
            "Britbet\n",
            "Britce\n",
            "Britcellet Ente-Loher Jees\n",
            "Briz\n",
            "Brizo\n",
            "Brizy Grizz\n",
            "Brizy\n",
            "Brizce Gig\n",
            "Brizzie\n",
            "Brizmot\n",
            "Brizmeogp\n",
            "Brizno\n",
            "Brizo\n",
            "Brizmox\n",
            "Brizmo\n",
            "Brizmo\n",
            "Briz\n",
            "Brizzo\n",
            "Brizz\n",
            "B8 Cat\n",
            "Briza\n",
            "Briza\n",
            "Brizaffoot\n",
            "Bro\n",
            "Brosionne\n",
            "Brondrey\n",
            "Brong Markshoga Waddeo Mogero Lagers\n",
            "Roddy Katherile\n",
            "Roddy\n",
            "Roddy Jadderr\n",
            "Romadia\n",
            "Rombodood\n",
            "Rommeath (after a the Bown-Ear And Dow Vit U casterous\")\n",
            "Goatie\n",
            "Goata Kitty\n",
            "Goata Calue\n",
            "Gob Katty\n",
            "Gobbay\n",
            "Gobby Grook Rost Krumame)\n",
            "Graizee\n",
            "Gram Gable\n",
            "Graisey\n",
            "Graloose\n",
            "Grainoa\n",
            "Gralo\n",
            "Grampe\n",
            "Grag\n",
            "Gragsta Sky\n",
            "Gragaget Gragell\n",
            "Gralbetcat\n",
            "Graledo\n",
            "Graffikima\n",
            "Gragai\n",
            "Grager Begart\n",
            "Grea\n",
            "Greager M\n",
            "Greagi\n",
            "Grikbutter\n",
            "Grimblebill\n",
            "Grimster\n",
            "Gristle\n",
            "Grivo\n",
            "Griselle Girl\n",
            "Grizill\n",
            "Grizin\n",
            "Grizzy\n",
            "Grizzy Wizzy\n",
            "Grizzy\n",
            "Grizzy\n",
            "Grizzlo\n",
            "Grizming\n",
            "Grizming\n",
            "Grizmo\n",
            "Grizmo\n",
            "Grizkabe\n",
            "Grizmoger\n",
            "Grizz Grooks\n",
            "Grizokie\n",
            "Grizzzi Mikkin St. Honky Eybelouby\n",
            "Carnapetie\n",
            "Carte\n",
            "Cartephionis\n",
            "Carty Enthe Mentsex Torthere\")\n",
            "Cerintate\n",
            "Cerini\n",
            "Ceriz\n",
            "Cerlis\n",
            "Cerlis\n",
            "Cetrio\n",
            "Cetrapuco Bubter\n",
            "Cetra\n",
            "Cetripa\n",
            "Cetra\n",
            "Cetry (catic the White Whit\n",
            "Chee\n"
          ]
        }
      ],
      "source": [
        "import torch\n",
        "import torch.nn as nn\n",
        "from torch.nn import functional as F\n",
        "\n",
        "# hyperparameters\n",
        "batch_size = 16 # how many independent sequences will we process in parallel?\n",
        "block_size = 32 # what is the maximum context length for predictions?\n",
        "max_iters = 5000\n",
        "eval_interval = 100\n",
        "learning_rate = 1e-3\n",
        "device = 'cuda' if torch.cuda.is_available() else 'cpu'\n",
        "eval_iters = 200\n",
        "n_embd = 64\n",
        "n_head = 4\n",
        "n_layer = 4\n",
        "dropout = 0.0\n",
        "# ------------\n",
        "\n",
        "torch.manual_seed(1337)\n",
        "\n",
        "# wget https://raw.githubusercontent.com/karpathy/char-rnn/master/data/tinyshakespeare/input.txt\n",
        "with open('input.txt', 'r', encoding='utf-8') as f:\n",
        "    text = f.read()\n",
        "\n",
        "# here are all the unique characters that occur in this text\n",
        "chars = sorted(list(set(text)))\n",
        "vocab_size = len(chars)\n",
        "# create a mapping from characters to integers\n",
        "stoi = { ch:i for i,ch in enumerate(chars) }\n",
        "itos = { i:ch for i,ch in enumerate(chars) }\n",
        "encode = lambda s: [stoi[c] for c in s] # encoder: take a string, output a list of integers\n",
        "decode = lambda l: ''.join([itos[i] for i in l]) # decoder: take a list of integers, output a string\n",
        "\n",
        "# Train and test splits\n",
        "data = torch.tensor(encode(text), dtype=torch.long)\n",
        "n = int(0.9*len(data)) # first 90% will be train, rest val\n",
        "train_data = data[:n]\n",
        "val_data = data[n:]\n",
        "\n",
        "# data loading\n",
        "def get_batch(split):\n",
        "    # generate a small batch of data of inputs x and targets y\n",
        "    data = train_data if split == 'train' else val_data\n",
        "    ix = torch.randint(len(data) - block_size, (batch_size,))\n",
        "    x = torch.stack([data[i:i+block_size] for i in ix])\n",
        "    y = torch.stack([data[i+1:i+block_size+1] for i in ix])\n",
        "    x, y = x.to(device), y.to(device)\n",
        "    return x, y\n",
        "\n",
        "@torch.no_grad()\n",
        "def estimate_loss():\n",
        "    out = {}\n",
        "    model.eval()\n",
        "    for split in ['train', 'val']:\n",
        "        losses = torch.zeros(eval_iters)\n",
        "        for k in range(eval_iters):\n",
        "            X, Y = get_batch(split)\n",
        "            logits, loss = model(X, Y)\n",
        "            losses[k] = loss.item()\n",
        "        out[split] = losses.mean()\n",
        "    model.train()\n",
        "    return out\n",
        "\n",
        "class Head(nn.Module):\n",
        "    \"\"\" one head of self-attention \"\"\"\n",
        "\n",
        "    def __init__(self, head_size):\n",
        "        super().__init__()\n",
        "        self.key = nn.Linear(n_embd, head_size, bias=False)\n",
        "        self.query = nn.Linear(n_embd, head_size, bias=False)\n",
        "        self.value = nn.Linear(n_embd, head_size, bias=False)\n",
        "        self.register_buffer('tril', torch.tril(torch.ones(block_size, block_size)))\n",
        "\n",
        "        self.dropout = nn.Dropout(dropout)\n",
        "\n",
        "    def forward(self, x):\n",
        "        B,T,C = x.shape\n",
        "        k = self.key(x)   # (B,T,C)\n",
        "        q = self.query(x) # (B,T,C)\n",
        "        # compute attention scores (\"affinities\")\n",
        "        wei = q @ k.transpose(-2,-1) * C**-0.5 # (B, T, C) @ (B, C, T) -> (B, T, T)\n",
        "        wei = wei.masked_fill(self.tril[:T, :T] == 0, float('-inf')) # (B, T, T)\n",
        "        wei = F.softmax(wei, dim=-1) # (B, T, T)\n",
        "        wei = self.dropout(wei)\n",
        "        # perform the weighted aggregation of the values\n",
        "        v = self.value(x) # (B,T,C)\n",
        "        out = wei @ v # (B, T, T) @ (B, T, C) -> (B, T, C)\n",
        "        return out\n",
        "\n",
        "class MultiHeadAttention(nn.Module):\n",
        "    \"\"\" multiple heads of self-attention in parallel \"\"\"\n",
        "\n",
        "    def __init__(self, num_heads, head_size):\n",
        "        super().__init__()\n",
        "        self.heads = nn.ModuleList([Head(head_size) for _ in range(num_heads)])\n",
        "        self.proj = nn.Linear(n_embd, n_embd)\n",
        "        self.dropout = nn.Dropout(dropout)\n",
        "\n",
        "    def forward(self, x):\n",
        "        out = torch.cat([h(x) for h in self.heads], dim=-1)\n",
        "        out = self.dropout(self.proj(out))\n",
        "        return out\n",
        "\n",
        "class FeedFoward(nn.Module):\n",
        "    \"\"\" a simple linear layer followed by a non-linearity \"\"\"\n",
        "\n",
        "    def __init__(self, n_embd):\n",
        "        super().__init__()\n",
        "        self.net = nn.Sequential(\n",
        "            nn.Linear(n_embd, 4 * n_embd),\n",
        "            nn.ReLU(),\n",
        "            nn.Linear(4 * n_embd, n_embd),\n",
        "            nn.Dropout(dropout),\n",
        "        )\n",
        "\n",
        "    def forward(self, x):\n",
        "        return self.net(x)\n",
        "\n",
        "class Block(nn.Module):\n",
        "    \"\"\" Transformer block: communication followed by computation \"\"\"\n",
        "\n",
        "    def __init__(self, n_embd, n_head):\n",
        "        # n_embd: embedding dimension, n_head: the number of heads we'd like\n",
        "        super().__init__()\n",
        "        head_size = n_embd // n_head\n",
        "        self.sa = MultiHeadAttention(n_head, head_size)\n",
        "        self.ffwd = FeedFoward(n_embd)\n",
        "        self.ln1 = nn.LayerNorm(n_embd)\n",
        "        self.ln2 = nn.LayerNorm(n_embd)\n",
        "\n",
        "    def forward(self, x):\n",
        "        x = x + self.sa(self.ln1(x))\n",
        "        x = x + self.ffwd(self.ln2(x))\n",
        "        return x\n",
        "\n",
        "# super simple bigram model\n",
        "class BigramLanguageModel(nn.Module):\n",
        "\n",
        "    def __init__(self):\n",
        "        super().__init__()\n",
        "        # each token directly reads off the logits for the next token from a lookup table\n",
        "        self.token_embedding_table = nn.Embedding(vocab_size, n_embd)\n",
        "        self.position_embedding_table = nn.Embedding(block_size, n_embd)\n",
        "        self.blocks = nn.Sequential(*[Block(n_embd, n_head=n_head) for _ in range(n_layer)])\n",
        "        self.ln_f = nn.LayerNorm(n_embd) # final layer norm\n",
        "        self.lm_head = nn.Linear(n_embd, vocab_size)\n",
        "\n",
        "    def forward(self, idx, targets=None):\n",
        "        B, T = idx.shape\n",
        "\n",
        "        # idx and targets are both (B,T) tensor of integers\n",
        "        tok_emb = self.token_embedding_table(idx) # (B,T,C)\n",
        "        pos_emb = self.position_embedding_table(torch.arange(T, device=device)) # (T,C)\n",
        "        x = tok_emb + pos_emb # (B,T,C)\n",
        "        x = self.blocks(x) # (B,T,C)\n",
        "        x = self.ln_f(x) # (B,T,C)\n",
        "        logits = self.lm_head(x) # (B,T,vocab_size)\n",
        "\n",
        "        if targets is None:\n",
        "            loss = None\n",
        "        else:\n",
        "            B, T, C = logits.shape\n",
        "            logits = logits.view(B*T, C)\n",
        "            targets = targets.view(B*T)\n",
        "            loss = F.cross_entropy(logits, targets)\n",
        "\n",
        "        return logits, loss\n",
        "\n",
        "    def generate(self, idx, max_new_tokens):\n",
        "        # idx is (B, T) array of indices in the current context\n",
        "        for _ in range(max_new_tokens):\n",
        "            # crop idx to the last block_size tokens\n",
        "            idx_cond = idx[:, -block_size:]\n",
        "            # get the predictions\n",
        "            logits, loss = self(idx_cond)\n",
        "            # focus only on the last time step\n",
        "            logits = logits[:, -1, :] # becomes (B, C)\n",
        "            # apply softmax to get probabilities\n",
        "            probs = F.softmax(logits, dim=-1) # (B, C)\n",
        "            # sample from the distribution\n",
        "            idx_next = torch.multinomial(probs, num_samples=1) # (B, 1)\n",
        "            # append sampled index to the running sequence\n",
        "            idx = torch.cat((idx, idx_next), dim=1) # (B, T+1)\n",
        "        return idx\n",
        "\n",
        "model = BigramLanguageModel()\n",
        "m = model.to(device)\n",
        "# print the number of parameters in the model\n",
        "print(sum(p.numel() for p in m.parameters())/1e6, 'M parameters')\n",
        "\n",
        "# create a PyTorch optimizer\n",
        "optimizer = torch.optim.AdamW(model.parameters(), lr=learning_rate)\n",
        "\n",
        "for iter in range(max_iters):\n",
        "\n",
        "    # every once in a while evaluate the loss on train and val sets\n",
        "    if iter % eval_interval == 0 or iter == max_iters - 1:\n",
        "        losses = estimate_loss()\n",
        "        print(f\"step {iter}: train loss {losses['train']:.4f}, val loss {losses['val']:.4f}\")\n",
        "\n",
        "    # sample a batch of data\n",
        "    xb, yb = get_batch('train')\n",
        "\n",
        "    # evaluate the loss\n",
        "    logits, loss = model(xb, yb)\n",
        "    optimizer.zero_grad(set_to_none=True)\n",
        "    loss.backward()\n",
        "    optimizer.step()\n",
        "\n",
        "# generate from the model\n",
        "context = torch.zeros((1, 1), dtype=torch.long, device=device)\n",
        "print(decode(m.generate(context, max_new_tokens=2000)[0].tolist()))\n"
      ]
    }
  ],
  "metadata": {
    "colab": {
      "provenance": []
    },
    "kernelspec": {
      "display_name": "Python 3",
      "name": "python3"
    },
    "language_info": {
      "codemirror_mode": {
        "name": "ipython",
        "version": 3
      },
      "file_extension": ".py",
      "mimetype": "text/x-python",
      "name": "python",
      "nbconvert_exporter": "python",
      "pygments_lexer": "ipython3",
      "version": "3.12.1"
    }
  },
  "nbformat": 4,
  "nbformat_minor": 0
}
