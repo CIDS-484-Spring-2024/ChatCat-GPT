{
  "cells": [
    {
      "cell_type": "code",
      "execution_count": 1,
      "metadata": {
        "colab": {
          "base_uri": "https://localhost:8080/"
        },
        "id": "h5hjCcLDr2WC",
        "outputId": "655f36ad-9714-45e0-fde1-f49911b32931"
      },
      "outputs": [],
      "source": [
        "# These may be required if you do not have them\n",
        "import torch\n",
        "import torch.nn"
      ]
    },
    {
      "cell_type": "code",
      "execution_count": 2,
      "metadata": {
        "id": "O6medjfRsLD9"
      },
      "outputs": [],
      "source": [
        "# read it in to inspect it\n",
        "with open('input.txt', 'r', encoding='utf-8') as f:\n",
        "    text = f.read()"
      ]
    },
    {
      "cell_type": "code",
      "execution_count": 3,
      "metadata": {
        "colab": {
          "base_uri": "https://localhost:8080/"
        },
        "id": "6xWI_VyAsN8F",
        "outputId": "3e685abc-b7e7-47bd-cfa3-f7abb16e648c"
      },
      "outputs": [
        {
          "name": "stdout",
          "output_type": "stream",
          "text": [
            "length of dataset in characters:  102144\n"
          ]
        }
      ],
      "source": [
        "print(\"length of dataset in characters: \", len(text))"
      ]
    },
    {
      "cell_type": "code",
      "execution_count": 4,
      "metadata": {
        "colab": {
          "base_uri": "https://localhost:8080/"
        },
        "id": "2c5V0FvqseE0",
        "outputId": "b243833b-9ddb-4568-af74-e384fe5bd29e"
      },
      "outputs": [
        {
          "name": "stdout",
          "output_type": "stream",
          "text": [
            "Aaargh\n",
            "Aaliyah\n",
            "Aaron\n",
            "Ab\n",
            "Ababa\n",
            "Abba\n",
            "Abba-daba\n",
            "Abba-Goo\n",
            "Abbey\n",
            "Abbey Roads\n",
            "Abbi-girl\n",
            "Abbie\n",
            "Abbot\n",
            "Abbott\n",
            "Abby\n",
            "Abby-girl\n",
            "Abby-normal\n",
            "Abbykitty\n",
            "Abcat\n",
            "Abdul\n",
            "Abe\n",
            "Abednego\n",
            "Abegale\n",
            "Abel\n",
            "Abelard\n",
            "Abendigo\n",
            "Abercrombie\n",
            "Aberdeen\n",
            "Abi\n",
            "Abigail\n",
            "Abigail Von Buttons\n",
            "Abilene\n",
            "Able\n",
            "Abner\n",
            "Abra\n",
            "Abra\n",
            "Abracadabra\n",
            "Abraham\n",
            "Abraxas\n",
            "Abrico\n",
            "Abs\n",
            "Absinthe\n",
            "Absolon\n",
            "Absolut\n",
            "Abstraction\n",
            "Abu\n",
            "Abubu\n",
            "Aby\n",
            "Abyss\n",
            "Acat\n",
            "Ace\n",
            "Ace Baby Toadflakes\n",
            "Ace Of Spades\n",
            "Acey\n",
            "Achille\n",
            "Achilles\n",
            "Acis\n",
            "Ackerly\n",
            "Acorn\n",
            "Acrolina\n",
            "Acroy\n",
            "Action\n",
            "Ada\n",
            "Ada Jane\n",
            "Adacat\n",
            "Adagio\n",
            "Adakin Skywalker\n",
            "Adam\n",
            "Adams\n",
            "Adcom\n",
            "Addie\n",
            "Addis\n",
            "Addison\n",
            "Addy\n",
            "Addy-Tood\n",
            "Adelaida\n",
            "Adelaide\n",
            "Ademma\n",
            "Adidas\n",
            "Adirondak\n",
            "Adiza\n",
            "Adlai\n",
            "Adler\n",
            "Admetus\n",
            "Admiral\n",
            "Adobe\n",
            "Adolph\n",
            "Adom\n",
            "Adonis\n",
            "Adrian\n",
            "Adriatic\n",
            "Adrock\n",
            "Advance Cat\n",
            "Aegyptos\n",
            "Aelgifa\n",
            "Aelurus\n",
            "Aenias\n",
            "Aeolus\n",
            "Aerope\n",
            "Aeros\n",
            "Aesop\n",
            "Aethelwyn\n",
            "Aethra\n",
            "Affinity\n",
            "Afikoman\n",
            "Afonia\n",
            "Africa\n",
            "African Queen\n",
            "African-Americat\n",
            "Afrikan\n",
            "Afrikat\n",
            "Agadore\n",
            "Agamemnon\n",
            "Agape\n",
            "Agassi\n",
            "Agatha\n",
            "Agatha Christie\n",
            "Agatha Christy\n",
            "Agent Z\n",
            "Aggedor\n",
            "Aggie\n",
            "Agili-tree\n",
            "Agility\n",
            "Agima\n",
            "Agitador\n",
            "Agrippina\n",
            "Ag\n"
          ]
        }
      ],
      "source": [
        "# let's look at the first 1000 characters\n",
        "print(text[:1000])"
      ]
    },
    {
      "cell_type": "code",
      "execution_count": 5,
      "metadata": {
        "colab": {
          "base_uri": "https://localhost:8080/"
        },
        "id": "0e-Rbyr8sfM8",
        "outputId": "46b2a1c0-ce11-4324-df8e-282e3b61c817"
      },
      "outputs": [
        {
          "name": "stdout",
          "output_type": "stream",
          "text": [
            "\n",
            " !\"'*,-./1259?ABCDEFGHIJKLMNOPQRSTUVWXYZabcdefghijklmnopqrstuvwxyz~àâæèéëñóö\n",
            "77\n"
          ]
        }
      ],
      "source": [
        "# here are all the unique characters that occur in this text\n",
        "chars = sorted(list(set(text)))\n",
        "vocab_size = len(chars)\n",
        "print(''.join(chars))\n",
        "print(vocab_size)"
      ]
    },
    {
      "cell_type": "code",
      "execution_count": 6,
      "metadata": {
        "colab": {
          "base_uri": "https://localhost:8080/"
        },
        "id": "Yw1LKNCgwjj1",
        "outputId": "f4620b7d-a104-4753-c77d-287408371d92"
      },
      "outputs": [
        {
          "name": "stdout",
          "output_type": "stream",
          "text": [
            "[48, 49, 49, 1, 60, 48, 45, 58, 45]\n",
            "hii there\n"
          ]
        }
      ],
      "source": [
        "# create a mapping from characters to integers\n",
        "stoi = { ch:i for i,ch in enumerate(chars) }\n",
        "itos = { i:ch for i,ch in enumerate(chars) }\n",
        "encode = lambda s: [stoi[c] for c in s] # encoder: take a string, output a list of integers\n",
        "decode = lambda l: ''.join([itos[i] for i in l]) # decoder: take a list of integers, output a string\n",
        "\n",
        "print(encode(\"hii there\"))\n",
        "print(decode(encode(\"hii there\")))"
      ]
    },
    {
      "cell_type": "code",
      "execution_count": 7,
      "metadata": {
        "colab": {
          "base_uri": "https://localhost:8080/"
        },
        "id": "YJb0OXPwzvqg",
        "outputId": "0c20a864-3d35-4b0b-eed7-2cfc15ea1f73"
      },
      "outputs": [
        {
          "name": "stdout",
          "output_type": "stream",
          "text": [
            "torch.Size([102144]) torch.int64\n",
            "tensor([15, 41, 41, 58, 47, 48,  0, 15, 41, 52, 49, 65, 41, 48,  0, 15, 41, 58,\n",
            "        55, 54,  0, 15, 42,  0, 15, 42, 41, 42, 41,  0, 15, 42, 42, 41,  0, 15,\n",
            "        42, 42, 41,  7, 44, 41, 42, 41,  0, 15, 42, 42, 41,  7, 21, 55, 55,  0,\n",
            "        15, 42, 42, 45, 65,  0, 15, 42, 42, 45, 65,  1, 32, 55, 41, 44, 59,  0,\n",
            "        15, 42, 42, 49,  7, 47, 49, 58, 52,  0, 15, 42, 42, 49, 45,  0, 15, 42,\n",
            "        42, 55, 60,  0, 15, 42, 42, 55, 60, 60,  0, 15, 42, 42, 65,  0, 15, 42,\n",
            "        42, 65,  7, 47, 49, 58, 52,  0, 15, 42, 42, 65,  7, 54, 55, 58, 53, 41,\n",
            "        52,  0, 15, 42, 42, 65, 51, 49, 60, 60, 65,  0, 15, 42, 43, 41, 60,  0,\n",
            "        15, 42, 44, 61, 52,  0, 15, 42, 45,  0, 15, 42, 45, 44, 54, 45, 47, 55,\n",
            "         0, 15, 42, 45, 47, 41, 52, 45,  0, 15, 42, 45, 52,  0, 15, 42, 45, 52,\n",
            "        41, 58, 44,  0, 15, 42, 45, 54, 44, 49, 47, 55,  0, 15, 42, 45, 58, 43,\n",
            "        58, 55, 53, 42, 49, 45,  0, 15, 42, 45, 58, 44, 45, 45, 54,  0, 15, 42,\n",
            "        49,  0, 15, 42, 49, 47, 41, 49, 52,  0, 15, 42, 49, 47, 41, 49, 52,  1,\n",
            "        36, 55, 54,  1, 16, 61, 60, 60, 55, 54, 59,  0, 15, 42, 49, 52, 45, 54,\n",
            "        45,  0, 15, 42, 52, 45,  0, 15, 42, 54, 45, 58,  0, 15, 42, 58, 41,  0,\n",
            "        15, 42, 58, 41,  0, 15, 42, 58, 41, 43, 41, 44, 41, 42, 58, 41,  0, 15,\n",
            "        42, 58, 41, 48, 41, 53,  0, 15, 42, 58, 41, 64, 41, 59,  0, 15, 42, 58,\n",
            "        49, 43, 55,  0, 15, 42, 59,  0, 15, 42, 59, 49, 54, 60, 48, 45,  0, 15,\n",
            "        42, 59, 55, 52, 55, 54,  0, 15, 42, 59, 55, 52, 61, 60,  0, 15, 42, 59,\n",
            "        60, 58, 41, 43, 60, 49, 55, 54,  0, 15, 42, 61,  0, 15, 42, 61, 42, 61,\n",
            "         0, 15, 42, 65,  0, 15, 42, 65, 59, 59,  0, 15, 43, 41, 60,  0, 15, 43,\n",
            "        45,  0, 15, 43, 45,  1, 16, 41, 42, 65,  1, 34, 55, 41, 44, 46, 52, 41,\n",
            "        51, 45, 59,  0, 15, 43, 45,  1, 29, 46,  1, 33, 56, 41, 44, 45, 59,  0,\n",
            "        15, 43, 45, 65,  0, 15, 43, 48, 49, 52, 52, 45,  0, 15, 43, 48, 49, 52,\n",
            "        52, 45, 59,  0, 15, 43, 49, 59,  0, 15, 43, 51, 45, 58, 52, 65,  0, 15,\n",
            "        43, 55, 58, 54,  0, 15, 43, 58, 55, 52, 49, 54, 41,  0, 15, 43, 58, 55,\n",
            "        65,  0, 15, 43, 60, 49, 55, 54,  0, 15, 44, 41,  0, 15, 44, 41,  1, 24,\n",
            "        41, 54, 45,  0, 15, 44, 41, 43, 41, 60,  0, 15, 44, 41, 47, 49, 55,  0,\n",
            "        15, 44, 41, 51, 49, 54,  1, 33, 51, 65, 63, 41, 52, 51, 45, 58,  0, 15,\n",
            "        44, 41, 53,  0, 15, 44, 41, 53, 59,  0, 15, 44, 43, 55, 53,  0, 15, 44,\n",
            "        44, 49, 45,  0, 15, 44, 44, 49, 59,  0, 15, 44, 44, 49, 59, 55, 54,  0,\n",
            "        15, 44, 44, 65,  0, 15, 44, 44, 65,  7, 34, 55, 55, 44,  0, 15, 44, 45,\n",
            "        52, 41, 49, 44, 41,  0, 15, 44, 45, 52, 41, 49, 44, 45,  0, 15, 44, 45,\n",
            "        53, 53, 41,  0, 15, 44, 49, 44, 41, 59,  0, 15, 44, 49, 58, 55, 54, 44,\n",
            "        41, 51,  0, 15, 44, 49, 66, 41,  0, 15, 44, 52, 41, 49,  0, 15, 44, 52,\n",
            "        45, 58,  0, 15, 44, 53, 45, 60, 61, 59,  0, 15, 44, 53, 49, 58, 41, 52,\n",
            "         0, 15, 44, 55, 42, 45,  0, 15, 44, 55, 52, 56, 48,  0, 15, 44, 55, 53,\n",
            "         0, 15, 44, 55, 54, 49, 59,  0, 15, 44, 58, 49, 41, 54,  0, 15, 44, 58,\n",
            "        49, 41, 60, 49, 43,  0, 15, 44, 58, 55, 43, 51,  0, 15, 44, 62, 41, 54,\n",
            "        43, 45,  1, 17, 41, 60,  0, 15, 45, 47, 65, 56, 60, 55, 59,  0, 15, 45,\n",
            "        52, 47, 49, 46, 41,  0, 15, 45, 52, 61, 58, 61, 59,  0, 15, 45, 54, 49,\n",
            "        41, 59,  0, 15, 45, 55, 52, 61, 59,  0, 15, 45, 58, 55, 56, 45,  0, 15,\n",
            "        45, 58, 55, 59,  0, 15, 45, 59, 55, 56,  0, 15, 45, 60, 48, 45, 52, 63,\n",
            "        65, 54,  0, 15, 45, 60, 48, 58, 41,  0, 15, 46, 46, 49, 54, 49, 60, 65,\n",
            "         0, 15, 46, 49, 51, 55, 53, 41, 54,  0, 15, 46, 55, 54, 49, 41,  0, 15,\n",
            "        46, 58, 49, 43, 41,  0, 15, 46, 58, 49, 43, 41, 54,  1, 31, 61, 45, 45,\n",
            "        54,  0, 15, 46, 58, 49, 43, 41, 54,  7, 15, 53, 45, 58, 49, 43, 41, 60,\n",
            "         0, 15, 46, 58, 49, 51, 41, 54,  0, 15, 46, 58, 49, 51, 41, 60,  0, 15,\n",
            "        47, 41, 44, 55, 58, 45,  0, 15, 47, 41, 53, 45, 53, 54, 55, 54,  0, 15,\n",
            "        47, 41, 56, 45,  0, 15, 47, 41, 59, 59, 49,  0, 15, 47, 41, 60, 48, 41,\n",
            "         0, 15, 47, 41, 60, 48, 41,  1, 17, 48, 58, 49, 59, 60, 49, 45,  0, 15,\n",
            "        47, 41, 60, 48, 41,  1, 17, 48, 58, 49, 59, 60, 65,  0, 15, 47, 45, 54,\n",
            "        60,  1, 40,  0, 15, 47, 47, 45, 44, 55, 58,  0, 15, 47, 47, 49, 45,  0,\n",
            "        15, 47, 49, 52, 49,  7, 60, 58, 45, 45,  0, 15, 47, 49, 52, 49, 60, 65,\n",
            "         0, 15, 47, 49, 53, 41,  0, 15, 47, 49, 60, 41, 44, 55, 58,  0, 15, 47,\n",
            "        58, 49, 56, 56, 49, 54, 41,  0, 15, 47])\n"
          ]
        }
      ],
      "source": [
        "# let's now encode the entire text dataset and store it into a torch.Tensor\n",
        "import torch # we use PyTorch: https://pytorch.org\n",
        "data = torch.tensor(encode(text), dtype=torch.long)\n",
        "print(data.shape, data.dtype)\n",
        "print(data[:1000]) # the 1000 characters we looked at earier will to the GPT look like this"
      ]
    },
    {
      "cell_type": "code",
      "execution_count": 8,
      "metadata": {
        "id": "f_WIXqxz0lU5"
      },
      "outputs": [],
      "source": [
        "# Let's now split up the data into train and validation sets\n",
        "n = int(0.9*len(data)) # first 90% will be train, rest val\n",
        "train_data = data[:n]\n",
        "val_data = data[n:]"
      ]
    },
    {
      "cell_type": "code",
      "execution_count": 9,
      "metadata": {
        "id": "TD5Bj8Y6IAD4"
      },
      "outputs": [
        {
          "data": {
            "text/plain": [
              "tensor([15, 41, 41, 58, 47, 48,  0, 15, 41])"
            ]
          },
          "execution_count": 9,
          "metadata": {},
          "output_type": "execute_result"
        }
      ],
      "source": [
        "block_size = 8\n",
        "train_data[:block_size+1]"
      ]
    },
    {
      "cell_type": "code",
      "execution_count": 10,
      "metadata": {
        "colab": {
          "base_uri": "https://localhost:8080/"
        },
        "id": "9HXDe8vGJCEn",
        "outputId": "b513c9eb-c6de-45fd-d32e-430c7060298b"
      },
      "outputs": [
        {
          "name": "stdout",
          "output_type": "stream",
          "text": [
            "when input is tensor([15]) the target: 41\n",
            "when input is tensor([15, 41]) the target: 41\n",
            "when input is tensor([15, 41, 41]) the target: 58\n",
            "when input is tensor([15, 41, 41, 58]) the target: 47\n",
            "when input is tensor([15, 41, 41, 58, 47]) the target: 48\n",
            "when input is tensor([15, 41, 41, 58, 47, 48]) the target: 0\n",
            "when input is tensor([15, 41, 41, 58, 47, 48,  0]) the target: 15\n",
            "when input is tensor([15, 41, 41, 58, 47, 48,  0, 15]) the target: 41\n"
          ]
        }
      ],
      "source": [
        "x = train_data[:block_size]\n",
        "y = train_data[1:block_size+1]\n",
        "for t in range(block_size):\n",
        "    context = x[:t+1]\n",
        "    target = y[t]\n",
        "    print(f\"when input is {context} the target: {target}\")"
      ]
    },
    {
      "cell_type": "code",
      "execution_count": 11,
      "metadata": {
        "colab": {
          "base_uri": "https://localhost:8080/"
        },
        "id": "Q3k1Czf7LuA9",
        "outputId": "d1c7f28a-e82c-4192-c312-1dfa797bba93"
      },
      "outputs": [
        {
          "name": "stdout",
          "output_type": "stream",
          "text": [
            "inputs:\n",
            "torch.Size([4, 8])\n",
            "tensor([[34, 41, 44, 44,  0, 34, 41, 44],\n",
            "        [59, 45,  0, 22, 55, 52, 52, 45],\n",
            "        [55, 63,  2,  0, 21, 45, 60,  1],\n",
            "        [59, 60, 49, 54,  0, 15, 61, 47]])\n",
            "targets:\n",
            "torch.Size([4, 8])\n",
            "tensor([[41, 44, 44,  0, 34, 41, 44, 52],\n",
            "        [45,  0, 22, 55, 52, 52, 45, 65],\n",
            "        [63,  2,  0, 21, 45, 60,  1, 33],\n",
            "        [60, 49, 54,  0, 15, 61, 47, 61]])\n",
            "----\n",
            "when input is [34] the target: 41\n",
            "when input is [34, 41] the target: 44\n",
            "when input is [34, 41, 44] the target: 44\n",
            "when input is [34, 41, 44, 44] the target: 0\n",
            "when input is [34, 41, 44, 44, 0] the target: 34\n",
            "when input is [34, 41, 44, 44, 0, 34] the target: 41\n",
            "when input is [34, 41, 44, 44, 0, 34, 41] the target: 44\n",
            "when input is [34, 41, 44, 44, 0, 34, 41, 44] the target: 52\n",
            "when input is [59] the target: 45\n",
            "when input is [59, 45] the target: 0\n",
            "when input is [59, 45, 0] the target: 22\n",
            "when input is [59, 45, 0, 22] the target: 55\n",
            "when input is [59, 45, 0, 22, 55] the target: 52\n",
            "when input is [59, 45, 0, 22, 55, 52] the target: 52\n",
            "when input is [59, 45, 0, 22, 55, 52, 52] the target: 45\n",
            "when input is [59, 45, 0, 22, 55, 52, 52, 45] the target: 65\n",
            "when input is [55] the target: 63\n",
            "when input is [55, 63] the target: 2\n",
            "when input is [55, 63, 2] the target: 0\n",
            "when input is [55, 63, 2, 0] the target: 21\n",
            "when input is [55, 63, 2, 0, 21] the target: 45\n",
            "when input is [55, 63, 2, 0, 21, 45] the target: 60\n",
            "when input is [55, 63, 2, 0, 21, 45, 60] the target: 1\n",
            "when input is [55, 63, 2, 0, 21, 45, 60, 1] the target: 33\n",
            "when input is [59] the target: 60\n",
            "when input is [59, 60] the target: 49\n",
            "when input is [59, 60, 49] the target: 54\n",
            "when input is [59, 60, 49, 54] the target: 0\n",
            "when input is [59, 60, 49, 54, 0] the target: 15\n",
            "when input is [59, 60, 49, 54, 0, 15] the target: 61\n",
            "when input is [59, 60, 49, 54, 0, 15, 61] the target: 47\n",
            "when input is [59, 60, 49, 54, 0, 15, 61, 47] the target: 61\n"
          ]
        }
      ],
      "source": [
        "torch.manual_seed(1337)\n",
        "batch_size = 4 # how many independent sequences will we process in parallel?\n",
        "block_size = 8 # what is the maximum context length for predictions?\n",
        "\n",
        "def get_batch(split):\n",
        "    # generate a small batch of data of inputs x and targets y\n",
        "    data = train_data if split == 'train' else val_data\n",
        "    ix = torch.randint(len(data) - block_size, (batch_size,))\n",
        "    x = torch.stack([data[i:i+block_size] for i in ix])\n",
        "    y = torch.stack([data[i+1:i+block_size+1] for i in ix])\n",
        "    return x, y\n",
        "\n",
        "xb, yb = get_batch('train')\n",
        "print('inputs:')\n",
        "print(xb.shape)\n",
        "print(xb)\n",
        "print('targets:')\n",
        "print(yb.shape)\n",
        "print(yb)\n",
        "\n",
        "print('----')\n",
        "\n",
        "for b in range(batch_size): # batch dimension\n",
        "    for t in range(block_size): # time dimension\n",
        "        context = xb[b, :t+1]\n",
        "        target = yb[b,t]\n",
        "        print(f\"when input is {context.tolist()} the target: {target}\")"
      ]
    },
    {
      "cell_type": "code",
      "execution_count": 12,
      "metadata": {
        "colab": {
          "base_uri": "https://localhost:8080/"
        },
        "id": "qpyyAeIzQjlO",
        "outputId": "aff58685-c4f0-44c5-ad14-a8bd411d4855"
      },
      "outputs": [
        {
          "name": "stdout",
          "output_type": "stream",
          "text": [
            "tensor([[34, 41, 44, 44,  0, 34, 41, 44],\n",
            "        [59, 45,  0, 22, 55, 52, 52, 45],\n",
            "        [55, 63,  2,  0, 21, 45, 60,  1],\n",
            "        [59, 60, 49, 54,  0, 15, 61, 47]])\n"
          ]
        }
      ],
      "source": [
        "print(xb) # our input to the transformer"
      ]
    },
    {
      "cell_type": "code",
      "execution_count": 13,
      "metadata": {
        "colab": {
          "base_uri": "https://localhost:8080/"
        },
        "id": "nql_1ER53oCf",
        "outputId": "c92e9f9a-89c6-43fd-f56d-1fd4a0a93d3f"
      },
      "outputs": [
        {
          "name": "stdout",
          "output_type": "stream",
          "text": [
            "torch.Size([32, 77])\n",
            "tensor(4.8937, grad_fn=<NllLossBackward0>)\n",
            "\n",
            "mCæiS \n",
            "AOCéjF/EQBzàFEem9en\"Qp!h!óHS'p~-pR!OZy'pM,æAæE\n",
            "v?ylgFDW,,U\n",
            "æBZUU'sr5 yLRxjlöFlvNroKEà2mOaLà y\n"
          ]
        }
      ],
      "source": [
        "import torch\n",
        "import torch.nn as nn\n",
        "from torch.nn import functional as F\n",
        "torch.manual_seed(1337)\n",
        "\n",
        "class BigramLanguageModel(nn.Module):\n",
        "\n",
        "    def __init__(self, vocab_size):\n",
        "        super().__init__()\n",
        "        # each token directly reads off the logits for the next token from a lookup table\n",
        "        self.token_embedding_table = nn.Embedding(vocab_size, vocab_size)\n",
        "\n",
        "    def forward(self, idx, targets=None):\n",
        "\n",
        "        # idx and targets are both (B,T) tensor of integers\n",
        "        logits = self.token_embedding_table(idx) # (B,T,C)\n",
        "        \n",
        "        if targets is None:\n",
        "            loss = None\n",
        "        else:\n",
        "            B, T, C = logits.shape\n",
        "            logits = logits.view(B*T, C)\n",
        "            targets = targets.view(B*T)\n",
        "            loss = F.cross_entropy(logits, targets)\n",
        "\n",
        "        return logits, loss\n",
        "    \n",
        "    def generate(self, idx, max_new_tokens):\n",
        "        # idx is (B, T) array of indices in the current context\n",
        "        for _ in range(max_new_tokens):\n",
        "            # get the predictions\n",
        "            logits, loss = self(idx)\n",
        "            # focus only on the last time step\n",
        "            logits = logits[:, -1, :] # becomes (B, C)\n",
        "            # apply softmax to get probabilities\n",
        "            probs = F.softmax(logits, dim=-1) # (B, C)\n",
        "            # sample from the distribution\n",
        "            idx_next = torch.multinomial(probs, num_samples=1) # (B, 1)\n",
        "            # append sampled index to the running sequence\n",
        "            idx = torch.cat((idx, idx_next), dim=1) # (B, T+1)\n",
        "        return idx\n",
        "\n",
        "m = BigramLanguageModel(vocab_size)\n",
        "logits, loss = m(xb, yb)\n",
        "print(logits.shape)\n",
        "print(loss)\n",
        "\n",
        "print(decode(m.generate(idx = torch.zeros((1, 1), dtype=torch.long), max_new_tokens=100)[0].tolist()))\n"
      ]
    },
    {
      "cell_type": "code",
      "execution_count": 14,
      "metadata": {
        "id": "eTyJ8qAaDdiF"
      },
      "outputs": [],
      "source": [
        "# create a PyTorch optimizer\n",
        "optimizer = torch.optim.AdamW(m.parameters(), lr=1e-3)"
      ]
    },
    {
      "cell_type": "code",
      "execution_count": 15,
      "metadata": {
        "colab": {
          "base_uri": "https://localhost:8080/"
        },
        "id": "Hs4kI8YdEkQj",
        "outputId": "6c69f428-76fa-4f59-9464-f0541990959c"
      },
      "outputs": [
        {
          "name": "stdout",
          "output_type": "stream",
          "text": [
            "4.880545616149902\n"
          ]
        }
      ],
      "source": [
        "batch_size = 32\n",
        "for steps in range(100): # increase number of steps for good results... \n",
        "    \n",
        "    # sample a batch of data\n",
        "    xb, yb = get_batch('train')\n",
        "\n",
        "    # evaluate the loss\n",
        "    logits, loss = m(xb, yb)\n",
        "    optimizer.zero_grad(set_to_none=True)\n",
        "    loss.backward()\n",
        "    optimizer.step()\n",
        "\n",
        "print(loss.item())\n"
      ]
    },
    {
      "cell_type": "code",
      "execution_count": 16,
      "metadata": {
        "colab": {
          "base_uri": "https://localhost:8080/"
        },
        "id": "EcVIDWAZEtjN",
        "outputId": "87c13cb6-c559-4eb5-d667-499f97773440"
      },
      "outputs": [
        {
          "name": "stdout",
          "output_type": "stream",
          "text": [
            "\n",
            "rVëèfZéSxpBY~IJKeëaHv \"è1z-\"SM2borI.i.LL~bWX1xjoyFlIeQVUéONAxæsKë?Y-Zââ!\"Fmjbxàp~b\n",
            "évf9HW,àyWa\"-5vvAëó,bHZP c*VM2*s\"hfmcLPN.Qma/XDâwGILàVYTñè1xdZkc??'2wYfZwkSEàKtxS-N!eBVYl\n",
            "PJëp*oKñuæU1ZlVE!RerXnPkylxó'5ènLGq!Z,fZHgFyhrKëàyARC'AxDRF àMwJURZPnPbAWIJsëJâD/P*ouñK\n",
            "éVUlIdNy?1v/TrgJ1lgëkovRdf\n",
            "tOC.idDR\"hñqwgSkSèñqF9pNiVSt1\n",
            "mZcbnKLg\",vöoFMpjprm2LNöIè/rnxSG ön,këuoMBiV/aovæTXc \n",
            "hIkèFxo?gKlDLb IóIëkhéezfMwñwTLójU?iâm1*91,ko.91yCt1èxdO~bjoKdbuàJz*swjjUæ-GicKA,Kóy5eX?Vp2QtQBNNM\"bHvnMYfLgLMëZwe~/*,!ño-dejouó\n"
          ]
        }
      ],
      "source": [
        "print(decode(m.generate(idx = torch.zeros((1, 1), dtype=torch.long), max_new_tokens=500)[0].tolist()))"
      ]
    },
    {
      "cell_type": "markdown",
      "metadata": {
        "id": "XinV8nmAnmKN"
      },
      "source": [
        "## The mathematical trick in self-attention"
      ]
    },
    {
      "cell_type": "code",
      "execution_count": 17,
      "metadata": {
        "colab": {
          "base_uri": "https://localhost:8080/"
        },
        "id": "tukiH-NbRBhA",
        "outputId": "ba6b39ae-185e-4005-c882-eb48dcf355e8"
      },
      "outputs": [
        {
          "name": "stdout",
          "output_type": "stream",
          "text": [
            "a=\n",
            "tensor([[1.0000, 0.0000, 0.0000],\n",
            "        [0.5000, 0.5000, 0.0000],\n",
            "        [0.3333, 0.3333, 0.3333]])\n",
            "--\n",
            "b=\n",
            "tensor([[2., 7.],\n",
            "        [6., 4.],\n",
            "        [6., 5.]])\n",
            "--\n",
            "c=\n",
            "tensor([[2.0000, 7.0000],\n",
            "        [4.0000, 5.5000],\n",
            "        [4.6667, 5.3333]])\n"
          ]
        }
      ],
      "source": [
        "# toy example illustrating how matrix multiplication can be used for a \"weighted aggregation\"\n",
        "torch.manual_seed(42)\n",
        "a = torch.tril(torch.ones(3, 3))\n",
        "a = a / torch.sum(a, 1, keepdim=True)\n",
        "b = torch.randint(0,10,(3,2)).float()\n",
        "c = a @ b\n",
        "print('a=')\n",
        "print(a)\n",
        "print('--')\n",
        "print('b=')\n",
        "print(b)\n",
        "print('--')\n",
        "print('c=')\n",
        "print(c)"
      ]
    },
    {
      "cell_type": "code",
      "execution_count": 18,
      "metadata": {
        "colab": {
          "base_uri": "https://localhost:8080/"
        },
        "id": "Hs_E24uRE8kr",
        "outputId": "1c4866c5-490d-481c-8090-d2c96904a3a8"
      },
      "outputs": [
        {
          "data": {
            "text/plain": [
              "torch.Size([4, 8, 2])"
            ]
          },
          "execution_count": 18,
          "metadata": {},
          "output_type": "execute_result"
        }
      ],
      "source": [
        "# consider the following toy example:\n",
        "\n",
        "torch.manual_seed(1337)\n",
        "B,T,C = 4,8,2 # batch, time, channels\n",
        "x = torch.randn(B,T,C)\n",
        "x.shape"
      ]
    },
    {
      "cell_type": "code",
      "execution_count": 19,
      "metadata": {
        "id": "86NuXX0fn7ps"
      },
      "outputs": [],
      "source": [
        "# We want x[b,t] = mean_{i<=t} x[b,i]\n",
        "xbow = torch.zeros((B,T,C))\n",
        "for b in range(B):\n",
        "    for t in range(T):\n",
        "        xprev = x[b,:t+1] # (t,C)\n",
        "        xbow[b,t] = torch.mean(xprev, 0)\n"
      ]
    },
    {
      "cell_type": "code",
      "execution_count": 20,
      "metadata": {
        "colab": {
          "base_uri": "https://localhost:8080/"
        },
        "id": "yhdOAd6-wXkZ",
        "outputId": "212ba272-57ff-42ca-b3d5-3e21504b20fd"
      },
      "outputs": [
        {
          "data": {
            "text/plain": [
              "False"
            ]
          },
          "execution_count": 20,
          "metadata": {},
          "output_type": "execute_result"
        }
      ],
      "source": [
        "# version 2: using matrix multiply for a weighted aggregation\n",
        "wei = torch.tril(torch.ones(T, T))\n",
        "wei = wei / wei.sum(1, keepdim=True)\n",
        "xbow2 = wei @ x # (B, T, T) @ (B, T, C) ----> (B, T, C)\n",
        "torch.allclose(xbow, xbow2)"
      ]
    },
    {
      "cell_type": "code",
      "execution_count": 21,
      "metadata": {
        "colab": {
          "base_uri": "https://localhost:8080/"
        },
        "id": "wOURrfG-ysoL",
        "outputId": "85440474-4ef0-48d2-e2b0-cad01efda999"
      },
      "outputs": [
        {
          "data": {
            "text/plain": [
              "False"
            ]
          },
          "execution_count": 21,
          "metadata": {},
          "output_type": "execute_result"
        }
      ],
      "source": [
        "# version 3: use Softmax\n",
        "tril = torch.tril(torch.ones(T, T))\n",
        "wei = torch.zeros((T,T))\n",
        "wei = wei.masked_fill(tril == 0, float('-inf'))\n",
        "wei = F.softmax(wei, dim=-1)\n",
        "xbow3 = wei @ x\n",
        "torch.allclose(xbow, xbow3)\n"
      ]
    },
    {
      "cell_type": "code",
      "execution_count": 22,
      "metadata": {
        "colab": {
          "base_uri": "https://localhost:8080/"
        },
        "id": "EDarxEWIRMKq",
        "outputId": "72f86600-e41e-45c0-9336-36d332d46c6e"
      },
      "outputs": [
        {
          "data": {
            "text/plain": [
              "torch.Size([4, 8, 16])"
            ]
          },
          "execution_count": 22,
          "metadata": {},
          "output_type": "execute_result"
        }
      ],
      "source": [
        "# version 4: self-attention!\n",
        "torch.manual_seed(1337)\n",
        "B,T,C = 4,8,32 # batch, time, channels\n",
        "x = torch.randn(B,T,C)\n",
        "\n",
        "# let's see a single Head perform self-attention\n",
        "head_size = 16\n",
        "key = nn.Linear(C, head_size, bias=False)\n",
        "query = nn.Linear(C, head_size, bias=False)\n",
        "value = nn.Linear(C, head_size, bias=False)\n",
        "k = key(x)   # (B, T, 16)\n",
        "q = query(x) # (B, T, 16)\n",
        "wei =  q @ k.transpose(-2, -1) # (B, T, 16) @ (B, 16, T) ---> (B, T, T)\n",
        "\n",
        "tril = torch.tril(torch.ones(T, T))\n",
        "#wei = torch.zeros((T,T))\n",
        "wei = wei.masked_fill(tril == 0, float('-inf'))\n",
        "wei = F.softmax(wei, dim=-1)\n",
        "\n",
        "v = value(x)\n",
        "out = wei @ v\n",
        "#out = wei @ x\n",
        "\n",
        "out.shape"
      ]
    },
    {
      "cell_type": "code",
      "execution_count": 23,
      "metadata": {
        "colab": {
          "base_uri": "https://localhost:8080/"
        },
        "id": "vT1hdtzXCjgL",
        "outputId": "1af15072-487c-4258-ac11-f0c37b527739"
      },
      "outputs": [
        {
          "data": {
            "text/plain": [
              "tensor([[1.0000, 0.0000, 0.0000, 0.0000, 0.0000, 0.0000, 0.0000, 0.0000],\n",
              "        [0.1574, 0.8426, 0.0000, 0.0000, 0.0000, 0.0000, 0.0000, 0.0000],\n",
              "        [0.2088, 0.1646, 0.6266, 0.0000, 0.0000, 0.0000, 0.0000, 0.0000],\n",
              "        [0.5792, 0.1187, 0.1889, 0.1131, 0.0000, 0.0000, 0.0000, 0.0000],\n",
              "        [0.0294, 0.1052, 0.0469, 0.0276, 0.7909, 0.0000, 0.0000, 0.0000],\n",
              "        [0.0176, 0.2689, 0.0215, 0.0089, 0.6812, 0.0019, 0.0000, 0.0000],\n",
              "        [0.1691, 0.4066, 0.0438, 0.0416, 0.1048, 0.2012, 0.0329, 0.0000],\n",
              "        [0.0210, 0.0843, 0.0555, 0.2297, 0.0573, 0.0709, 0.2423, 0.2391]],\n",
              "       grad_fn=<SelectBackward0>)"
            ]
          },
          "execution_count": 23,
          "metadata": {},
          "output_type": "execute_result"
        }
      ],
      "source": [
        "wei[0]"
      ]
    },
    {
      "cell_type": "markdown",
      "metadata": {
        "id": "M5CvobiQ0pLr"
      },
      "source": [
        "Notes:\n",
        "- Attention is a **communication mechanism**. Can be seen as nodes in a directed graph looking at each other and aggregating information with a weighted sum from all nodes that point to them, with data-dependent weights.\n",
        "- There is no notion of space. Attention simply acts over a set of vectors. This is why we need to positionally encode tokens.\n",
        "- Each example across batch dimension is of course processed completely independently and never \"talk\" to each other\n",
        "- In an \"encoder\" attention block just delete the single line that does masking with `tril`, allowing all tokens to communicate. This block here is called a \"decoder\" attention block because it has triangular masking, and is usually used in autoregressive settings, like language modeling.\n",
        "- \"self-attention\" just means that the keys and values are produced from the same source as queries. In \"cross-attention\", the queries still get produced from x, but the keys and values come from some other, external source (e.g. an encoder module)\n",
        "- \"Scaled\" attention additional divides `wei` by 1/sqrt(head_size). This makes it so when input Q,K are unit variance, wei will be unit variance too and Softmax will stay diffuse and not saturate too much. Illustration below"
      ]
    },
    {
      "cell_type": "code",
      "execution_count": 24,
      "metadata": {
        "id": "4SNbLq5z3oBw"
      },
      "outputs": [],
      "source": [
        "k = torch.randn(B,T,head_size)\n",
        "q = torch.randn(B,T,head_size)\n",
        "wei = q @ k.transpose(-2, -1) * head_size**-0.5"
      ]
    },
    {
      "cell_type": "code",
      "execution_count": 25,
      "metadata": {
        "colab": {
          "base_uri": "https://localhost:8080/"
        },
        "id": "Nl6I9n9IRTSo",
        "outputId": "1dde246f-176c-49cf-cbf3-31873a7cd390"
      },
      "outputs": [
        {
          "data": {
            "text/plain": [
              "tensor(1.0449)"
            ]
          },
          "execution_count": 25,
          "metadata": {},
          "output_type": "execute_result"
        }
      ],
      "source": [
        "k.var()"
      ]
    },
    {
      "cell_type": "code",
      "execution_count": 26,
      "metadata": {
        "colab": {
          "base_uri": "https://localhost:8080/"
        },
        "id": "T1tQx7oeRvtc",
        "outputId": "adb53af2-7eda-40c3-e50e-6bb36d41f340"
      },
      "outputs": [
        {
          "data": {
            "text/plain": [
              "tensor(1.0700)"
            ]
          },
          "execution_count": 26,
          "metadata": {},
          "output_type": "execute_result"
        }
      ],
      "source": [
        "q.var()"
      ]
    },
    {
      "cell_type": "code",
      "execution_count": 27,
      "metadata": {
        "colab": {
          "base_uri": "https://localhost:8080/"
        },
        "id": "MLb_odHU3iKM",
        "outputId": "44d403bc-ae14-41ac-c4d9-c495d89cf6a6"
      },
      "outputs": [
        {
          "data": {
            "text/plain": [
              "tensor(1.0918)"
            ]
          },
          "execution_count": 27,
          "metadata": {},
          "output_type": "execute_result"
        }
      ],
      "source": [
        "wei.var()"
      ]
    },
    {
      "cell_type": "code",
      "execution_count": 28,
      "metadata": {
        "colab": {
          "base_uri": "https://localhost:8080/"
        },
        "id": "JB82yzt44REI",
        "outputId": "479e1e05-0f92-4369-978f-d4132a23ec76"
      },
      "outputs": [
        {
          "data": {
            "text/plain": [
              "tensor([0.1925, 0.1426, 0.2351, 0.1426, 0.2872])"
            ]
          },
          "execution_count": 28,
          "metadata": {},
          "output_type": "execute_result"
        }
      ],
      "source": [
        "torch.softmax(torch.tensor([0.1, -0.2, 0.3, -0.2, 0.5]), dim=-1)"
      ]
    },
    {
      "cell_type": "code",
      "execution_count": 29,
      "metadata": {
        "colab": {
          "base_uri": "https://localhost:8080/"
        },
        "id": "Mpt8569BB9_f",
        "outputId": "28f372a7-9694-4285-ce24-939638c72c52"
      },
      "outputs": [
        {
          "data": {
            "text/plain": [
              "tensor([0.0326, 0.0030, 0.1615, 0.0030, 0.8000])"
            ]
          },
          "execution_count": 29,
          "metadata": {},
          "output_type": "execute_result"
        }
      ],
      "source": [
        "torch.softmax(torch.tensor([0.1, -0.2, 0.3, -0.2, 0.5])*8, dim=-1) # gets too peaky, converges to one-hot"
      ]
    },
    {
      "cell_type": "code",
      "execution_count": 30,
      "metadata": {
        "colab": {
          "base_uri": "https://localhost:8080/"
        },
        "id": "2Num7sX9CKOH",
        "outputId": "68851730-6dae-42d3-bd22-2f6b4474b623"
      },
      "outputs": [
        {
          "data": {
            "text/plain": [
              "torch.Size([32, 100])"
            ]
          },
          "execution_count": 30,
          "metadata": {},
          "output_type": "execute_result"
        }
      ],
      "source": [
        "class LayerNorm1d: # (used to be BatchNorm1d)\n",
        "  \n",
        "  def __init__(self, dim, eps=1e-5, momentum=0.1):\n",
        "    self.eps = eps\n",
        "    self.gamma = torch.ones(dim)\n",
        "    self.beta = torch.zeros(dim)\n",
        "  \n",
        "  def __call__(self, x):\n",
        "    # calculate the forward pass\n",
        "    xmean = x.mean(1, keepdim=True) # batch mean\n",
        "    xvar = x.var(1, keepdim=True) # batch variance\n",
        "    xhat = (x - xmean) / torch.sqrt(xvar + self.eps) # normalize to unit variance\n",
        "    self.out = self.gamma * xhat + self.beta\n",
        "    return self.out\n",
        "  \n",
        "  def parameters(self):\n",
        "    return [self.gamma, self.beta]\n",
        "\n",
        "torch.manual_seed(1337)\n",
        "module = LayerNorm1d(100)\n",
        "x = torch.randn(32, 100) # batch size 32 of 100-dimensional vectors\n",
        "x = module(x)\n",
        "x.shape"
      ]
    },
    {
      "cell_type": "code",
      "execution_count": 31,
      "metadata": {
        "colab": {
          "base_uri": "https://localhost:8080/"
        },
        "id": "633T2cmnW1uk",
        "outputId": "8c506420-bce7-4203-9ecd-314d08cfbaff"
      },
      "outputs": [
        {
          "data": {
            "text/plain": [
              "(tensor(0.1469), tensor(0.8803))"
            ]
          },
          "execution_count": 31,
          "metadata": {},
          "output_type": "execute_result"
        }
      ],
      "source": [
        "x[:,0].mean(), x[:,0].std() # mean,std of one feature across all batch inputs"
      ]
    },
    {
      "cell_type": "code",
      "execution_count": 32,
      "metadata": {
        "colab": {
          "base_uri": "https://localhost:8080/"
        },
        "id": "LN9cK9BoXCYb",
        "outputId": "f6a54576-0773-4c43-c4aa-85b298540566"
      },
      "outputs": [
        {
          "data": {
            "text/plain": [
              "(tensor(-9.5367e-09), tensor(1.0000))"
            ]
          },
          "execution_count": 32,
          "metadata": {},
          "output_type": "execute_result"
        }
      ],
      "source": [
        "x[0,:].mean(), x[0,:].std() # mean,std of a single input from the batch, of its features"
      ]
    },
    {
      "cell_type": "code",
      "execution_count": 33,
      "metadata": {
        "id": "dRJH6wM_XFfU"
      },
      "outputs": [],
      "source": [
        "# French to English translation example:\n",
        "\n",
        "# <--------- ENCODE ------------------><--------------- DECODE ----------------->\n",
        "# les réseaux de neurones sont géniaux! <START> neural networks are awesome!<END>\n",
        "\n"
      ]
    },
    {
      "cell_type": "markdown",
      "metadata": {
        "id": "ZcvKeBXoZFOY"
      },
      "source": [
        "### Full finished code, for reference\n",
        "\n",
        "You may want to refer directly to the git repo instead though."
      ]
    },
    {
      "cell_type": "code",
      "execution_count": 34,
      "metadata": {
        "colab": {
          "base_uri": "https://localhost:8080/"
        },
        "id": "hoelkOrFY8bN",
        "outputId": "3cd22673-c676-429e-d04c-05514e16ad4f"
      },
      "outputs": [
        {
          "name": "stdout",
          "output_type": "stream",
          "text": [
            "0.211277 M parameters\n"
          ]
        },
        {
          "name": "stdout",
          "output_type": "stream",
          "text": [
            "step 0: train loss 4.4789, val loss 4.4805\n",
            "step 100: train loss 2.7557, val loss 3.1014\n",
            "step 200: train loss 2.5590, val loss 3.0072\n",
            "step 300: train loss 2.3033, val loss 2.7534\n",
            "step 400: train loss 2.1498, val loss 2.6365\n",
            "step 500: train loss 2.0277, val loss 2.5141\n",
            "step 600: train loss 1.9354, val loss 2.4180\n",
            "step 700: train loss 1.8690, val loss 2.3609\n",
            "step 800: train loss 1.8414, val loss 2.3074\n",
            "step 900: train loss 1.8040, val loss 2.2825\n",
            "step 1000: train loss 1.7965, val loss 2.2892\n",
            "step 1100: train loss 1.7580, val loss 2.3287\n",
            "step 1200: train loss 1.7591, val loss 2.2623\n",
            "step 1300: train loss 1.7338, val loss 2.2631\n",
            "step 1400: train loss 1.7068, val loss 2.2063\n",
            "step 1500: train loss 1.7054, val loss 2.2044\n",
            "step 1600: train loss 1.6855, val loss 2.2548\n",
            "step 1700: train loss 1.6765, val loss 2.2436\n",
            "step 1800: train loss 1.6622, val loss 2.2338\n",
            "step 1900: train loss 1.6515, val loss 2.1957\n",
            "step 2000: train loss 1.6305, val loss 2.2621\n",
            "step 2100: train loss 1.6459, val loss 2.2599\n",
            "step 2200: train loss 1.6250, val loss 2.2820\n",
            "step 2300: train loss 1.6143, val loss 2.1951\n",
            "step 2400: train loss 1.6101, val loss 2.2618\n",
            "step 2500: train loss 1.5907, val loss 2.2354\n",
            "step 2600: train loss 1.5929, val loss 2.1847\n",
            "step 2700: train loss 1.5959, val loss 2.1989\n",
            "step 2800: train loss 1.5744, val loss 2.2426\n",
            "step 2900: train loss 1.5780, val loss 2.1876\n",
            "step 3000: train loss 1.5639, val loss 2.2149\n",
            "step 3100: train loss 1.5472, val loss 2.2273\n",
            "step 3200: train loss 1.5482, val loss 2.2319\n",
            "step 3300: train loss 1.5455, val loss 2.2424\n",
            "step 3400: train loss 1.5323, val loss 2.1934\n",
            "step 3500: train loss 1.5304, val loss 2.2235\n",
            "step 3600: train loss 1.5224, val loss 2.2207\n",
            "step 3700: train loss 1.5097, val loss 2.2138\n",
            "step 3800: train loss 1.5186, val loss 2.1999\n",
            "step 3900: train loss 1.4946, val loss 2.2080\n",
            "step 4000: train loss 1.4995, val loss 2.2768\n",
            "step 4100: train loss 1.4971, val loss 2.2571\n",
            "step 4200: train loss 1.4814, val loss 2.2483\n",
            "step 4300: train loss 1.4671, val loss 2.2479\n",
            "step 4400: train loss 1.4756, val loss 2.2648\n",
            "step 4500: train loss 1.4818, val loss 2.2478\n",
            "step 4600: train loss 1.4617, val loss 2.2480\n",
            "step 4700: train loss 1.4501, val loss 2.2454\n",
            "step 4800: train loss 1.4522, val loss 2.2731\n",
            "step 4900: train loss 1.4484, val loss 2.2816\n",
            "step 4999: train loss 1.4439, val loss 2.3011\n",
            "\n",
            "Alderica\n",
            "Alesa\n",
            "Alesaica\n",
            "Alesot\n",
            "Aleshona\n",
            "Alessort\n",
            "Alestophon\n",
            "Alet\n",
            "Aliah Treedssoom\n",
            "Alicake\n",
            "Alie\n",
            "Amadch\n",
            "Amalusta\n",
            "Amalol\n",
            "Amalios\n",
            "\n",
            "Amaloniomdio\n",
            "Amathoth\n",
            "Amaba\n",
            "Ama\n",
            "Amagatha\n",
            "Amakel Cayowarabict Cancamooti Hickle\n",
            "Delham\n",
            "Delhisle\n",
            "Delleries\n",
            "Dema\n",
            "Demintra\n",
            "Demino\n",
            "Demiwh\n",
            "Demold\n",
            "Demp\n",
            "Demrie\n",
            "Demulin\n",
            "Demumbo\n",
            "Demui\n",
            "Demu-Deme\n",
            "Demucagus\n",
            "Demur\n",
            "Demvooza\n",
            "Dem\n",
            "Demwour\n",
            "Demwer\n",
            "Demwe\n",
            "Deni\n",
            "Deltarst\n",
            "Denzil\n",
            "Depiftle\n",
            "Derance d\n",
            "Deriro\n",
            "Deri\n",
            "Derie\n",
            "Derka\n",
            "Derless\n",
            "Derleybag\n",
            "Derly\n",
            "Derlage\n",
            "Dermants\n",
            "Dermyno\n",
            "Dermleith\n",
            "Deroa\n",
            "Derroat\n",
            "Derron Royeis\n",
            "Dersettic\n",
            "Derset\n",
            "Dervon\n",
            "Dery Uper-calles\n",
            "Doscher\n",
            "DoserPooch\n",
            "Doshy\n",
            "Dostlad\n",
            "Dottme\n",
            "Dot\n",
            "Dottaddy\n",
            "Dottersta\n",
            "Dotty Hutgim\n",
            "Dotzy\n",
            "Doy\n",
            "Doympocen\n",
            "Doys\n",
            "Doytricat\n",
            "Doysta\n",
            "Doystopeingtory\n",
            "Doysy\n",
            "Dobber-Dowe-choo\n",
            "Dober-Bober\n",
            "Doebie-loudoo\n",
            "Doebie-choogiev\n",
            "Dohef\n",
            "Dohf\n",
            "Doi\n",
            "Doi\n",
            "Dola-Ca\n",
            "Dolan A Dooth\n",
            "Dole Loal\n",
            "Dolia\n",
            "Dolie\n",
            "Dolie Bubart\n",
            "Dolie-Dievyesbie\n",
            "Dolie\n",
            "Dolly\n",
            "Dolly-Do\n",
            "Dom Guy\n",
            "Domigs\n",
            "Domley\n",
            "Domle\n",
            "Domper Done\n",
            "Dompleush\n",
            "Doneta\n",
            "Donks\n",
            "Donkstan\n",
            "Donk\n",
            "Donkstoph\n",
            "Doo\n",
            "Dooza\n",
            "Dopha\n",
            "Dopt\n",
            "Dopzra\n",
            "Dopy\n",
            "Dor\n",
            "Dorace\n",
            "Dorco\n",
            "Dordy\n",
            "Dos\n",
            "Dosey\n",
            "Dosey\n",
            "Dosha\n",
            "Doshian\n",
            "Doshi\n",
            "Dosie\n",
            "Dosie\n",
            "Dossman\n",
            "Dossy\n",
            "Dossapy\n",
            "Dostycat\n",
            "Dosutte\n",
            "Dot Mittch\n",
            "Dotgette\n",
            "Dotton\n",
            "Doversick\n",
            "Dow\n",
            "Dober\n",
            "Do Duber-\n",
            "Doby\n",
            "Dob\n",
            "DGob\n",
            "Dobey\n",
            "Dobley\n",
            "Dobey\n",
            "Dobity\n",
            "Dobei\n",
            "Dobbit\n",
            "Dobbie\n",
            "Dobby\n",
            "Doce\n",
            "Doclux Jeght\n",
            "Ofbut\n",
            "Dogla\n",
            "Doglar\n",
            "Dogort\n",
            "Dogs\n",
            "Dogus\n",
            "Dogy\n",
            "Doojo\n",
            "Doonhers\n",
            "Doodaradd\n",
            "Dohie\n",
            "Doquet\n",
            "Doraiksy\n",
            "Dorda\n",
            "Dorenk\n",
            "Doren Crouf\n",
            "Doreth\n",
            "Dorriph\n",
            "Dossord\n",
            "Dosty\n",
            "Dosty Roe\n",
            "Dosty Bantol\n",
            "Dosty Smuth\n",
            "Dosty-Pocan\n",
            "Dotzlo\n",
            "Dotch\n",
            "Dotsy\n",
            "Dokut\n",
            "Dokurchelle\n",
            "Dokoen\n",
            "Dolamenco\n",
            "Dolee\n",
            "Dolles\n",
            "Dolle\n",
            "Doller Dammise\n",
            "Dolie\n",
            "Dolka\n",
            "Dollette\n",
            "Doll\n",
            "Doll\n",
            "Doll-Doy\n",
            "Dolly\n",
            "Dolly Buc\n",
            "Don\n",
            "Don\n",
            "Don Dan-\n",
            "Don Digher\n",
            "Dona Matet\n",
            "Donberith\n",
            "Done\n",
            "Donersingt\n",
            "Donesbera\n",
            "Doneysub\n",
            "Doo Roze\n",
            "Doozy\n",
            "Doozy-doot\n",
            "Doozef\n",
            "Doperma\n",
            "Dophile\n",
            "Dophon\n",
            "Dophua\n",
            "Doppyl\n",
            "Dopper\n",
            "Doptis\n",
            "Dop\n",
            "Dopur Jo\n",
            "Dopapoot\n",
            "Dopiona\n",
            "Dopsle\n",
            "Dopmo\n",
            "Dorey-Boshous\n",
            "Doquish\n",
            "Doquither Gery\n",
            "Doraster Catcamont Puddie Anner\n",
            "Guber-Tubethoa\n",
            "Guber\n",
            "Gubhert\n",
            "Guce\n",
            "Guccawaney\n",
            "Gucky\n",
            "Gucky\n",
            "Guco\n",
            "Gudey Grouckle\n",
            "Gudy,CoondyPunty\n",
            "Gurrise\n",
            "Gurrie Motheess\n",
            "Gurriest\n",
            "Gurrmin\n",
            "Gurum\n",
            "Gurybyg\n",
            "\n"
          ]
        }
      ],
      "source": [
        "import torch\n",
        "import torch.nn as nn\n",
        "from torch.nn import functional as F\n",
        "\n",
        "# hyperparameters\n",
        "batch_size = 16 # how many independent sequences will we process in parallel?\n",
        "block_size = 32 # what is the maximum context length for predictions?\n",
        "max_iters = 5000\n",
        "eval_interval = 100\n",
        "learning_rate = 1e-3\n",
        "device = 'cuda' if torch.cuda.is_available() else 'cpu'\n",
        "eval_iters = 200\n",
        "n_embd = 64\n",
        "n_head = 4\n",
        "n_layer = 4\n",
        "dropout = 0.0\n",
        "# ------------\n",
        "\n",
        "torch.manual_seed(1337)\n",
        "\n",
        "# wget https://raw.githubusercontent.com/karpathy/char-rnn/master/data/tinyshakespeare/input.txt\n",
        "with open('input.txt', 'r', encoding='utf-8') as f:\n",
        "    text = f.read()\n",
        "\n",
        "# here are all the unique characters that occur in this text\n",
        "chars = sorted(list(set(text)))\n",
        "vocab_size = len(chars)\n",
        "# create a mapping from characters to integers\n",
        "stoi = { ch:i for i,ch in enumerate(chars) }\n",
        "itos = { i:ch for i,ch in enumerate(chars) }\n",
        "encode = lambda s: [stoi[c] for c in s] # encoder: take a string, output a list of integers\n",
        "decode = lambda l: ''.join([itos[i] for i in l]) # decoder: take a list of integers, output a string\n",
        "\n",
        "# Train and test splits\n",
        "data = torch.tensor(encode(text), dtype=torch.long)\n",
        "n = int(0.9*len(data)) # first 90% will be train, rest val\n",
        "train_data = data[:n]\n",
        "val_data = data[n:]\n",
        "\n",
        "# data loading\n",
        "def get_batch(split):\n",
        "    # generate a small batch of data of inputs x and targets y\n",
        "    data = train_data if split == 'train' else val_data\n",
        "    ix = torch.randint(len(data) - block_size, (batch_size,))\n",
        "    x = torch.stack([data[i:i+block_size] for i in ix])\n",
        "    y = torch.stack([data[i+1:i+block_size+1] for i in ix])\n",
        "    x, y = x.to(device), y.to(device)\n",
        "    return x, y\n",
        "\n",
        "@torch.no_grad()\n",
        "def estimate_loss():\n",
        "    out = {}\n",
        "    model.eval()\n",
        "    for split in ['train', 'val']:\n",
        "        losses = torch.zeros(eval_iters)\n",
        "        for k in range(eval_iters):\n",
        "            X, Y = get_batch(split)\n",
        "            logits, loss = model(X, Y)\n",
        "            losses[k] = loss.item()\n",
        "        out[split] = losses.mean()\n",
        "    model.train()\n",
        "    return out\n",
        "\n",
        "class Head(nn.Module):\n",
        "    \"\"\" one head of self-attention \"\"\"\n",
        "\n",
        "    def __init__(self, head_size):\n",
        "        super().__init__()\n",
        "        self.key = nn.Linear(n_embd, head_size, bias=False)\n",
        "        self.query = nn.Linear(n_embd, head_size, bias=False)\n",
        "        self.value = nn.Linear(n_embd, head_size, bias=False)\n",
        "        self.register_buffer('tril', torch.tril(torch.ones(block_size, block_size)))\n",
        "\n",
        "        self.dropout = nn.Dropout(dropout)\n",
        "\n",
        "    def forward(self, x):\n",
        "        B,T,C = x.shape\n",
        "        k = self.key(x)   # (B,T,C)\n",
        "        q = self.query(x) # (B,T,C)\n",
        "        # compute attention scores (\"affinities\")\n",
        "        wei = q @ k.transpose(-2,-1) * C**-0.5 # (B, T, C) @ (B, C, T) -> (B, T, T)\n",
        "        wei = wei.masked_fill(self.tril[:T, :T] == 0, float('-inf')) # (B, T, T)\n",
        "        wei = F.softmax(wei, dim=-1) # (B, T, T)\n",
        "        wei = self.dropout(wei)\n",
        "        # perform the weighted aggregation of the values\n",
        "        v = self.value(x) # (B,T,C)\n",
        "        out = wei @ v # (B, T, T) @ (B, T, C) -> (B, T, C)\n",
        "        return out\n",
        "\n",
        "class MultiHeadAttention(nn.Module):\n",
        "    \"\"\" multiple heads of self-attention in parallel \"\"\"\n",
        "\n",
        "    def __init__(self, num_heads, head_size):\n",
        "        super().__init__()\n",
        "        self.heads = nn.ModuleList([Head(head_size) for _ in range(num_heads)])\n",
        "        self.proj = nn.Linear(n_embd, n_embd)\n",
        "        self.dropout = nn.Dropout(dropout)\n",
        "\n",
        "    def forward(self, x):\n",
        "        out = torch.cat([h(x) for h in self.heads], dim=-1)\n",
        "        out = self.dropout(self.proj(out))\n",
        "        return out\n",
        "\n",
        "class FeedFoward(nn.Module):\n",
        "    \"\"\" a simple linear layer followed by a non-linearity \"\"\"\n",
        "\n",
        "    def __init__(self, n_embd):\n",
        "        super().__init__()\n",
        "        self.net = nn.Sequential(\n",
        "            nn.Linear(n_embd, 4 * n_embd),\n",
        "            nn.ReLU(),\n",
        "            nn.Linear(4 * n_embd, n_embd),\n",
        "            nn.Dropout(dropout),\n",
        "        )\n",
        "\n",
        "    def forward(self, x):\n",
        "        return self.net(x)\n",
        "\n",
        "class Block(nn.Module):\n",
        "    \"\"\" Transformer block: communication followed by computation \"\"\"\n",
        "\n",
        "    def __init__(self, n_embd, n_head):\n",
        "        # n_embd: embedding dimension, n_head: the number of heads we'd like\n",
        "        super().__init__()\n",
        "        head_size = n_embd // n_head\n",
        "        self.sa = MultiHeadAttention(n_head, head_size)\n",
        "        self.ffwd = FeedFoward(n_embd)\n",
        "        self.ln1 = nn.LayerNorm(n_embd)\n",
        "        self.ln2 = nn.LayerNorm(n_embd)\n",
        "\n",
        "    def forward(self, x):\n",
        "        x = x + self.sa(self.ln1(x))\n",
        "        x = x + self.ffwd(self.ln2(x))\n",
        "        return x\n",
        "\n",
        "# super simple bigram model\n",
        "class BigramLanguageModel(nn.Module):\n",
        "\n",
        "    def __init__(self):\n",
        "        super().__init__()\n",
        "        # each token directly reads off the logits for the next token from a lookup table\n",
        "        self.token_embedding_table = nn.Embedding(vocab_size, n_embd)\n",
        "        self.position_embedding_table = nn.Embedding(block_size, n_embd)\n",
        "        self.blocks = nn.Sequential(*[Block(n_embd, n_head=n_head) for _ in range(n_layer)])\n",
        "        self.ln_f = nn.LayerNorm(n_embd) # final layer norm\n",
        "        self.lm_head = nn.Linear(n_embd, vocab_size)\n",
        "\n",
        "    def forward(self, idx, targets=None):\n",
        "        B, T = idx.shape\n",
        "\n",
        "        # idx and targets are both (B,T) tensor of integers\n",
        "        tok_emb = self.token_embedding_table(idx) # (B,T,C)\n",
        "        pos_emb = self.position_embedding_table(torch.arange(T, device=device)) # (T,C)\n",
        "        x = tok_emb + pos_emb # (B,T,C)\n",
        "        x = self.blocks(x) # (B,T,C)\n",
        "        x = self.ln_f(x) # (B,T,C)\n",
        "        logits = self.lm_head(x) # (B,T,vocab_size)\n",
        "\n",
        "        if targets is None:\n",
        "            loss = None\n",
        "        else:\n",
        "            B, T, C = logits.shape\n",
        "            logits = logits.view(B*T, C)\n",
        "            targets = targets.view(B*T)\n",
        "            loss = F.cross_entropy(logits, targets)\n",
        "\n",
        "        return logits, loss\n",
        "\n",
        "    def generate(self, idx, max_new_tokens):\n",
        "        # idx is (B, T) array of indices in the current context\n",
        "        for _ in range(max_new_tokens):\n",
        "            # crop idx to the last block_size tokens\n",
        "            idx_cond = idx[:, -block_size:]\n",
        "            # get the predictions\n",
        "            logits, loss = self(idx_cond)\n",
        "            # focus only on the last time step\n",
        "            logits = logits[:, -1, :] # becomes (B, C)\n",
        "            # apply softmax to get probabilities\n",
        "            probs = F.softmax(logits, dim=-1) # (B, C)\n",
        "            # sample from the distribution\n",
        "            idx_next = torch.multinomial(probs, num_samples=1) # (B, 1)\n",
        "            # append sampled index to the running sequence\n",
        "            idx = torch.cat((idx, idx_next), dim=1) # (B, T+1)\n",
        "        return idx\n",
        "\n",
        "model = BigramLanguageModel()\n",
        "m = model.to(device)\n",
        "# print the number of parameters in the model\n",
        "print(sum(p.numel() for p in m.parameters())/1e6, 'M parameters')\n",
        "\n",
        "# create a PyTorch optimizer\n",
        "optimizer = torch.optim.AdamW(model.parameters(), lr=learning_rate)\n",
        "\n",
        "for iter in range(max_iters):\n",
        "\n",
        "    # every once in a while evaluate the loss on train and val sets\n",
        "    if iter % eval_interval == 0 or iter == max_iters - 1:\n",
        "        losses = estimate_loss()\n",
        "        print(f\"step {iter}: train loss {losses['train']:.4f}, val loss {losses['val']:.4f}\")\n",
        "\n",
        "    # sample a batch of data\n",
        "    xb, yb = get_batch('train')\n",
        "\n",
        "    # evaluate the loss\n",
        "    logits, loss = model(xb, yb)\n",
        "    optimizer.zero_grad(set_to_none=True)\n",
        "    loss.backward()\n",
        "    optimizer.step()\n",
        "\n",
        "# generate from the model\n",
        "context = torch.zeros((1, 1), dtype=torch.long, device=device)\n",
        "print(decode(m.generate(context, max_new_tokens=2000)[0].tolist()))\n"
      ]
    }
  ],
  "metadata": {
    "colab": {
      "provenance": []
    },
    "kernelspec": {
      "display_name": "Python 3",
      "name": "python3"
    },
    "language_info": {
      "codemirror_mode": {
        "name": "ipython",
        "version": 3
      },
      "file_extension": ".py",
      "mimetype": "text/x-python",
      "name": "python",
      "nbconvert_exporter": "python",
      "pygments_lexer": "ipython3",
      "version": "3.12.1"
    }
  },
  "nbformat": 4,
  "nbformat_minor": 0
}
