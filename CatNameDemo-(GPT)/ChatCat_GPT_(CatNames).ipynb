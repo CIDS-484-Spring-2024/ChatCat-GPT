{
  "cells": [
    {
      "cell_type": "markdown",
      "metadata": {
        "id": "wJpXpmjEYC_T"
      },
      "source": [
        "## Building a Cat Name Generator - Meow Meow Names!"
      ]
    },
    {
      "cell_type": "code",
      "execution_count": 7,
      "metadata": {
        "colab": {
          "base_uri": "https://localhost:8080/"
        },
        "id": "h5hjCcLDr2WC",
        "outputId": "d89c58d4-94d9-47a0-e4c8-35110b70d151"
      },
      "outputs": [
        {
          "name": "stderr",
          "output_type": "stream",
          "text": [
            "'wget' is not recognized as an internal or external command,\n",
            "operable program or batch file.\n"
          ]
        }
      ],
      "source": [
        "# We always start with a dataset to train on. Let's download my cat names.\n",
        "!wget https://github.com/CIDS-484-Spring-2024/ChatCat-GPT/blob/main/Cat Name Demo - (GPT)/input.txt"
      ]
    },
    {
      "cell_type": "code",
      "execution_count": 8,
      "metadata": {
        "id": "O6medjfRsLD9"
      },
      "outputs": [
        {
          "ename": "FileNotFoundError",
          "evalue": "[Errno 2] No such file or directory: 'input.txt'",
          "output_type": "error",
          "traceback": [
            "\u001b[1;31m---------------------------------------------------------------------------\u001b[0m",
            "\u001b[1;31mFileNotFoundError\u001b[0m                         Traceback (most recent call last)",
            "Cell \u001b[1;32mIn[8], line 2\u001b[0m\n\u001b[0;32m      1\u001b[0m \u001b[38;5;66;03m# read it in to inspect it\u001b[39;00m\n\u001b[1;32m----> 2\u001b[0m \u001b[38;5;28;01mwith\u001b[39;00m \u001b[38;5;28;43mopen\u001b[39;49m\u001b[43m(\u001b[49m\u001b[38;5;124;43m'\u001b[39;49m\u001b[38;5;124;43minput.txt\u001b[39;49m\u001b[38;5;124;43m'\u001b[39;49m\u001b[43m,\u001b[49m\u001b[43m \u001b[49m\u001b[38;5;124;43m'\u001b[39;49m\u001b[38;5;124;43mr\u001b[39;49m\u001b[38;5;124;43m'\u001b[39;49m\u001b[43m,\u001b[49m\u001b[43m \u001b[49m\u001b[43mencoding\u001b[49m\u001b[38;5;241;43m=\u001b[39;49m\u001b[38;5;124;43m'\u001b[39;49m\u001b[38;5;124;43mutf-8\u001b[39;49m\u001b[38;5;124;43m'\u001b[39;49m\u001b[43m)\u001b[49m \u001b[38;5;28;01mas\u001b[39;00m f:\n\u001b[0;32m      3\u001b[0m     text \u001b[38;5;241m=\u001b[39m f\u001b[38;5;241m.\u001b[39mread()\n",
            "File \u001b[1;32m~\\AppData\\Roaming\\Python\\Python312\\site-packages\\IPython\\core\\interactiveshell.py:310\u001b[0m, in \u001b[0;36m_modified_open\u001b[1;34m(file, *args, **kwargs)\u001b[0m\n\u001b[0;32m    303\u001b[0m \u001b[38;5;28;01mif\u001b[39;00m file \u001b[38;5;129;01min\u001b[39;00m {\u001b[38;5;241m0\u001b[39m, \u001b[38;5;241m1\u001b[39m, \u001b[38;5;241m2\u001b[39m}:\n\u001b[0;32m    304\u001b[0m     \u001b[38;5;28;01mraise\u001b[39;00m \u001b[38;5;167;01mValueError\u001b[39;00m(\n\u001b[0;32m    305\u001b[0m         \u001b[38;5;124mf\u001b[39m\u001b[38;5;124m\"\u001b[39m\u001b[38;5;124mIPython won\u001b[39m\u001b[38;5;124m'\u001b[39m\u001b[38;5;124mt let you open fd=\u001b[39m\u001b[38;5;132;01m{\u001b[39;00mfile\u001b[38;5;132;01m}\u001b[39;00m\u001b[38;5;124m by default \u001b[39m\u001b[38;5;124m\"\u001b[39m\n\u001b[0;32m    306\u001b[0m         \u001b[38;5;124m\"\u001b[39m\u001b[38;5;124mas it is likely to crash IPython. If you know what you are doing, \u001b[39m\u001b[38;5;124m\"\u001b[39m\n\u001b[0;32m    307\u001b[0m         \u001b[38;5;124m\"\u001b[39m\u001b[38;5;124myou can use builtins\u001b[39m\u001b[38;5;124m'\u001b[39m\u001b[38;5;124m open.\u001b[39m\u001b[38;5;124m\"\u001b[39m\n\u001b[0;32m    308\u001b[0m     )\n\u001b[1;32m--> 310\u001b[0m \u001b[38;5;28;01mreturn\u001b[39;00m \u001b[43mio_open\u001b[49m\u001b[43m(\u001b[49m\u001b[43mfile\u001b[49m\u001b[43m,\u001b[49m\u001b[43m \u001b[49m\u001b[38;5;241;43m*\u001b[39;49m\u001b[43margs\u001b[49m\u001b[43m,\u001b[49m\u001b[43m \u001b[49m\u001b[38;5;241;43m*\u001b[39;49m\u001b[38;5;241;43m*\u001b[39;49m\u001b[43mkwargs\u001b[49m\u001b[43m)\u001b[49m\n",
            "\u001b[1;31mFileNotFoundError\u001b[0m: [Errno 2] No such file or directory: 'input.txt'"
          ]
        }
      ],
      "source": [
        "# read it in to inspect it\n",
        "with open('input.txt', 'r', encoding='utf-8') as f:\n",
        "    text = f.read()"
      ]
    },
    {
      "cell_type": "code",
      "execution_count": 6,
      "metadata": {
        "colab": {
          "base_uri": "https://localhost:8080/"
        },
        "id": "6xWI_VyAsN8F",
        "outputId": "b403e90b-45d9-44c4-8418-5edc309d8d36"
      },
      "outputs": [
        {
          "name": "stdout",
          "output_type": "stream",
          "text": [
            "length of dataset in characters:  91467\n"
          ]
        }
      ],
      "source": [
        "print(\"length of dataset in characters: \", len(text))"
      ]
    },
    {
      "cell_type": "code",
      "execution_count": 7,
      "metadata": {
        "colab": {
          "base_uri": "https://localhost:8080/"
        },
        "id": "2c5V0FvqseE0",
        "outputId": "0b99fc4d-15da-41b8-ce49-aa71b6316090"
      },
      "outputs": [
        {
          "name": "stdout",
          "output_type": "stream",
          "text": [
            "Aaargh\n",
            "Aaliyah\n",
            "Aaron\n",
            "Ab\n",
            "Ababa\n",
            "Abba\n",
            "Abbey\n",
            "Abbey Roads\n",
            "Abbie\n",
            "Abbot\n",
            "Abbott\n",
            "Abby\n",
            "Abbykitty\n",
            "Abcat\n",
            "Abdul\n",
            "Abe\n",
            "Abednego\n",
            "Abegale\n",
            "Abel\n",
            "Abelard\n",
            "Abendigo\n",
            "Abercrombie\n",
            "Aberdeen\n",
            "Abi\n",
            "Abigail\n",
            "Abigail Von Buttons\n",
            "Abilene\n",
            "Able\n",
            "Abner\n",
            "Abra\n",
            "Abra\n",
            "Abracadabra\n",
            "Abraham\n",
            "Abraxas\n",
            "Abrico\n",
            "Abs\n",
            "Absinthe\n",
            "Absolon\n",
            "Absolut\n",
            "Abstraction\n",
            "Abu\n",
            "Abubu\n",
            "Aby\n",
            "Abyss\n",
            "Acat\n",
            "Ace\n",
            "Ace Baby Toadflakes\n",
            "Ace Of Spades\n",
            "Acey\n",
            "Achille\n",
            "Achilles\n",
            "Acis\n",
            "Ackerly\n",
            "Acorn\n",
            "Acrolina\n",
            "Acroy\n",
            "Action\n",
            "Ada\n",
            "Ada Jane\n",
            "Adacat\n",
            "Adagio\n",
            "Adakin Skywalker\n",
            "Adam\n",
            "Adams\n",
            "Adcom\n",
            "Addie\n",
            "Addis\n",
            "Addison\n",
            "Addy\n",
            "Adelaida\n",
            "Adelaide\n",
            "Ademma\n",
            "Adidas\n",
            "Adirondak\n",
            "Adiza\n",
            "Adlai\n",
            "Adler\n",
            "Admetus\n",
            "Admiral\n",
            "Adobe\n",
            "Adolph\n",
            "Adom\n",
            "Adonis\n",
            "Adrian\n",
            "Adriatic\n",
            "Adrock\n",
            "Advance Cat\n",
            "Aegyptos\n",
            "Aelgifa\n",
            "Aelurus\n",
            "Aenias\n",
            "Aeolus\n",
            "Aerope\n",
            "Aeros\n",
            "Aesop\n",
            "Aethelwyn\n",
            "Aethra\n",
            "Affinity\n",
            "Afikoman\n",
            "Afonia\n",
            "Africa\n",
            "African Queen\n",
            "Afrikan\n",
            "Afrikat\n",
            "Agadore\n",
            "Agamemnon\n",
            "Agape\n",
            "Agassi\n",
            "Agatha\n",
            "Agatha Christie\n",
            "Agatha Christy\n",
            "Agent Z\n",
            "Aggedor\n",
            "Aggie\n",
            "Agility\n",
            "Agima\n",
            "Agitador\n",
            "Agrippina\n",
            "Agustus\n",
            "Ah Kinchil\n",
            "Ah Puch\n",
            "Ahab\n",
            "Ahau Chamahez\n",
            "Ahi\n",
            "Ahlia\n",
            "Ahmakiq\n",
            "Ahura Mazda\n",
            "Aida\n",
            "Aidan\n",
            "Aiiy\n"
          ]
        }
      ],
      "source": [
        "# let's look at the first 100 characters\n",
        "print(text[:1000])"
      ]
    },
    {
      "cell_type": "code",
      "execution_count": 8,
      "metadata": {
        "colab": {
          "base_uri": "https://localhost:8080/"
        },
        "id": "0e-Rbyr8sfM8",
        "outputId": "26ba6d9d-b14c-4255-9b06-8a664a8b8ec2"
      },
      "outputs": [
        {
          "name": "stdout",
          "output_type": "stream",
          "text": [
            "\n",
            " \"./1259?ABCDEFGHIJKLMNOPQRSTUVWXYZabcdefghijklmnopqrstuvwxyzâæèéñóö\n",
            "69\n"
          ]
        }
      ],
      "source": [
        "# here are all the unique characters that occur in this text\n",
        "chars = sorted(list(set(text)))\n",
        "vocab_size = len(chars)\n",
        "print(''.join(chars))\n",
        "print(vocab_size)"
      ]
    },
    {
      "cell_type": "code",
      "execution_count": 9,
      "metadata": {
        "colab": {
          "base_uri": "https://localhost:8080/"
        },
        "id": "Yw1LKNCgwjj1",
        "outputId": "d063472d-b9bf-461e-9e04-17ee0332d57b"
      },
      "outputs": [
        {
          "name": "stdout",
          "output_type": "stream",
          "text": [
            "[43, 44, 44, 1, 55, 43, 40, 53, 40]\n",
            "hii there\n"
          ]
        }
      ],
      "source": [
        "# create a mapping from characters to integers\n",
        "stoi = { ch:i for i,ch in enumerate(chars) }\n",
        "itos = { i:ch for i,ch in enumerate(chars) }\n",
        "encode = lambda s: [stoi[c] for c in s] # encoder: take a string, output a list of integers\n",
        "decode = lambda l: ''.join([itos[i] for i in l]) # decoder: take a list of integers, output a string\n",
        "\n",
        "print(encode(\"hii there\"))\n",
        "print(decode(encode(\"hii there\")))"
      ]
    },
    {
      "cell_type": "code",
      "execution_count": 10,
      "metadata": {
        "colab": {
          "base_uri": "https://localhost:8080/"
        },
        "id": "YJb0OXPwzvqg",
        "outputId": "2d7cf45f-b22d-4fa7-e043-3b7ec761b24d"
      },
      "outputs": [
        {
          "name": "stdout",
          "output_type": "stream",
          "text": [
            "torch.Size([91467]) torch.int64\n",
            "tensor([10, 36, 36, 53, 42, 43,  0, 10, 36, 47, 44, 60, 36, 43,  0, 10, 36, 53,\n",
            "        50, 49,  0, 10, 37,  0, 10, 37, 36, 37, 36,  0, 10, 37, 37, 36,  0, 10,\n",
            "        37, 37, 40, 60,  0, 10, 37, 37, 40, 60,  1, 27, 50, 36, 39, 54,  0, 10,\n",
            "        37, 37, 44, 40,  0, 10, 37, 37, 50, 55,  0, 10, 37, 37, 50, 55, 55,  0,\n",
            "        10, 37, 37, 60,  0, 10, 37, 37, 60, 46, 44, 55, 55, 60,  0, 10, 37, 38,\n",
            "        36, 55,  0, 10, 37, 39, 56, 47,  0, 10, 37, 40,  0, 10, 37, 40, 39, 49,\n",
            "        40, 42, 50,  0, 10, 37, 40, 42, 36, 47, 40,  0, 10, 37, 40, 47,  0, 10,\n",
            "        37, 40, 47, 36, 53, 39,  0, 10, 37, 40, 49, 39, 44, 42, 50,  0, 10, 37,\n",
            "        40, 53, 38, 53, 50, 48, 37, 44, 40,  0, 10, 37, 40, 53, 39, 40, 40, 49,\n",
            "         0, 10, 37, 44,  0, 10, 37, 44, 42, 36, 44, 47,  0, 10, 37, 44, 42, 36,\n",
            "        44, 47,  1, 31, 50, 49,  1, 11, 56, 55, 55, 50, 49, 54,  0, 10, 37, 44,\n",
            "        47, 40, 49, 40,  0, 10, 37, 47, 40,  0, 10, 37, 49, 40, 53,  0, 10, 37,\n",
            "        53, 36,  0, 10, 37, 53, 36,  0, 10, 37, 53, 36, 38, 36, 39, 36, 37, 53,\n",
            "        36,  0, 10, 37, 53, 36, 43, 36, 48,  0, 10, 37, 53, 36, 59, 36, 54,  0,\n",
            "        10, 37, 53, 44, 38, 50,  0, 10, 37, 54,  0, 10, 37, 54, 44, 49, 55, 43,\n",
            "        40,  0, 10, 37, 54, 50, 47, 50, 49,  0, 10, 37, 54, 50, 47, 56, 55,  0,\n",
            "        10, 37, 54, 55, 53, 36, 38, 55, 44, 50, 49,  0, 10, 37, 56,  0, 10, 37,\n",
            "        56, 37, 56,  0, 10, 37, 60,  0, 10, 37, 60, 54, 54,  0, 10, 38, 36, 55,\n",
            "         0, 10, 38, 40,  0, 10, 38, 40,  1, 11, 36, 37, 60,  1, 29, 50, 36, 39,\n",
            "        41, 47, 36, 46, 40, 54,  0, 10, 38, 40,  1, 24, 41,  1, 28, 51, 36, 39,\n",
            "        40, 54,  0, 10, 38, 40, 60,  0, 10, 38, 43, 44, 47, 47, 40,  0, 10, 38,\n",
            "        43, 44, 47, 47, 40, 54,  0, 10, 38, 44, 54,  0, 10, 38, 46, 40, 53, 47,\n",
            "        60,  0, 10, 38, 50, 53, 49,  0, 10, 38, 53, 50, 47, 44, 49, 36,  0, 10,\n",
            "        38, 53, 50, 60,  0, 10, 38, 55, 44, 50, 49,  0, 10, 39, 36,  0, 10, 39,\n",
            "        36,  1, 19, 36, 49, 40,  0, 10, 39, 36, 38, 36, 55,  0, 10, 39, 36, 42,\n",
            "        44, 50,  0, 10, 39, 36, 46, 44, 49,  1, 28, 46, 60, 58, 36, 47, 46, 40,\n",
            "        53,  0, 10, 39, 36, 48,  0, 10, 39, 36, 48, 54,  0, 10, 39, 38, 50, 48,\n",
            "         0, 10, 39, 39, 44, 40,  0, 10, 39, 39, 44, 54,  0, 10, 39, 39, 44, 54,\n",
            "        50, 49,  0, 10, 39, 39, 60,  0, 10, 39, 40, 47, 36, 44, 39, 36,  0, 10,\n",
            "        39, 40, 47, 36, 44, 39, 40,  0, 10, 39, 40, 48, 48, 36,  0, 10, 39, 44,\n",
            "        39, 36, 54,  0, 10, 39, 44, 53, 50, 49, 39, 36, 46,  0, 10, 39, 44, 61,\n",
            "        36,  0, 10, 39, 47, 36, 44,  0, 10, 39, 47, 40, 53,  0, 10, 39, 48, 40,\n",
            "        55, 56, 54,  0, 10, 39, 48, 44, 53, 36, 47,  0, 10, 39, 50, 37, 40,  0,\n",
            "        10, 39, 50, 47, 51, 43,  0, 10, 39, 50, 48,  0, 10, 39, 50, 49, 44, 54,\n",
            "         0, 10, 39, 53, 44, 36, 49,  0, 10, 39, 53, 44, 36, 55, 44, 38,  0, 10,\n",
            "        39, 53, 50, 38, 46,  0, 10, 39, 57, 36, 49, 38, 40,  1, 12, 36, 55,  0,\n",
            "        10, 40, 42, 60, 51, 55, 50, 54,  0, 10, 40, 47, 42, 44, 41, 36,  0, 10,\n",
            "        40, 47, 56, 53, 56, 54,  0, 10, 40, 49, 44, 36, 54,  0, 10, 40, 50, 47,\n",
            "        56, 54,  0, 10, 40, 53, 50, 51, 40,  0, 10, 40, 53, 50, 54,  0, 10, 40,\n",
            "        54, 50, 51,  0, 10, 40, 55, 43, 40, 47, 58, 60, 49,  0, 10, 40, 55, 43,\n",
            "        53, 36,  0, 10, 41, 41, 44, 49, 44, 55, 60,  0, 10, 41, 44, 46, 50, 48,\n",
            "        36, 49,  0, 10, 41, 50, 49, 44, 36,  0, 10, 41, 53, 44, 38, 36,  0, 10,\n",
            "        41, 53, 44, 38, 36, 49,  1, 26, 56, 40, 40, 49,  0, 10, 41, 53, 44, 46,\n",
            "        36, 49,  0, 10, 41, 53, 44, 46, 36, 55,  0, 10, 42, 36, 39, 50, 53, 40,\n",
            "         0, 10, 42, 36, 48, 40, 48, 49, 50, 49,  0, 10, 42, 36, 51, 40,  0, 10,\n",
            "        42, 36, 54, 54, 44,  0, 10, 42, 36, 55, 43, 36,  0, 10, 42, 36, 55, 43,\n",
            "        36,  1, 12, 43, 53, 44, 54, 55, 44, 40,  0, 10, 42, 36, 55, 43, 36,  1,\n",
            "        12, 43, 53, 44, 54, 55, 60,  0, 10, 42, 40, 49, 55,  1, 35,  0, 10, 42,\n",
            "        42, 40, 39, 50, 53,  0, 10, 42, 42, 44, 40,  0, 10, 42, 44, 47, 44, 55,\n",
            "        60,  0, 10, 42, 44, 48, 36,  0, 10, 42, 44, 55, 36, 39, 50, 53,  0, 10,\n",
            "        42, 53, 44, 51, 51, 44, 49, 36,  0, 10, 42, 56, 54, 55, 56, 54,  0, 10,\n",
            "        43,  1, 20, 44, 49, 38, 43, 44, 47,  0, 10, 43,  1, 25, 56, 38, 43,  0,\n",
            "        10, 43, 36, 37,  0, 10, 43, 36, 56,  1, 12, 43, 36, 48, 36, 43, 40, 61,\n",
            "         0, 10, 43, 44,  0, 10, 43, 47, 44, 36,  0, 10, 43, 48, 36, 46, 44, 52,\n",
            "         0, 10, 43, 56, 53, 36,  1, 22, 36, 61, 39, 36,  0, 10, 44, 39, 36,  0,\n",
            "        10, 44, 39, 36, 49,  0, 10, 44, 44, 60])\n"
          ]
        }
      ],
      "source": [
        "# let's now encode the entire text dataset and store it into a torch.Tensor\n",
        "import torch # we use PyTorch: https://pytorch.org\n",
        "data = torch.tensor(encode(text), dtype=torch.long)\n",
        "print(data.shape, data.dtype)\n",
        "print(data[:1000]) # the 1000 characters we looked at earlier looks like this to the GPT"
      ]
    },
    {
      "cell_type": "code",
      "execution_count": 11,
      "metadata": {
        "id": "f_WIXqxz0lU5"
      },
      "outputs": [],
      "source": [
        "# Let's now split up the data into train and validation sets\n",
        "n = int(0.9*len(data)) # first 90% will be train, rest val\n",
        "train_data = data[:n]\n",
        "val_data = data[n:]"
      ]
    },
    {
      "cell_type": "code",
      "execution_count": 12,
      "metadata": {
        "colab": {
          "base_uri": "https://localhost:8080/"
        },
        "id": "TD5Bj8Y6IAD4",
        "outputId": "87062c67-7a28-4f00-e943-7159a511548a"
      },
      "outputs": [
        {
          "data": {
            "text/plain": [
              "tensor([10, 36, 36, 53, 42, 43,  0, 10, 36])"
            ]
          },
          "execution_count": 12,
          "metadata": {},
          "output_type": "execute_result"
        }
      ],
      "source": [
        "block_size = 8\n",
        "train_data[:block_size+1]"
      ]
    },
    {
      "cell_type": "code",
      "execution_count": 13,
      "metadata": {
        "colab": {
          "base_uri": "https://localhost:8080/"
        },
        "id": "9HXDe8vGJCEn",
        "outputId": "50592e28-5282-4d37-abab-63ac0c2ca160"
      },
      "outputs": [
        {
          "name": "stdout",
          "output_type": "stream",
          "text": [
            "when input is tensor([10]) the target: 36\n",
            "when input is tensor([10, 36]) the target: 36\n",
            "when input is tensor([10, 36, 36]) the target: 53\n",
            "when input is tensor([10, 36, 36, 53]) the target: 42\n",
            "when input is tensor([10, 36, 36, 53, 42]) the target: 43\n",
            "when input is tensor([10, 36, 36, 53, 42, 43]) the target: 0\n",
            "when input is tensor([10, 36, 36, 53, 42, 43,  0]) the target: 10\n",
            "when input is tensor([10, 36, 36, 53, 42, 43,  0, 10]) the target: 36\n"
          ]
        }
      ],
      "source": [
        "x = train_data[:block_size]\n",
        "y = train_data[1:block_size+1]\n",
        "for t in range(block_size):\n",
        "    context = x[:t+1]\n",
        "    target = y[t]\n",
        "    print(f\"when input is {context} the target: {target}\")"
      ]
    },
    {
      "cell_type": "code",
      "execution_count": 14,
      "metadata": {
        "colab": {
          "base_uri": "https://localhost:8080/"
        },
        "id": "Q3k1Czf7LuA9",
        "outputId": "3f4a0063-afff-4743-c627-68de97f4d0be"
      },
      "outputs": [
        {
          "name": "stdout",
          "output_type": "stream",
          "text": [
            "inputs:\n",
            "torch.Size([4, 8])\n",
            "tensor([[44, 41, 41, 50, 53, 39,  0, 12],\n",
            "        [46, 40, 60,  0, 28, 51, 56, 49],\n",
            "        [47,  0, 29, 36, 61, 61, 44, 37],\n",
            "        [22, 44, 42, 56, 40, 47,  0, 22]])\n",
            "targets:\n",
            "torch.Size([4, 8])\n",
            "tensor([[41, 41, 50, 53, 39,  0, 12, 47],\n",
            "        [40, 60,  0, 28, 51, 56, 49, 46],\n",
            "        [ 0, 29, 36, 61, 61, 44, 37, 50],\n",
            "        [44, 42, 56, 40, 47,  0, 22, 44]])\n",
            "----\n",
            "when input is [44] the target: 41\n",
            "when input is [44, 41] the target: 41\n",
            "when input is [44, 41, 41] the target: 50\n",
            "when input is [44, 41, 41, 50] the target: 53\n",
            "when input is [44, 41, 41, 50, 53] the target: 39\n",
            "when input is [44, 41, 41, 50, 53, 39] the target: 0\n",
            "when input is [44, 41, 41, 50, 53, 39, 0] the target: 12\n",
            "when input is [44, 41, 41, 50, 53, 39, 0, 12] the target: 47\n",
            "when input is [46] the target: 40\n",
            "when input is [46, 40] the target: 60\n",
            "when input is [46, 40, 60] the target: 0\n",
            "when input is [46, 40, 60, 0] the target: 28\n",
            "when input is [46, 40, 60, 0, 28] the target: 51\n",
            "when input is [46, 40, 60, 0, 28, 51] the target: 56\n",
            "when input is [46, 40, 60, 0, 28, 51, 56] the target: 49\n",
            "when input is [46, 40, 60, 0, 28, 51, 56, 49] the target: 46\n",
            "when input is [47] the target: 0\n",
            "when input is [47, 0] the target: 29\n",
            "when input is [47, 0, 29] the target: 36\n",
            "when input is [47, 0, 29, 36] the target: 61\n",
            "when input is [47, 0, 29, 36, 61] the target: 61\n",
            "when input is [47, 0, 29, 36, 61, 61] the target: 44\n",
            "when input is [47, 0, 29, 36, 61, 61, 44] the target: 37\n",
            "when input is [47, 0, 29, 36, 61, 61, 44, 37] the target: 50\n",
            "when input is [22] the target: 44\n",
            "when input is [22, 44] the target: 42\n",
            "when input is [22, 44, 42] the target: 56\n",
            "when input is [22, 44, 42, 56] the target: 40\n",
            "when input is [22, 44, 42, 56, 40] the target: 47\n",
            "when input is [22, 44, 42, 56, 40, 47] the target: 0\n",
            "when input is [22, 44, 42, 56, 40, 47, 0] the target: 22\n",
            "when input is [22, 44, 42, 56, 40, 47, 0, 22] the target: 44\n"
          ]
        }
      ],
      "source": [
        "torch.manual_seed(1337)\n",
        "batch_size = 4 # how many independent sequences will we process in parallel?\n",
        "block_size = 8 # what is the maximum context length for predictions?\n",
        "\n",
        "def get_batch(split):\n",
        "    # generate a small batch of data of inputs x and targets y\n",
        "    data = train_data if split == 'train' else val_data\n",
        "    ix = torch.randint(len(data) - block_size, (batch_size,))\n",
        "    x = torch.stack([data[i:i+block_size] for i in ix])\n",
        "    y = torch.stack([data[i+1:i+block_size+1] for i in ix])\n",
        "    return x, y\n",
        "\n",
        "xb, yb = get_batch('train')\n",
        "print('inputs:')\n",
        "print(xb.shape)\n",
        "print(xb)\n",
        "print('targets:')\n",
        "print(yb.shape)\n",
        "print(yb)\n",
        "\n",
        "print('----')\n",
        "\n",
        "for b in range(batch_size): # batch dimension\n",
        "    for t in range(block_size): # time dimension\n",
        "        context = xb[b, :t+1]\n",
        "        target = yb[b,t]\n",
        "        print(f\"when input is {context.tolist()} the target: {target}\")"
      ]
    },
    {
      "cell_type": "code",
      "execution_count": 15,
      "metadata": {
        "colab": {
          "base_uri": "https://localhost:8080/"
        },
        "id": "qpyyAeIzQjlO",
        "outputId": "1e36ce5b-8b60-4398-834a-8d448b2ea859"
      },
      "outputs": [
        {
          "name": "stdout",
          "output_type": "stream",
          "text": [
            "tensor([[44, 41, 41, 50, 53, 39,  0, 12],\n",
            "        [46, 40, 60,  0, 28, 51, 56, 49],\n",
            "        [47,  0, 29, 36, 61, 61, 44, 37],\n",
            "        [22, 44, 42, 56, 40, 47,  0, 22]])\n"
          ]
        }
      ],
      "source": [
        "print(xb) # our input to the transformer"
      ]
    },
    {
      "cell_type": "code",
      "execution_count": 16,
      "metadata": {
        "colab": {
          "base_uri": "https://localhost:8080/"
        },
        "id": "nql_1ER53oCf",
        "outputId": "f812f0a7-202c-4c7b-afa3-80b76a1fab40"
      },
      "outputs": [
        {
          "name": "stdout",
          "output_type": "stream",
          "text": [
            "torch.Size([32, 69])\n",
            "tensor(4.3710, grad_fn=<NllLossBackward0>)\n",
            "\n",
            "sYXâMB\n",
            "/lVtH\n",
            "rpâèöFOmKQFym1d51öæHööEiYufC9LâvjQSâtwy yuâMózaNfCDaIXXh9eHViRqueBAQ yrGDjnfOn1hIOYbAée\n"
          ]
        }
      ],
      "source": [
        "import torch\n",
        "import torch.nn as nn\n",
        "from torch.nn import functional as F\n",
        "torch.manual_seed(1337)\n",
        "\n",
        "class BigramLanguageModel(nn.Module):\n",
        "\n",
        "    def __init__(self, vocab_size):\n",
        "        super().__init__()\n",
        "        # each token directly reads off the logits for the next token from a lookup table\n",
        "        self.token_embedding_table = nn.Embedding(vocab_size, vocab_size)\n",
        "\n",
        "    def forward(self, idx, targets=None):\n",
        "\n",
        "        # idx and targets are both (B,T) tensor of integers\n",
        "        logits = self.token_embedding_table(idx) # (B,T,C)\n",
        "\n",
        "        if targets is None:\n",
        "            loss = None\n",
        "        else:\n",
        "            B, T, C = logits.shape\n",
        "            logits = logits.view(B*T, C)\n",
        "            targets = targets.view(B*T)\n",
        "            loss = F.cross_entropy(logits, targets)\n",
        "\n",
        "        return logits, loss\n",
        "\n",
        "    def generate(self, idx, max_new_tokens):\n",
        "        # idx is (B, T) array of indices in the current context\n",
        "        for _ in range(max_new_tokens):\n",
        "            # get the predictions\n",
        "            logits, loss = self(idx)\n",
        "            # focus only on the last time step\n",
        "            logits = logits[:, -1, :] # becomes (B, C)\n",
        "            # apply softmax to get probabilities\n",
        "            probs = F.softmax(logits, dim=-1) # (B, C)\n",
        "            # sample from the distribution\n",
        "            idx_next = torch.multinomial(probs, num_samples=1) # (B, 1)\n",
        "            # append sampled index to the running sequence\n",
        "            idx = torch.cat((idx, idx_next), dim=1) # (B, T+1)\n",
        "        return idx\n",
        "\n",
        "m = BigramLanguageModel(vocab_size)\n",
        "logits, loss = m(xb, yb)\n",
        "print(logits.shape)\n",
        "print(loss)\n",
        "\n",
        "print(decode(m.generate(idx = torch.zeros((1, 1), dtype=torch.long), max_new_tokens=100)[0].tolist()))\n"
      ]
    },
    {
      "cell_type": "code",
      "execution_count": 17,
      "metadata": {
        "id": "eTyJ8qAaDdiF"
      },
      "outputs": [],
      "source": [
        "# create a PyTorch optimizer\n",
        "optimizer = torch.optim.AdamW(m.parameters(), lr=1e-3)"
      ]
    },
    {
      "cell_type": "code",
      "execution_count": 18,
      "metadata": {
        "colab": {
          "base_uri": "https://localhost:8080/"
        },
        "id": "Hs4kI8YdEkQj",
        "outputId": "351594c7-dde5-4ebe-e17c-7a89c692fca4"
      },
      "outputs": [
        {
          "name": "stdout",
          "output_type": "stream",
          "text": [
            "4.607487201690674\n"
          ]
        }
      ],
      "source": [
        "batch_size = 32\n",
        "for steps in range(100): # increase number of steps for good results...\n",
        "\n",
        "    # sample a batch of data\n",
        "    xb, yb = get_batch('train')\n",
        "\n",
        "    # evaluate the loss\n",
        "    logits, loss = m(xb, yb)\n",
        "    optimizer.zero_grad(set_to_none=True)\n",
        "    loss.backward()\n",
        "    optimizer.step()\n",
        "\n",
        "print(loss.item())\n"
      ]
    },
    {
      "cell_type": "code",
      "execution_count": 19,
      "metadata": {
        "colab": {
          "base_uri": "https://localhost:8080/"
        },
        "id": "EcVIDWAZEtjN",
        "outputId": "a2bcf17b-347d-45f3-ecf5-d8e8baf5d48f"
      },
      "outputs": [
        {
          "name": "stdout",
          "output_type": "stream",
          "text": [
            "\n",
            "FhYffarpbhf\"OVq ?\"rP/LfOz1M\"èWEDIgGvVNo5èLp\"pBOInFgg ètPFEQSvFPsDJöEAarp1smMiijIOzlxFy2tgvZ?slp?9VFmkEQWoSJwsñbRkñ 9Sñ5prCgHqL\n",
            "MfaâeKjdc1MVWYbhvóxâe9VIbóéng WpRk.mPDjcyCw5höARy  Duf.qAggmñX9IhAhâyty cHo5\n",
            "DzKBNoarg\n",
            "él1rSñeEèslSo\n",
            "âdEONmfilkèöBNni HñYRHMy2JrzaâeæCFnsIfzIJzhNzGfvDz5Kaæj1URYRiZèâyVRKTmscDöN\"5EWpanboæ/DVWuwr pHm\n",
            "J?SñbaGcDv\n",
            "Msy.qæWf\"pxbLTMæPF?iixARYROiyPXX9w5nBUN2âex?c2AOyâæödamPA?UVñwdiXTsiQnbKU\n",
            "érOX9âe5n Bk9wjtHWCwéCeDCZ/WuIfzCe9VZñ/Y EvöByyNIé/\n",
            "oPâköbTöNm\"lewjAOQxjC9ö5Ux?blOH\n",
            "zIaréC\n"
          ]
        }
      ],
      "source": [
        "print(decode(m.generate(idx = torch.zeros((1, 1), dtype=torch.long), max_new_tokens=500)[0].tolist()))"
      ]
    },
    {
      "cell_type": "markdown",
      "metadata": {
        "id": "XinV8nmAnmKN"
      },
      "source": [
        "## The mathematical trick in self-attention"
      ]
    },
    {
      "cell_type": "code",
      "execution_count": 20,
      "metadata": {
        "colab": {
          "base_uri": "https://localhost:8080/"
        },
        "id": "tukiH-NbRBhA",
        "outputId": "5a2c6a94-79e9-42da-a51e-dd65bedded25"
      },
      "outputs": [
        {
          "name": "stdout",
          "output_type": "stream",
          "text": [
            "a=\n",
            "tensor([[1.0000, 0.0000, 0.0000],\n",
            "        [0.5000, 0.5000, 0.0000],\n",
            "        [0.3333, 0.3333, 0.3333]])\n",
            "--\n",
            "b=\n",
            "tensor([[2., 7.],\n",
            "        [6., 4.],\n",
            "        [6., 5.]])\n",
            "--\n",
            "c=\n",
            "tensor([[2.0000, 7.0000],\n",
            "        [4.0000, 5.5000],\n",
            "        [4.6667, 5.3333]])\n"
          ]
        }
      ],
      "source": [
        "# toy example illustrating how matrix multiplication can be used for a \"weighted aggregation\"\n",
        "torch.manual_seed(42)\n",
        "a = torch.tril(torch.ones(3, 3))\n",
        "a = a / torch.sum(a, 1, keepdim=True)\n",
        "b = torch.randint(0,10,(3,2)).float()\n",
        "c = a @ b\n",
        "print('a=')\n",
        "print(a)\n",
        "print('--')\n",
        "print('b=')\n",
        "print(b)\n",
        "print('--')\n",
        "print('c=')\n",
        "print(c)"
      ]
    },
    {
      "cell_type": "code",
      "execution_count": 21,
      "metadata": {
        "colab": {
          "base_uri": "https://localhost:8080/"
        },
        "id": "Hs_E24uRE8kr",
        "outputId": "26496753-8118-42c5-9312-d4ed13abe26f"
      },
      "outputs": [
        {
          "data": {
            "text/plain": [
              "torch.Size([4, 8, 2])"
            ]
          },
          "execution_count": 21,
          "metadata": {},
          "output_type": "execute_result"
        }
      ],
      "source": [
        "# consider the following toy example:\n",
        "\n",
        "torch.manual_seed(1337)\n",
        "B,T,C = 4,8,2 # batch, time, channels\n",
        "x = torch.randn(B,T,C)\n",
        "x.shape"
      ]
    },
    {
      "cell_type": "code",
      "execution_count": 22,
      "metadata": {
        "id": "86NuXX0fn7ps"
      },
      "outputs": [],
      "source": [
        "# We want x[b,t] = mean_{i<=t} x[b,i]\n",
        "xbow = torch.zeros((B,T,C))\n",
        "for b in range(B):\n",
        "    for t in range(T):\n",
        "        xprev = x[b,:t+1] # (t,C)\n",
        "        xbow[b,t] = torch.mean(xprev, 0)\n"
      ]
    },
    {
      "cell_type": "code",
      "execution_count": 23,
      "metadata": {
        "colab": {
          "base_uri": "https://localhost:8080/"
        },
        "id": "yhdOAd6-wXkZ",
        "outputId": "72e89f2b-fb55-415c-b99d-28ff97e01cff"
      },
      "outputs": [
        {
          "data": {
            "text/plain": [
              "False"
            ]
          },
          "execution_count": 23,
          "metadata": {},
          "output_type": "execute_result"
        }
      ],
      "source": [
        "# version 2: using matrix multiply for a weighted aggregation\n",
        "wei = torch.tril(torch.ones(T, T))\n",
        "wei = wei / wei.sum(1, keepdim=True)\n",
        "xbow2 = wei @ x # (B, T, T) @ (B, T, C) ----> (B, T, C)\n",
        "torch.allclose(xbow, xbow2)"
      ]
    },
    {
      "cell_type": "code",
      "execution_count": 24,
      "metadata": {
        "colab": {
          "base_uri": "https://localhost:8080/"
        },
        "id": "wOURrfG-ysoL",
        "outputId": "8b4fb396-5dbb-4ced-a651-c2bb739e7c10"
      },
      "outputs": [
        {
          "data": {
            "text/plain": [
              "False"
            ]
          },
          "execution_count": 24,
          "metadata": {},
          "output_type": "execute_result"
        }
      ],
      "source": [
        "# version 3: use Softmax\n",
        "tril = torch.tril(torch.ones(T, T))\n",
        "wei = torch.zeros((T,T))\n",
        "wei = wei.masked_fill(tril == 0, float('-inf'))\n",
        "wei = F.softmax(wei, dim=-1)\n",
        "xbow3 = wei @ x\n",
        "torch.allclose(xbow, xbow3)\n"
      ]
    },
    {
      "cell_type": "code",
      "execution_count": 25,
      "metadata": {
        "colab": {
          "base_uri": "https://localhost:8080/"
        },
        "id": "EDarxEWIRMKq",
        "outputId": "3e06425a-a8ff-463e-8996-3bf047a5303a"
      },
      "outputs": [
        {
          "data": {
            "text/plain": [
              "torch.Size([4, 8, 16])"
            ]
          },
          "execution_count": 25,
          "metadata": {},
          "output_type": "execute_result"
        }
      ],
      "source": [
        "# version 4: self-attention!\n",
        "torch.manual_seed(1337)\n",
        "B,T,C = 4,8,32 # batch, time, channels\n",
        "x = torch.randn(B,T,C)\n",
        "\n",
        "# let's see a single Head perform self-attention\n",
        "head_size = 16\n",
        "key = nn.Linear(C, head_size, bias=False)\n",
        "query = nn.Linear(C, head_size, bias=False)\n",
        "value = nn.Linear(C, head_size, bias=False)\n",
        "k = key(x)   # (B, T, 16)\n",
        "q = query(x) # (B, T, 16)\n",
        "wei =  q @ k.transpose(-2, -1) # (B, T, 16) @ (B, 16, T) ---> (B, T, T)\n",
        "\n",
        "tril = torch.tril(torch.ones(T, T))\n",
        "#wei = torch.zeros((T,T))\n",
        "wei = wei.masked_fill(tril == 0, float('-inf'))\n",
        "wei = F.softmax(wei, dim=-1)\n",
        "\n",
        "v = value(x)\n",
        "out = wei @ v\n",
        "#out = wei @ x\n",
        "\n",
        "out.shape"
      ]
    },
    {
      "cell_type": "code",
      "execution_count": 26,
      "metadata": {
        "colab": {
          "base_uri": "https://localhost:8080/"
        },
        "id": "vT1hdtzXCjgL",
        "outputId": "16ffeed0-9e08-479e-f99c-35cf78f8626d"
      },
      "outputs": [
        {
          "data": {
            "text/plain": [
              "tensor([[1.0000, 0.0000, 0.0000, 0.0000, 0.0000, 0.0000, 0.0000, 0.0000],\n",
              "        [0.1574, 0.8426, 0.0000, 0.0000, 0.0000, 0.0000, 0.0000, 0.0000],\n",
              "        [0.2088, 0.1646, 0.6266, 0.0000, 0.0000, 0.0000, 0.0000, 0.0000],\n",
              "        [0.5792, 0.1187, 0.1889, 0.1131, 0.0000, 0.0000, 0.0000, 0.0000],\n",
              "        [0.0294, 0.1052, 0.0469, 0.0276, 0.7909, 0.0000, 0.0000, 0.0000],\n",
              "        [0.0176, 0.2689, 0.0215, 0.0089, 0.6812, 0.0019, 0.0000, 0.0000],\n",
              "        [0.1691, 0.4066, 0.0438, 0.0416, 0.1048, 0.2012, 0.0329, 0.0000],\n",
              "        [0.0210, 0.0843, 0.0555, 0.2297, 0.0573, 0.0709, 0.2423, 0.2391]],\n",
              "       grad_fn=<SelectBackward0>)"
            ]
          },
          "execution_count": 26,
          "metadata": {},
          "output_type": "execute_result"
        }
      ],
      "source": [
        "wei[0]"
      ]
    },
    {
      "cell_type": "markdown",
      "metadata": {
        "id": "M5CvobiQ0pLr"
      },
      "source": [
        "Notes:\n",
        "- Attention is a **communication mechanism**. Can be seen as nodes in a directed graph looking at each other and aggregating information with a weighted sum from all nodes that point to them, with data-dependent weights.\n",
        "- There is no notion of space. Attention simply acts over a set of vectors. This is why we need to positionally encode tokens.\n",
        "- Each example across batch dimension is of course processed completely independently and never \"talk\" to each other\n",
        "- In an \"encoder\" attention block just delete the single line that does masking with `tril`, allowing all tokens to communicate. This block here is called a \"decoder\" attention block because it has triangular masking, and is usually used in autoregressive settings, like language modeling.\n",
        "- \"self-attention\" just means that the keys and values are produced from the same source as queries. In \"cross-attention\", the queries still get produced from x, but the keys and values come from some other, external source (e.g. an encoder module)\n",
        "- \"Scaled\" attention additional divides `wei` by 1/sqrt(head_size). This makes it so when input Q,K are unit variance, wei will be unit variance too and Softmax will stay diffuse and not saturate too much. Illustration below"
      ]
    },
    {
      "cell_type": "code",
      "execution_count": 27,
      "metadata": {
        "id": "4SNbLq5z3oBw"
      },
      "outputs": [],
      "source": [
        "k = torch.randn(B,T,head_size)\n",
        "q = torch.randn(B,T,head_size)\n",
        "wei = q @ k.transpose(-2, -1) * head_size**-0.5"
      ]
    },
    {
      "cell_type": "code",
      "execution_count": 28,
      "metadata": {
        "colab": {
          "base_uri": "https://localhost:8080/"
        },
        "id": "Nl6I9n9IRTSo",
        "outputId": "c2d4c795-f9c1-4247-ab78-1b45c126decd"
      },
      "outputs": [
        {
          "data": {
            "text/plain": [
              "tensor(1.0449)"
            ]
          },
          "execution_count": 28,
          "metadata": {},
          "output_type": "execute_result"
        }
      ],
      "source": [
        "k.var()"
      ]
    },
    {
      "cell_type": "code",
      "execution_count": 29,
      "metadata": {
        "colab": {
          "base_uri": "https://localhost:8080/"
        },
        "id": "T1tQx7oeRvtc",
        "outputId": "dbc63ef8-767c-4861-c730-8938c47b946d"
      },
      "outputs": [
        {
          "data": {
            "text/plain": [
              "tensor(1.0700)"
            ]
          },
          "execution_count": 29,
          "metadata": {},
          "output_type": "execute_result"
        }
      ],
      "source": [
        "q.var()"
      ]
    },
    {
      "cell_type": "code",
      "execution_count": 30,
      "metadata": {
        "colab": {
          "base_uri": "https://localhost:8080/"
        },
        "id": "MLb_odHU3iKM",
        "outputId": "256e5179-d099-4c4c-b165-af4837bf0121"
      },
      "outputs": [
        {
          "data": {
            "text/plain": [
              "tensor(1.0918)"
            ]
          },
          "execution_count": 30,
          "metadata": {},
          "output_type": "execute_result"
        }
      ],
      "source": [
        "wei.var()"
      ]
    },
    {
      "cell_type": "code",
      "execution_count": 31,
      "metadata": {
        "colab": {
          "base_uri": "https://localhost:8080/"
        },
        "id": "JB82yzt44REI",
        "outputId": "fcebac5a-c3bc-4ed4-e2fb-8bff040566cf"
      },
      "outputs": [
        {
          "data": {
            "text/plain": [
              "tensor([0.1925, 0.1426, 0.2351, 0.1426, 0.2872])"
            ]
          },
          "execution_count": 31,
          "metadata": {},
          "output_type": "execute_result"
        }
      ],
      "source": [
        "torch.softmax(torch.tensor([0.1, -0.2, 0.3, -0.2, 0.5]), dim=-1)"
      ]
    },
    {
      "cell_type": "code",
      "execution_count": 32,
      "metadata": {
        "colab": {
          "base_uri": "https://localhost:8080/"
        },
        "id": "Mpt8569BB9_f",
        "outputId": "b57fc51c-cd3f-4f4a-81a4-c4abce026f4f"
      },
      "outputs": [
        {
          "data": {
            "text/plain": [
              "tensor([0.0326, 0.0030, 0.1615, 0.0030, 0.8000])"
            ]
          },
          "execution_count": 32,
          "metadata": {},
          "output_type": "execute_result"
        }
      ],
      "source": [
        "torch.softmax(torch.tensor([0.1, -0.2, 0.3, -0.2, 0.5])*8, dim=-1) # gets too peaky, converges to one-hot"
      ]
    },
    {
      "cell_type": "code",
      "execution_count": 33,
      "metadata": {
        "colab": {
          "base_uri": "https://localhost:8080/"
        },
        "id": "2Num7sX9CKOH",
        "outputId": "2ce7610e-51c1-4498-eddd-8a63b0f7236a"
      },
      "outputs": [
        {
          "data": {
            "text/plain": [
              "torch.Size([32, 100])"
            ]
          },
          "execution_count": 33,
          "metadata": {},
          "output_type": "execute_result"
        }
      ],
      "source": [
        "class LayerNorm1d: # (used to be BatchNorm1d)\n",
        "\n",
        "  def __init__(self, dim, eps=1e-5, momentum=0.1):\n",
        "    self.eps = eps\n",
        "    self.gamma = torch.ones(dim)\n",
        "    self.beta = torch.zeros(dim)\n",
        "\n",
        "  def __call__(self, x):\n",
        "    # calculate the forward pass\n",
        "    xmean = x.mean(1, keepdim=True) # batch mean\n",
        "    xvar = x.var(1, keepdim=True) # batch variance\n",
        "    xhat = (x - xmean) / torch.sqrt(xvar + self.eps) # normalize to unit variance\n",
        "    self.out = self.gamma * xhat + self.beta\n",
        "    return self.out\n",
        "\n",
        "  def parameters(self):\n",
        "    return [self.gamma, self.beta]\n",
        "\n",
        "torch.manual_seed(1337)\n",
        "module = LayerNorm1d(100)\n",
        "x = torch.randn(32, 100) # batch size 32 of 100-dimensional vectors\n",
        "x = module(x)\n",
        "x.shape"
      ]
    },
    {
      "cell_type": "code",
      "execution_count": 34,
      "metadata": {
        "colab": {
          "base_uri": "https://localhost:8080/"
        },
        "id": "633T2cmnW1uk",
        "outputId": "42ea27d5-1ddc-49dd-b2b9-9b5b0d96b266"
      },
      "outputs": [
        {
          "data": {
            "text/plain": [
              "(tensor(0.1469), tensor(0.8803))"
            ]
          },
          "execution_count": 34,
          "metadata": {},
          "output_type": "execute_result"
        }
      ],
      "source": [
        "x[:,0].mean(), x[:,0].std() # mean,std of one feature across all batch inputs"
      ]
    },
    {
      "cell_type": "code",
      "execution_count": 35,
      "metadata": {
        "colab": {
          "base_uri": "https://localhost:8080/"
        },
        "id": "LN9cK9BoXCYb",
        "outputId": "d885606c-5bcd-4ed2-e512-b99527628e14"
      },
      "outputs": [
        {
          "data": {
            "text/plain": [
              "(tensor(-9.5367e-09), tensor(1.0000))"
            ]
          },
          "execution_count": 35,
          "metadata": {},
          "output_type": "execute_result"
        }
      ],
      "source": [
        "x[0,:].mean(), x[0,:].std() # mean,std of a single input from the batch, of its features"
      ]
    },
    {
      "cell_type": "code",
      "execution_count": 36,
      "metadata": {
        "id": "dRJH6wM_XFfU"
      },
      "outputs": [],
      "source": [
        "# French to English translation example:\n",
        "\n",
        "# <--------- ENCODE ------------------><--------------- DECODE ----------------->\n",
        "# les réseaux de neurones sont géniaux! <START> neural networks are awesome!<END>\n",
        "\n"
      ]
    },
    {
      "cell_type": "markdown",
      "metadata": {
        "id": "ZcvKeBXoZFOY"
      },
      "source": [
        "### Full finished code, for reference\n",
        "\n",
        "You may want to refer directly to the git repo instead though."
      ]
    },
    {
      "cell_type": "code",
      "execution_count": 37,
      "metadata": {
        "colab": {
          "base_uri": "https://localhost:8080/"
        },
        "id": "hoelkOrFY8bN",
        "outputId": "af12417f-33a1-45a8-c0cc-1eb786682684"
      },
      "outputs": [
        {
          "name": "stdout",
          "output_type": "stream",
          "text": [
            "0.210245 M parameters\n",
            "step 0: train loss 4.4752, val loss 4.5091\n",
            "step 100: train loss 2.7285, val loss 3.0275\n",
            "step 200: train loss 2.4244, val loss 2.9640\n",
            "step 300: train loss 2.1988, val loss 2.7166\n",
            "step 400: train loss 2.0496, val loss 2.5910\n",
            "step 500: train loss 1.9460, val loss 2.5116\n",
            "step 600: train loss 1.8488, val loss 2.3321\n",
            "step 700: train loss 1.8193, val loss 2.3662\n",
            "step 800: train loss 1.7796, val loss 2.3224\n",
            "step 900: train loss 1.7333, val loss 2.2716\n",
            "step 1000: train loss 1.7156, val loss 2.2925\n",
            "step 1100: train loss 1.7065, val loss 2.2898\n",
            "step 1200: train loss 1.6877, val loss 2.2676\n",
            "step 1300: train loss 1.6722, val loss 2.2793\n",
            "step 1400: train loss 1.6740, val loss 2.2517\n",
            "step 1500: train loss 1.6477, val loss 2.2418\n",
            "step 1600: train loss 1.6317, val loss 2.2546\n",
            "step 1700: train loss 1.6135, val loss 2.2468\n",
            "step 1800: train loss 1.6153, val loss 2.2527\n",
            "step 1900: train loss 1.6082, val loss 2.2195\n",
            "step 2000: train loss 1.5958, val loss 2.2886\n",
            "step 2100: train loss 1.5916, val loss 2.2705\n",
            "step 2200: train loss 1.5695, val loss 2.2259\n",
            "step 2300: train loss 1.5704, val loss 2.2299\n",
            "step 2400: train loss 1.5632, val loss 2.2291\n",
            "step 2500: train loss 1.5458, val loss 2.2323\n",
            "step 2600: train loss 1.5431, val loss 2.2151\n",
            "step 2700: train loss 1.5297, val loss 2.2162\n",
            "step 2800: train loss 1.5275, val loss 2.2302\n",
            "step 2900: train loss 1.5303, val loss 2.1979\n",
            "step 3000: train loss 1.5042, val loss 2.1980\n",
            "step 3100: train loss 1.5097, val loss 2.2341\n",
            "step 3200: train loss 1.5102, val loss 2.1715\n",
            "step 3300: train loss 1.5031, val loss 2.1621\n",
            "step 3400: train loss 1.4961, val loss 2.1851\n",
            "step 3500: train loss 1.4826, val loss 2.2145\n",
            "step 3600: train loss 1.4838, val loss 2.1991\n",
            "step 3700: train loss 1.4731, val loss 2.1941\n",
            "step 3800: train loss 1.4668, val loss 2.2281\n",
            "step 3900: train loss 1.4775, val loss 2.2452\n",
            "step 4000: train loss 1.4515, val loss 2.2564\n",
            "step 4100: train loss 1.4537, val loss 2.2557\n",
            "step 4200: train loss 1.4417, val loss 2.2200\n",
            "step 4300: train loss 1.4362, val loss 2.2135\n",
            "step 4400: train loss 1.4319, val loss 2.2379\n",
            "step 4500: train loss 1.4265, val loss 2.2114\n",
            "step 4600: train loss 1.4100, val loss 2.2217\n",
            "step 4700: train loss 1.4062, val loss 2.1906\n",
            "step 4800: train loss 1.4100, val loss 2.2311\n",
            "step 4900: train loss 1.4037, val loss 2.2119\n",
            "step 4999: train loss 1.3964, val loss 2.2157\n",
            "\n",
            "Puo\n",
            "Pupa\n",
            "Purelitcat\n",
            "Purelickice\n",
            "Pureyn\n",
            "Purfush\n",
            "Purfee\n",
            "Purrfunter\n",
            "Purts Pushersher\n",
            "Purtanchicho\n",
            "Pusdie\n",
            "Pusha\n",
            "Pushy\n",
            "Pushockin\n",
            "Pusi\n",
            "Pusichoéan\n",
            "Pusifie\n",
            "Pusio\n",
            "Pusko\n",
            "Pusko\n",
            "Pusko\n",
            "Pusso\n",
            "Pussono\n",
            "Pussomion\n",
            "Pusso\n",
            "Pustacu\n",
            "Putolion\n",
            "Putone\n",
            "Putsy\n",
            "Putter\n",
            "Putsium\n",
            "Putzionafa\n",
            "Putzie\n",
            "Putzo\n",
            "Puzer Paie\n",
            "Pyrine\n",
            "Pyab\n",
            "Pysello\n",
            "Pubia\n",
            "Pydrus\n",
            "Pudwat\n",
            "Mydny\n",
            "Pudd Mutchk\n",
            "Myerey\n",
            "Mydore\n",
            "Mydor\n",
            "Myngort\n",
            "Myntule\n",
            "Myrorne\n",
            "Myrellie\n",
            "Myren\n",
            "Myriels\n",
            "Myrus\n",
            "Mys\n",
            "Myster\n",
            "Mystig\n",
            "Mystoo\n",
            "Mystor\n",
            "Mytton\n",
            "Mytone\n",
            "Mytavin\n",
            "Myta\n",
            "Mytch\n",
            "Mycare\n",
            "Cythouth\n",
            "Mythery\n",
            "Mythace\n",
            "Mytruct\n",
            "Myt\n",
            "Mywie\n",
            "Myx\n",
            "Mytingie\n",
            "Myla\n",
            "Myonz\n",
            "Myore\n",
            "Myra\n",
            "Mypedter\n",
            "Myx\n",
            "Mytoford\n",
            "Mytor\n",
            "Myton\n",
            "Myton\n",
            "Myton\n",
            "Mytoo\n",
            "Mytorn\n",
            "Mytonie\n",
            "Myton\n",
            "Myt\n",
            "Mytters\n",
            "Myter\n",
            "Mytres\n",
            "Myta\n",
            "Mytie\n",
            "Mytie Mahoo\n",
            "Myti\n",
            "Myts\n",
            "Mytov\n",
            "Mytto\n",
            "Myrrow\n",
            "Myro\n",
            "Myroe\n",
            "Meazer\n",
            "Mackold\n",
            "Mecas\n",
            "Mectrus\n",
            "Mechar\n",
            "Mectie\n",
            "Mecti\n",
            "Mecuy\n",
            "Mecule\n",
            "MecE\n",
            "Mecaden\n",
            "Meca\n",
            "Mecaria\n",
            "Meceno\n",
            "Mecil\n",
            "Mecilie\n",
            "Mecilie\n",
            "Mecila\n",
            "Mecilia\n",
            "Mecilie Paper\n",
            "Mecil\n",
            "Mecia\n",
            "Mecil\n",
            "Mecior\n",
            "Meccole\n",
            "Mecoo\n",
            "Mecroid\n",
            "Mecrom\n",
            "Mecroo\n",
            "Mectrag\n",
            "Mecura\n",
            "Mecu\n",
            "Mecy\n",
            "Mecua\n",
            "Mecy\n",
            "Mecu\n",
            "Mecace\n",
            "Mecirio\n",
            "Mecat\n",
            "Mecech\n",
            "Mechie\n",
            "Mechibite\n",
            "Mechie Bae\n",
            "Mechie Yondawnay\n",
            "Mecken\n",
            "Mechie\n",
            "Mecit\n",
            "Mecriua\n",
            "Mecter\n",
            "Mectie\n",
            "Mecula\n",
            "Mecumbile\n",
            "Mecculow\n",
            "Mectrock\n",
            "Medroukes\n",
            "Meecu\n",
            "Meekumis\n",
            "Meekwing\n",
            "Meekank\n",
            "Meekybosebobrokes\n",
            "Meeky\n",
            "Meeky BoeIMar\n",
            "Meeky\n",
            "Meeky Maoo\n",
            "Meeky\n",
            "Meekoow\n",
            "Meekooo\n",
            "Meesoo\n",
            "Meescoo Citty\n",
            "Meessie\n",
            "Meesmo\n",
            "Meetzi\n",
            "Meerzle\n",
            "Meerzubuze\n",
            "Mekel\n",
            "Mekeetzer\n",
            "Meki\n",
            "Mekikkiwe\n",
            "Meki\n",
            "Mekoity\n",
            "Mekomah\n",
            "Mekumbie\n",
            "Meko\n",
            "Mekpeco\n",
            "Mekoate\n",
            "Mekubaxtell\n",
            "Mekumat\n",
            "Melles\n",
            "Mellesy Maru\n",
            "Melton\n",
            "Melue\n",
            "Melue\n",
            "Melue\n",
            "Melue\n",
            "Melue Moouichop\n",
            "Meluene\n",
            "Melweesketer\n",
            "Melveigh\n",
            "Melvie\n",
            "Melvington\n",
            "Melwis\n",
            "Mem Nice\n",
            "Memet\n",
            "Memeten\n",
            "Men\n",
            "Menchela\n",
            "Menchal\n",
            "Menchi\n",
            "Menchie\n",
            "Menchilluy\n",
            "Menchy\n",
            "Menchy\n",
            "Menda\n",
            "Mendie\n",
            "Mene\n",
            "Mene\n",
            "Mier\n",
            "Meows\n",
            "Meowsh\n",
            "Lepwaire\n",
            "Lepetet\n",
            "Lerewook\n",
            "Lesa\n",
            "Lesai\n",
            "Lesabelut\n",
            "Lesas\n",
            "Lesatoph\n",
            "Letatoo\n",
            "Letatoph\n",
            "Letsie\n",
            "Letty\n",
            "Lettant\n",
            "Lettunkg\n",
            "Lettink\n",
            "Lettonkie\n",
            "Letty\n",
            "Letty\n",
            "Micwoo\n",
            "Lida\n",
            "Lide\n",
            "Li\n",
            "Liddrus\n",
            "Liebind\n",
            "Lieckais\n",
            "Lie\n",
            "Lieco Pie\n",
            "Lie\n",
            "Liech\n",
            "Lieli\n",
            "Lielovie\n",
            "Liely\n",
            "Liely Bargey\n",
            "Lien\n",
            "Liesta\n",
            "Liffi\n",
            "Liezer\n",
            "Ligab\n",
            "Ligac\n",
            "Ligalu\n",
            "Ligter\n",
            "Ligatus\n",
            "Lijith\n",
            "Lika\n",
            "Liken\n",
            "Likens\n",
            "Liki\n",
            "Liki\n",
            "Likiti\n",
            "Liki\n",
            "\n"
          ]
        }
      ],
      "source": [
        "import torch\n",
        "import torch.nn as nn\n",
        "from torch.nn import functional as F\n",
        "\n",
        "# hyperparameters\n",
        "batch_size = 16 # how many independent sequences will we process in parallel?\n",
        "block_size = 32 # what is the maximum context length for predictions?\n",
        "max_iters = 5000\n",
        "eval_interval = 100\n",
        "learning_rate = 1e-3\n",
        "device = 'cuda' if torch.cuda.is_available() else 'cpu'\n",
        "eval_iters = 200\n",
        "n_embd = 64\n",
        "n_head = 4\n",
        "n_layer = 4\n",
        "dropout = 0.0\n",
        "# ------------\n",
        "\n",
        "torch.manual_seed(1337)\n",
        "\n",
        "# wget https://raw.githubusercontent.com/CIDS-484-Spring-2024/ChatCat-GPT/main/GPTtrainingsample/input.txt\n",
        "with open('input.txt', 'r', encoding='utf-8') as f:\n",
        "    text = f.read()\n",
        "\n",
        "# here are all the unique characters that occur in this text\n",
        "chars = sorted(list(set(text)))\n",
        "vocab_size = len(chars)\n",
        "# create a mapping from characters to integers\n",
        "stoi = { ch:i for i,ch in enumerate(chars) }\n",
        "itos = { i:ch for i,ch in enumerate(chars) }\n",
        "encode = lambda s: [stoi[c] for c in s] # encoder: take a string, output a list of integers\n",
        "decode = lambda l: ''.join([itos[i] for i in l]) # decoder: take a list of integers, output a string\n",
        "\n",
        "# Train and test splits\n",
        "data = torch.tensor(encode(text), dtype=torch.long)\n",
        "n = int(0.9*len(data)) # first 90% will be train, rest val\n",
        "train_data = data[:n]\n",
        "val_data = data[n:]\n",
        "\n",
        "# data loading\n",
        "def get_batch(split):\n",
        "    # generate a small batch of data of inputs x and targets y\n",
        "    data = train_data if split == 'train' else val_data\n",
        "    ix = torch.randint(len(data) - block_size, (batch_size,))\n",
        "    x = torch.stack([data[i:i+block_size] for i in ix])\n",
        "    y = torch.stack([data[i+1:i+block_size+1] for i in ix])\n",
        "    x, y = x.to(device), y.to(device)\n",
        "    return x, y\n",
        "\n",
        "@torch.no_grad()\n",
        "def estimate_loss():\n",
        "    out = {}\n",
        "    model.eval()\n",
        "    for split in ['train', 'val']:\n",
        "        losses = torch.zeros(eval_iters)\n",
        "        for k in range(eval_iters):\n",
        "            X, Y = get_batch(split)\n",
        "            logits, loss = model(X, Y)\n",
        "            losses[k] = loss.item()\n",
        "        out[split] = losses.mean()\n",
        "    model.train()\n",
        "    return out\n",
        "\n",
        "class Head(nn.Module):\n",
        "    \"\"\" one head of self-attention \"\"\"\n",
        "\n",
        "    def __init__(self, head_size):\n",
        "        super().__init__()\n",
        "        self.key = nn.Linear(n_embd, head_size, bias=False)\n",
        "        self.query = nn.Linear(n_embd, head_size, bias=False)\n",
        "        self.value = nn.Linear(n_embd, head_size, bias=False)\n",
        "        self.register_buffer('tril', torch.tril(torch.ones(block_size, block_size)))\n",
        "\n",
        "        self.dropout = nn.Dropout(dropout)\n",
        "\n",
        "    def forward(self, x):\n",
        "        B,T,C = x.shape\n",
        "        k = self.key(x)   # (B,T,C)\n",
        "        q = self.query(x) # (B,T,C)\n",
        "        # compute attention scores (\"affinities\")\n",
        "        wei = q @ k.transpose(-2,-1) * C**-0.5 # (B, T, C) @ (B, C, T) -> (B, T, T)\n",
        "        wei = wei.masked_fill(self.tril[:T, :T] == 0, float('-inf')) # (B, T, T)\n",
        "        wei = F.softmax(wei, dim=-1) # (B, T, T)\n",
        "        wei = self.dropout(wei)\n",
        "        # perform the weighted aggregation of the values\n",
        "        v = self.value(x) # (B,T,C)\n",
        "        out = wei @ v # (B, T, T) @ (B, T, C) -> (B, T, C)\n",
        "        return out\n",
        "\n",
        "class MultiHeadAttention(nn.Module):\n",
        "    \"\"\" multiple heads of self-attention in parallel \"\"\"\n",
        "\n",
        "    def __init__(self, num_heads, head_size):\n",
        "        super().__init__()\n",
        "        self.heads = nn.ModuleList([Head(head_size) for _ in range(num_heads)])\n",
        "        self.proj = nn.Linear(n_embd, n_embd)\n",
        "        self.dropout = nn.Dropout(dropout)\n",
        "\n",
        "    def forward(self, x):\n",
        "        out = torch.cat([h(x) for h in self.heads], dim=-1)\n",
        "        out = self.dropout(self.proj(out))\n",
        "        return out\n",
        "\n",
        "class FeedFoward(nn.Module):\n",
        "    \"\"\" a simple linear layer followed by a non-linearity \"\"\"\n",
        "\n",
        "    def __init__(self, n_embd):\n",
        "        super().__init__()\n",
        "        self.net = nn.Sequential(\n",
        "            nn.Linear(n_embd, 4 * n_embd),\n",
        "            nn.ReLU(),\n",
        "            nn.Linear(4 * n_embd, n_embd),\n",
        "            nn.Dropout(dropout),\n",
        "        )\n",
        "\n",
        "    def forward(self, x):\n",
        "        return self.net(x)\n",
        "\n",
        "class Block(nn.Module):\n",
        "    \"\"\" Transformer block: communication followed by computation \"\"\"\n",
        "\n",
        "    def __init__(self, n_embd, n_head):\n",
        "        # n_embd: embedding dimension, n_head: the number of heads we'd like\n",
        "        super().__init__()\n",
        "        head_size = n_embd // n_head\n",
        "        self.sa = MultiHeadAttention(n_head, head_size)\n",
        "        self.ffwd = FeedFoward(n_embd)\n",
        "        self.ln1 = nn.LayerNorm(n_embd)\n",
        "        self.ln2 = nn.LayerNorm(n_embd)\n",
        "\n",
        "    def forward(self, x):\n",
        "        x = x + self.sa(self.ln1(x))\n",
        "        x = x + self.ffwd(self.ln2(x))\n",
        "        return x\n",
        "\n",
        "# super simple bigram model\n",
        "class BigramLanguageModel(nn.Module):\n",
        "\n",
        "    def __init__(self):\n",
        "        super().__init__()\n",
        "        # each token directly reads off the logits for the next token from a lookup table\n",
        "        self.token_embedding_table = nn.Embedding(vocab_size, n_embd)\n",
        "        self.position_embedding_table = nn.Embedding(block_size, n_embd)\n",
        "        self.blocks = nn.Sequential(*[Block(n_embd, n_head=n_head) for _ in range(n_layer)])\n",
        "        self.ln_f = nn.LayerNorm(n_embd) # final layer norm\n",
        "        self.lm_head = nn.Linear(n_embd, vocab_size)\n",
        "\n",
        "    def forward(self, idx, targets=None):\n",
        "        B, T = idx.shape\n",
        "\n",
        "        # idx and targets are both (B,T) tensor of integers\n",
        "        tok_emb = self.token_embedding_table(idx) # (B,T,C)\n",
        "        pos_emb = self.position_embedding_table(torch.arange(T, device=device)) # (T,C)\n",
        "        x = tok_emb + pos_emb # (B,T,C)\n",
        "        x = self.blocks(x) # (B,T,C)\n",
        "        x = self.ln_f(x) # (B,T,C)\n",
        "        logits = self.lm_head(x) # (B,T,vocab_size)\n",
        "\n",
        "        if targets is None:\n",
        "            loss = None\n",
        "        else:\n",
        "            B, T, C = logits.shape\n",
        "            logits = logits.view(B*T, C)\n",
        "            targets = targets.view(B*T)\n",
        "            loss = F.cross_entropy(logits, targets)\n",
        "\n",
        "        return logits, loss\n",
        "\n",
        "    def generate(self, idx, max_new_tokens):\n",
        "        # idx is (B, T) array of indices in the current context\n",
        "        for _ in range(max_new_tokens):\n",
        "            # crop idx to the last block_size tokens\n",
        "            idx_cond = idx[:, -block_size:]\n",
        "            # get the predictions\n",
        "            logits, loss = self(idx_cond)\n",
        "            # focus only on the last time step\n",
        "            logits = logits[:, -1, :] # becomes (B, C)\n",
        "            # apply softmax to get probabilities\n",
        "            probs = F.softmax(logits, dim=-1) # (B, C)\n",
        "            # sample from the distribution\n",
        "            idx_next = torch.multinomial(probs, num_samples=1) # (B, 1)\n",
        "            # append sampled index to the running sequence\n",
        "            idx = torch.cat((idx, idx_next), dim=1) # (B, T+1)\n",
        "        return idx\n",
        "\n",
        "model = BigramLanguageModel()\n",
        "m = model.to(device)\n",
        "# print the number of parameters in the model\n",
        "print(sum(p.numel() for p in m.parameters())/1e6, 'M parameters')\n",
        "\n",
        "# create a PyTorch optimizer\n",
        "optimizer = torch.optim.AdamW(model.parameters(), lr=learning_rate)\n",
        "\n",
        "for iter in range(max_iters):\n",
        "\n",
        "    # every once in a while evaluate the loss on train and val sets\n",
        "    if iter % eval_interval == 0 or iter == max_iters - 1:\n",
        "        losses = estimate_loss()\n",
        "        print(f\"step {iter}: train loss {losses['train']:.4f}, val loss {losses['val']:.4f}\")\n",
        "\n",
        "    # sample a batch of data\n",
        "    xb, yb = get_batch('train')\n",
        "\n",
        "    # evaluate the loss\n",
        "    logits, loss = model(xb, yb)\n",
        "    optimizer.zero_grad(set_to_none=True)\n",
        "    loss.backward()\n",
        "    optimizer.step()\n",
        "\n",
        "# generate from the model\n",
        "context = torch.zeros((1, 1), dtype=torch.long, device=device)\n",
        "print(decode(m.generate(context, max_new_tokens=2000)[0].tolist()))\n"
      ]
    },
    {
      "cell_type": "code",
      "execution_count": null,
      "metadata": {
        "id": "fjjvMifYZf7x"
      },
      "outputs": [],
      "source": []
    }
  ],
  "metadata": {
    "colab": {
      "provenance": []
    },
    "kernelspec": {
      "display_name": "Python 3",
      "name": "python3"
    },
    "language_info": {
      "codemirror_mode": {
        "name": "ipython",
        "version": 3
      },
      "file_extension": ".py",
      "mimetype": "text/x-python",
      "name": "python",
      "nbconvert_exporter": "python",
      "pygments_lexer": "ipython3",
      "version": "3.12.1"
    }
  },
  "nbformat": 4,
  "nbformat_minor": 0
}
